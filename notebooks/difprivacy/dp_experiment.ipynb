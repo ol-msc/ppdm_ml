{
 "cells": [
  {
   "cell_type": "markdown",
   "id": "947370de",
   "metadata": {},
   "source": [
    "## DIFFERENTIAL PRIVACY USING PYDP"
   ]
  },
  {
   "cell_type": "markdown",
   "id": "56441019",
   "metadata": {},
   "source": [
    "### Imports"
   ]
  },
  {
   "cell_type": "code",
   "execution_count": 1,
   "id": "dea1d6ad",
   "metadata": {},
   "outputs": [],
   "source": [
    "import pydp as dp # by convention our package is to be imported as dp (dp for Differential Privacy!)\n",
    "from pydp.algorithms.laplacian import BoundedSum, BoundedMean, Count, Max\n",
    "import pandas as pd\n"
   ]
  },
  {
   "cell_type": "markdown",
   "id": "71c3ddc8",
   "metadata": {},
   "source": [
    "### Fetching required data"
   ]
  },
  {
   "cell_type": "code",
   "execution_count": 4,
   "id": "2c4a0925",
   "metadata": {},
   "outputs": [
    {
     "name": "stdout",
     "output_type": "stream",
     "text": [
      "   id first_name   last_name                      email  sales_amount  \\\n",
      "0   1   Osbourne    Gillions  ogillions0@feedburner.com         31.94   \n",
      "1   2      Glynn      Friett          gfriett1@blog.com         12.46   \n",
      "2   3       Jori    Blockley      jblockley2@unesco.org        191.14   \n",
      "3   4     Garald      Dorian     gdorian3@webeden.co.uk        126.58   \n",
      "4   5      Mercy  Pilkington      mpilkington4@jugem.jp         68.32   \n",
      "\n",
      "        state  \n",
      "0     Florida  \n",
      "1  California  \n",
      "2    Colorado  \n",
      "3       Texas  \n",
      "4     Florida  \n",
      "(5000, 6)\n"
     ]
    }
   ],
   "source": [
    "base_dir = '../../'\n",
    "paths = ['data/dp_data/01.csv', 'data/dp_data/02.csv', 'data/dp_data/03.csv', 'data/dp_data/04.csv', 'data/dp_data/05.csv']\n",
    "\n",
    "combined_df_temp = map(lambda url: pd.read_csv(base_dir + url, sep=',', engine='python'), paths )\n",
    "original_dataset = pd.concat(combined_df_temp)\n",
    "print(original_dataset.head())\n",
    "print(original_dataset.shape)"
   ]
  },
  {
   "cell_type": "markdown",
   "id": "42985e92",
   "metadata": {},
   "source": [
    "### Creating a Paralel Database\n",
    "Differ by only one record"
   ]
  },
  {
   "cell_type": "code",
   "execution_count": 5,
   "id": "8054d27e",
   "metadata": {
    "scrolled": true
   },
   "outputs": [
    {
     "name": "stdout",
     "output_type": "stream",
     "text": [
      "   id first_name   last_name                      email  sales_amount  \\\n",
      "0   1   Osbourne    Gillions  ogillions0@feedburner.com         31.94   \n",
      "1   2      Glynn      Friett          gfriett1@blog.com         12.46   \n",
      "2   3       Jori    Blockley      jblockley2@unesco.org        191.14   \n",
      "3   4     Garald      Dorian     gdorian3@webeden.co.uk        126.58   \n",
      "4   5      Mercy  Pilkington      mpilkington4@jugem.jp         68.32   \n",
      "\n",
      "        state  \n",
      "0     Florida  \n",
      "1  California  \n",
      "2    Colorado  \n",
      "3       Texas  \n",
      "4     Florida  \n",
      "   id first_name   last_name                    email  sales_amount  \\\n",
      "1   2      Glynn      Friett        gfriett1@blog.com         12.46   \n",
      "2   3       Jori    Blockley    jblockley2@unesco.org        191.14   \n",
      "3   4     Garald      Dorian   gdorian3@webeden.co.uk        126.58   \n",
      "4   5      Mercy  Pilkington    mpilkington4@jugem.jp         68.32   \n",
      "5   6       Elle  McConachie  emcconachie5@census.gov         76.91   \n",
      "\n",
      "        state  \n",
      "1  California  \n",
      "2    Colorado  \n",
      "3       Texas  \n",
      "4     Florida  \n",
      "5       Texas  \n"
     ]
    }
   ],
   "source": [
    "redact_dataset = original_dataset.copy()\n",
    "redact_dataset = redact_dataset[1:]\n",
    "print(original_dataset.head())\n",
    "print(redact_dataset.head())"
   ]
  },
  {
   "cell_type": "markdown",
   "id": "409a30d4",
   "metadata": {},
   "source": [
    "#### SuccessfulMembership inference"
   ]
  },
  {
   "cell_type": "code",
   "execution_count": 9,
   "id": "b25dcc8c",
   "metadata": {},
   "outputs": [
    {
     "data": {
      "text/plain": "31.94"
     },
     "execution_count": 9,
     "metadata": {},
     "output_type": "execute_result"
    }
   ],
   "source": [
    "sum_original_dataset = round(sum(original_dataset['sales_amount'].to_list()), 2)\n",
    "sum_redact_dataset = round(sum(redact_dataset['sales_amount'].to_list()), 2)\n",
    "sales_amount_Osbourne = round((sum_original_dataset - sum_redact_dataset), 2)\n",
    "assert sales_amount_Osbourne == original_dataset.iloc[0, 4]\n",
    "sales_amount_Osbourne"
   ]
  },
  {
   "cell_type": "code",
   "execution_count": 10,
   "id": "82d1fb43",
   "metadata": {},
   "outputs": [
    {
     "name": "stdout",
     "output_type": "stream",
     "text": [
      "636594.59 - 636562.65\n"
     ]
    }
   ],
   "source": [
    "print(f\"{sum_original_dataset} - {sum_redact_dataset}\")"
   ]
  },
  {
   "cell_type": "markdown",
   "id": "e542af01",
   "metadata": {},
   "source": [
    "### Differentially Private Sum for original dataset"
   ]
  },
  {
   "cell_type": "code",
   "execution_count": 11,
   "id": "2ea17003",
   "metadata": {},
   "outputs": [
    {
     "name": "stdout",
     "output_type": "stream",
     "text": [
      "636553.73\n"
     ]
    }
   ],
   "source": [
    "dp_sum_original_dataset = BoundedSum(epsilon= 1.5, lower_bound =  5, upper_bound = 250, dtype ='float') \n",
    "dp_sum_og = dp_sum_original_dataset.quick_result(original_dataset['sales_amount'].to_list())\n",
    "dp_sum_og = round(dp_sum_og, 2)\n",
    "print(dp_sum_og)"
   ]
  },
  {
   "cell_type": "markdown",
   "id": "0788fb85",
   "metadata": {},
   "source": [
    "### Differentially Private Sum for parallel dataset"
   ]
  },
  {
   "cell_type": "code",
   "execution_count": 12,
   "id": "22a2cd0a",
   "metadata": {},
   "outputs": [
    {
     "name": "stdout",
     "output_type": "stream",
     "text": [
      "636734.35\n"
     ]
    }
   ],
   "source": [
    "dp_redact_dataset = BoundedSum(epsilon= 1.5, lower_bound =  5, upper_bound = 250, dtype ='float')\n",
    "dp_redact_dataset.add_entries(redact_dataset['sales_amount'].to_list())\n",
    "dp_sum_redact=round(dp_redact_dataset.result(), 2)\n",
    "print(dp_sum_redact)"
   ]
  },
  {
   "cell_type": "code",
   "execution_count": 13,
   "id": "a0f1380d",
   "metadata": {},
   "outputs": [],
   "source": [
    "dp_sum_original_dataset = BoundedSum(epsilon= 1.5, lower_bound =  5, upper_bound = 250, dtype ='float')\n",
    "\n",
    "dp_redact_dataset = BoundedSum(epsilon= 1.5, lower_bound =  5, upper_bound = 250, dtype ='float')\n"
   ]
  },
  {
   "cell_type": "markdown",
   "id": "823bde8f",
   "metadata": {},
   "source": [
    "### Summary"
   ]
  },
  {
   "cell_type": "code",
   "execution_count": 14,
   "id": "b33e2c75",
   "metadata": {},
   "outputs": [
    {
     "name": "stdout",
     "output_type": "stream",
     "text": [
      "Sum of sales_value in the orignal dataset: 636594.59\n",
      "Sum of sales_value in the orignal dataset with DP: 636553.73\n",
      "Sum of sales_value in the second dataset: 636562.65\n",
      "Sum of sales_value in the second dataset with DP: 636734.35\n",
      "Difference in Sum with DP: -180.62\n",
      "Actual Difference in Sum: 31.94\n"
     ]
    }
   ],
   "source": [
    "print(f\"Sum of sales_value in the orignal dataset: {sum_original_dataset}\")\n",
    "print(f\"Sum of sales_value in the orignal dataset with DP: {dp_sum_og}\")\n",
    "assert dp_sum_og != sum_original_dataset\n",
    "\n",
    "\n",
    "print(f\"Sum of sales_value in the second dataset: {sum_redact_dataset}\")\n",
    "print(f\"Sum of sales_value in the second dataset with DP: {dp_sum_redact}\")\n",
    "assert dp_sum_redact != sum_redact_dataset\n",
    "\n",
    "\n",
    "print(f\"Difference in Sum with DP: {round(dp_sum_og - dp_sum_redact, 2)}\")\n",
    "print(f\"Actual Difference in Sum: {sales_amount_Osbourne}\")\n",
    "assert round(dp_sum_og - dp_sum_redact, 2) != sales_amount_Osbourne"
   ]
  }
 ],
 "metadata": {
  "kernelspec": {
   "display_name": "Python 3",
   "language": "python",
   "name": "python3"
  },
  "language_info": {
   "codemirror_mode": {
    "name": "ipython",
    "version": 3
   },
   "file_extension": ".py",
   "mimetype": "text/x-python",
   "name": "python",
   "nbconvert_exporter": "python",
   "pygments_lexer": "ipython3",
   "version": "3.8.8"
  }
 },
 "nbformat": 4,
 "nbformat_minor": 5
}