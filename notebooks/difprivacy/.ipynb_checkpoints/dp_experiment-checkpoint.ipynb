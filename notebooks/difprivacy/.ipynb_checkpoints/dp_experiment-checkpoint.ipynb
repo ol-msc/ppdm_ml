{
 "cells": [
  {
   "cell_type": "markdown",
   "id": "947370de",
   "metadata": {},
   "source": [
    "## DIFFERENTIAL PRIVACY USING PYDP"
   ]
  },
  {
   "cell_type": "markdown",
   "id": "56441019",
   "metadata": {},
   "source": [
    "### Imports"
   ]
  },
  {
   "cell_type": "code",
   "execution_count": 2,
   "id": "dea1d6ad",
   "metadata": {},
   "outputs": [],
   "source": [
    "import pydp as dp # by convention our package is to be imported as dp (dp for Differential Privacy!)\n",
    "from pydp.algorithms.laplacian import BoundedSum, BoundedMean, Count, Max\n",
    "import pandas as pd\n",
    "import statistics \n",
    "import numpy as np\n",
    "import matplotlib.pyplot as plt\n",
    "\n",
    "# https://blog.openmined.org/differential-privacy-using-pydp/"
   ]
  },
  {
   "cell_type": "markdown",
   "id": "71c3ddc8",
   "metadata": {},
   "source": [
    "### Fetching required data"
   ]
  },
  {
   "cell_type": "code",
   "execution_count": 3,
   "id": "2c4a0925",
   "metadata": {},
   "outputs": [
    {
     "name": "stdout",
     "output_type": "stream",
     "text": [
      "   id first_name   last_name                      email  sales_amount  \\\n",
      "0   1   Osbourne    Gillions  ogillions0@feedburner.com         31.94   \n",
      "1   2      Glynn      Friett          gfriett1@blog.com         12.46   \n",
      "2   3       Jori    Blockley      jblockley2@unesco.org        191.14   \n",
      "3   4     Garald      Dorian     gdorian3@webeden.co.uk        126.58   \n",
      "4   5      Mercy  Pilkington      mpilkington4@jugem.jp         68.32   \n",
      "\n",
      "        state  \n",
      "0     Florida  \n",
      "1  California  \n",
      "2    Colorado  \n",
      "3       Texas  \n",
      "4     Florida  \n"
     ]
    }
   ],
   "source": [
    "url1 = 'https://raw.githubusercontent.com/OpenMined/PyDP/dev/examples/Tutorial_4-Launch_demo/data/01.csv'\n",
    "df1 = pd.read_csv(url1,sep=\",\", engine = \"python\")\n",
    "print(df1.head())"
   ]
  },
  {
   "cell_type": "code",
   "execution_count": 4,
   "id": "2b23de1a",
   "metadata": {},
   "outputs": [
    {
     "name": "stdout",
     "output_type": "stream",
     "text": [
      "   id first_name    last_name                        email  sales_amount  \\\n",
      "0   1     Wallie        Kaman          wkaman0@samsung.com         99.69   \n",
      "1   2    Raynard        Tooby        rtooby1@indiegogo.com        208.61   \n",
      "2   3     Mandie  Stallibrass  mstallibrass2@princeton.edu         42.87   \n",
      "3   4      Nonna       Regitz             nregitz3@icq.com        160.94   \n",
      "4   5    Barthel      Cowgill            bcowgill4@tiny.cc        179.88   \n",
      "\n",
      "      state  \n",
      "0     Idaho  \n",
      "1     Texas  \n",
      "2  Michigan  \n",
      "3      Iowa  \n",
      "4      Ohio  \n"
     ]
    }
   ],
   "source": [
    "url2 = 'https://raw.githubusercontent.com/OpenMined/PyDP/dev/examples/Tutorial_4-Launch_demo/data/02.csv'\n",
    "df2 = pd.read_csv(url2,sep=\",\", engine = \"python\")\n",
    "print(df2.head())"
   ]
  },
  {
   "cell_type": "code",
   "execution_count": 5,
   "id": "70ee23c1",
   "metadata": {},
   "outputs": [
    {
     "data": {
      "text/html": [
       "<div>\n",
       "<style scoped>\n",
       "    .dataframe tbody tr th:only-of-type {\n",
       "        vertical-align: middle;\n",
       "    }\n",
       "\n",
       "    .dataframe tbody tr th {\n",
       "        vertical-align: top;\n",
       "    }\n",
       "\n",
       "    .dataframe thead th {\n",
       "        text-align: right;\n",
       "    }\n",
       "</style>\n",
       "<table border=\"1\" class=\"dataframe\">\n",
       "  <thead>\n",
       "    <tr style=\"text-align: right;\">\n",
       "      <th></th>\n",
       "      <th>id</th>\n",
       "      <th>first_name</th>\n",
       "      <th>last_name</th>\n",
       "      <th>email</th>\n",
       "      <th>sales_amount</th>\n",
       "      <th>state</th>\n",
       "    </tr>\n",
       "  </thead>\n",
       "  <tbody>\n",
       "    <tr>\n",
       "      <th>0</th>\n",
       "      <td>1</td>\n",
       "      <td>Tomasina</td>\n",
       "      <td>Marcos</td>\n",
       "      <td>tmarcos0@wix.com</td>\n",
       "      <td>161.38</td>\n",
       "      <td>Indiana</td>\n",
       "    </tr>\n",
       "    <tr>\n",
       "      <th>1</th>\n",
       "      <td>2</td>\n",
       "      <td>Mill</td>\n",
       "      <td>Yitzhak</td>\n",
       "      <td>myitzhak1@barnesandnoble.com</td>\n",
       "      <td>182.22</td>\n",
       "      <td>Florida</td>\n",
       "    </tr>\n",
       "    <tr>\n",
       "      <th>2</th>\n",
       "      <td>3</td>\n",
       "      <td>Hobart</td>\n",
       "      <td>Banaszczyk</td>\n",
       "      <td>hbanaszczyk2@mac.com</td>\n",
       "      <td>41.67</td>\n",
       "      <td>Texas</td>\n",
       "    </tr>\n",
       "    <tr>\n",
       "      <th>3</th>\n",
       "      <td>4</td>\n",
       "      <td>Bonita</td>\n",
       "      <td>Benting</td>\n",
       "      <td>bbenting3@smugmug.com</td>\n",
       "      <td>190.26</td>\n",
       "      <td>Indiana</td>\n",
       "    </tr>\n",
       "    <tr>\n",
       "      <th>4</th>\n",
       "      <td>5</td>\n",
       "      <td>Kasper</td>\n",
       "      <td>Deyes</td>\n",
       "      <td>kdeyes4@storify.com</td>\n",
       "      <td>177.94</td>\n",
       "      <td>Ohio</td>\n",
       "    </tr>\n",
       "  </tbody>\n",
       "</table>\n",
       "</div>"
      ],
      "text/plain": [
       "   id first_name   last_name                         email  sales_amount  \\\n",
       "0   1   Tomasina      Marcos              tmarcos0@wix.com        161.38   \n",
       "1   2       Mill     Yitzhak  myitzhak1@barnesandnoble.com        182.22   \n",
       "2   3     Hobart  Banaszczyk          hbanaszczyk2@mac.com         41.67   \n",
       "3   4     Bonita     Benting         bbenting3@smugmug.com        190.26   \n",
       "4   5     Kasper       Deyes           kdeyes4@storify.com        177.94   \n",
       "\n",
       "     state  \n",
       "0  Indiana  \n",
       "1  Florida  \n",
       "2    Texas  \n",
       "3  Indiana  \n",
       "4     Ohio  "
      ]
     },
     "execution_count": 5,
     "metadata": {},
     "output_type": "execute_result"
    }
   ],
   "source": [
    "url3 ='https://raw.githubusercontent.com/OpenMined/PyDP/dev/examples/Tutorial_4-Launch_demo/data/03.csv'\n",
    "df3 = pd.read_csv(url3,sep=\",\", engine = \"python\")\n",
    "df3.head()"
   ]
  },
  {
   "cell_type": "code",
   "execution_count": 6,
   "id": "555026d5",
   "metadata": {},
   "outputs": [
    {
     "name": "stdout",
     "output_type": "stream",
     "text": [
      "   id first_name last_name                         email  sales_amount  \\\n",
      "0   1      Dylan  Mattocks  dmattocks0@elegantthemes.com        141.90   \n",
      "1   2      Tully    Pettko         tpettko1@engadget.com         15.09   \n",
      "2   3        Ruy   Rodrigo      rrodrigo2@whitehouse.gov         90.72   \n",
      "3   4   Blakeley     Lower        blower3@macromedia.com         29.87   \n",
      "4   5     Horace  Studdert    hstuddert4@theatlantic.com        196.99   \n",
      "\n",
      "        state  \n",
      "0   Wisconsin  \n",
      "1    Missouri  \n",
      "2     Florida  \n",
      "3  California  \n",
      "4        Ohio  \n"
     ]
    }
   ],
   "source": [
    "url4 = 'https://raw.githubusercontent.com/OpenMined/PyDP/dev/examples/Tutorial_4-Launch_demo/data/04.csv'\n",
    "df4 = pd.read_csv(url4,sep=\",\", engine = \"python\")\n",
    "print(df4.head())"
   ]
  },
  {
   "cell_type": "code",
   "execution_count": 7,
   "id": "32b5e85b",
   "metadata": {},
   "outputs": [
    {
     "name": "stdout",
     "output_type": "stream",
     "text": [
      "   id first_name last_name                    email  sales_amount       state\n",
      "0   1       Susi    Barker     sbarker0@comsenz.com        220.50    Kentucky\n",
      "1   2        Gan     Stork          gstork1@who.int         31.75  California\n",
      "2   3     Corene      Izod         cizod2@wikia.com        163.53  California\n",
      "3   4    Cornell  Schoales  cschoales3@freewebs.com         59.09   Minnesota\n",
      "4   5    Petrina  Kennaird     pkennaird4@patch.com        186.38     Georgia\n"
     ]
    }
   ],
   "source": [
    "url5 = 'https://raw.githubusercontent.com/OpenMined/PyDP/dev/examples/Tutorial_4-Launch_demo/data/05.csv'\n",
    "df5 = pd.read_csv(url5,sep=\",\", engine = \"python\")\n",
    "print(df5.head())"
   ]
  },
  {
   "cell_type": "markdown",
   "id": "2a960d7c",
   "metadata": {},
   "source": [
    "### concatenate all the DataFrames into a single large DataFrame"
   ]
  },
  {
   "cell_type": "code",
   "execution_count": 8,
   "id": "1d011c7b",
   "metadata": {},
   "outputs": [
    {
     "name": "stdout",
     "output_type": "stream",
     "text": [
      "(5000, 6)\n"
     ]
    }
   ],
   "source": [
    "combined_df_temp = [df1, df2, df3, df4, df5]\n",
    "original_dataset = pd.concat(combined_df_temp)\n",
    "print(original_dataset.shape)\n"
   ]
  },
  {
   "cell_type": "markdown",
   "id": "42985e92",
   "metadata": {},
   "source": [
    "### Creating a Paralel Database\n",
    "Differ by only one record"
   ]
  },
  {
   "cell_type": "code",
   "execution_count": 9,
   "id": "8054d27e",
   "metadata": {
    "scrolled": true
   },
   "outputs": [
    {
     "name": "stdout",
     "output_type": "stream",
     "text": [
      "   id first_name   last_name                      email  sales_amount  \\\n",
      "0   1   Osbourne    Gillions  ogillions0@feedburner.com         31.94   \n",
      "1   2      Glynn      Friett          gfriett1@blog.com         12.46   \n",
      "2   3       Jori    Blockley      jblockley2@unesco.org        191.14   \n",
      "3   4     Garald      Dorian     gdorian3@webeden.co.uk        126.58   \n",
      "4   5      Mercy  Pilkington      mpilkington4@jugem.jp         68.32   \n",
      "\n",
      "        state  \n",
      "0     Florida  \n",
      "1  California  \n",
      "2    Colorado  \n",
      "3       Texas  \n",
      "4     Florida  \n",
      "   id first_name   last_name                    email  sales_amount  \\\n",
      "1   2      Glynn      Friett        gfriett1@blog.com         12.46   \n",
      "2   3       Jori    Blockley    jblockley2@unesco.org        191.14   \n",
      "3   4     Garald      Dorian   gdorian3@webeden.co.uk        126.58   \n",
      "4   5      Mercy  Pilkington    mpilkington4@jugem.jp         68.32   \n",
      "5   6       Elle  McConachie  emcconachie5@census.gov         76.91   \n",
      "\n",
      "        state  \n",
      "1  California  \n",
      "2    Colorado  \n",
      "3       Texas  \n",
      "4     Florida  \n",
      "5       Texas  \n"
     ]
    }
   ],
   "source": [
    "redact_dataset = original_dataset.copy()\n",
    "redact_dataset = redact_dataset[1:]\n",
    "print(original_dataset.head())\n",
    "print(redact_dataset.head())"
   ]
  },
  {
   "cell_type": "markdown",
   "id": "409a30d4",
   "metadata": {},
   "source": [
    "#### SuccessfulMembership inference"
   ]
  },
  {
   "cell_type": "code",
   "execution_count": 10,
   "id": "b25dcc8c",
   "metadata": {},
   "outputs": [
    {
     "data": {
      "text/plain": [
       "31.94"
      ]
     },
     "execution_count": 10,
     "metadata": {},
     "output_type": "execute_result"
    }
   ],
   "source": [
    "sum_original_dataset = round(sum(original_dataset['sales_amount'].to_list()), 2)\n",
    "sum_redact_dataset = round(sum(redact_dataset['sales_amount'].to_list()), 2)\n",
    "sales_amount_Osbourne = round((sum_original_dataset - sum_redact_dataset), 2)\n",
    "assert sales_amount_Osbourne == original_dataset.iloc[0, 4]\n",
    "sales_amount_Osbourne"
   ]
  },
  {
   "cell_type": "code",
   "execution_count": 12,
   "id": "82d1fb43",
   "metadata": {},
   "outputs": [
    {
     "name": "stdout",
     "output_type": "stream",
     "text": [
      "636594.59 - 636562.65\n"
     ]
    }
   ],
   "source": [
    "print(f\"{sum_original_dataset} - {sum_redact_dataset}\")"
   ]
  },
  {
   "cell_type": "markdown",
   "id": "e542af01",
   "metadata": {},
   "source": [
    "### Differentially Private Sum for original dataset"
   ]
  },
  {
   "cell_type": "code",
   "execution_count": 13,
   "id": "2ea17003",
   "metadata": {},
   "outputs": [
    {
     "name": "stdout",
     "output_type": "stream",
     "text": [
      "636494.61\n"
     ]
    }
   ],
   "source": [
    "dp_sum_original_dataset = BoundedSum(epsilon= 1.5, lower_bound =  5, upper_bound = 250, dtype ='float') \n",
    "dp_sum_og = dp_sum_original_dataset.quick_result(original_dataset['sales_amount'].to_list())\n",
    "dp_sum_og = round(dp_sum_og, 2)\n",
    "print(dp_sum_og)"
   ]
  },
  {
   "cell_type": "markdown",
   "id": "0788fb85",
   "metadata": {},
   "source": [
    "### Differentially Private Sum for parallel dataset"
   ]
  },
  {
   "cell_type": "code",
   "execution_count": 16,
   "id": "22a2cd0a",
   "metadata": {},
   "outputs": [
    {
     "name": "stdout",
     "output_type": "stream",
     "text": [
      "636598.88\n"
     ]
    }
   ],
   "source": [
    "dp_redact_dataset = BoundedSum(epsilon= 1.5, lower_bound =  5, upper_bound = 250, dtype ='float')\n",
    "dp_redact_dataset.add_entries(redact_dataset['sales_amount'].to_list())\n",
    "dp_sum_redact=round(dp_redact_dataset.result(), 2)\n",
    "print(dp_sum_redact)"
   ]
  },
  {
   "cell_type": "code",
   "execution_count": null,
   "id": "a0f1380d",
   "metadata": {},
   "outputs": [],
   "source": [
    "dp_sum_original_dataset = BoundedSum(epsilon= 1.5, lower_bound =  5, upper_bound = 250, dtype ='float')\n",
    "\n",
    "dp_redact_dataset = BoundedSum(epsilon= 1.5, lower_bound =  5, upper_bound = 250, dtype ='float')\n"
   ]
  },
  {
   "cell_type": "markdown",
   "id": "823bde8f",
   "metadata": {},
   "source": [
    "### Summary"
   ]
  },
  {
   "cell_type": "code",
   "execution_count": 17,
   "id": "b33e2c75",
   "metadata": {},
   "outputs": [
    {
     "name": "stdout",
     "output_type": "stream",
     "text": [
      "Sum of sales_value in the orignal dataset: 636594.59\n",
      "Sum of sales_value in the orignal dataset with DP: 636494.61\n",
      "Sum of sales_value in the second dataset: 636562.65\n",
      "Sum of sales_value in the second dataset with DP: 636598.88\n",
      "Difference in Sum with DP: -104.27\n",
      "Actual Difference in Sum: 31.94\n"
     ]
    }
   ],
   "source": [
    "print(f\"Sum of sales_value in the orignal dataset: {sum_original_dataset}\")\n",
    "print(f\"Sum of sales_value in the orignal dataset with DP: {dp_sum_og}\")\n",
    "assert dp_sum_og != sum_original_dataset\n",
    "\n",
    "\n",
    "print(f\"Sum of sales_value in the second dataset: {sum_redact_dataset}\")\n",
    "print(f\"Sum of sales_value in the second dataset with DP: {dp_sum_redact}\")\n",
    "assert dp_sum_redact != sum_redact_dataset\n",
    "\n",
    "\n",
    "print(f\"Difference in Sum with DP: {round(dp_sum_og - dp_sum_redact, 2)}\")\n",
    "print(f\"Actual Difference in Sum: {sales_amount_Osbourne}\")\n",
    "assert round(dp_sum_og - dp_sum_redact, 2) != sales_amount_Osbourne"
   ]
  }
 ],
 "metadata": {
  "kernelspec": {
   "display_name": "Python 3",
   "language": "python",
   "name": "python3"
  },
  "language_info": {
   "codemirror_mode": {
    "name": "ipython",
    "version": 3
   },
   "file_extension": ".py",
   "mimetype": "text/x-python",
   "name": "python",
   "nbconvert_exporter": "python",
   "pygments_lexer": "ipython3",
   "version": "3.8.8"
  }
 },
 "nbformat": 4,
 "nbformat_minor": 5
}
