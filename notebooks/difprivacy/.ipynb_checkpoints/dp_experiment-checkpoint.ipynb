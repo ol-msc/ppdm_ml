{
 "cells": [
  {
   "cell_type": "markdown",
   "id": "947370de",
   "metadata": {},
   "source": [
    "## DIFFERENTIAL PRIVACY USING PYDP\n",
    "\n",
    "This experiment presents implementation of differential privacy concept using PyDP,\n",
    "performing the membership inference attack and proving the fundamental feasibility\n",
    "of differential private algorithm.\n"
   ]
  },
  {
   "cell_type": "markdown",
   "id": "56441019",
   "metadata": {},
   "source": [
    "### Imports\n",
    "import all required libraries"
   ]
  },
  {
   "cell_type": "code",
   "execution_count": null,
   "id": "dea1d6ad",
   "metadata": {},
   "outputs": [],
   "source": [
    "import pydp as dp # by convention our package is to be imported as dp (dp for Differential Privacy!)\n",
    "from pydp.algorithms.laplacian import BoundedSum, BoundedMean, Count, Max\n",
    "import pandas as pd\n"
   ]
  },
  {
   "cell_type": "markdown",
   "id": "71c3ddc8",
   "metadata": {},
   "source": [
    "### Fetching required data\n",
    "Uploading and merging sample dataset from 4 different files.\n",
    "This action could be considered as receiving data form different data sources (data owners)"
   ]
  },
  {
   "cell_type": "code",
   "execution_count": null,
   "id": "2c4a0925",
   "metadata": {},
   "outputs": [],
   "source": [
    "base_dir = '../../'\n",
    "paths = ['data/dp_data/01.csv', 'data/dp_data/02.csv', 'data/dp_data/03.csv', 'data/dp_data/04.csv', 'data/dp_data/05.csv']\n",
    "\n",
    "combined_df_temp = map(lambda url: pd.read_csv(base_dir + url, sep=',', engine='python'), paths )\n",
    "original_dataset = pd.concat(combined_df_temp)\n",
    "display(original_dataset.head())\n",
    "print(original_dataset.shape)"
   ]
  },
  {
   "cell_type": "markdown",
   "id": "42985e92",
   "metadata": {},
   "source": [
    "### Creating a Replicated (Parallel) Database\n",
    "Create the copy of initial dataset what differs with only one (first) record"
   ]
  },
  {
   "cell_type": "code",
   "execution_count": null,
   "id": "8054d27e",
   "metadata": {
    "scrolled": true
   },
   "outputs": [],
   "source": [
    "redact_dataset = original_dataset.copy()\n",
    "redact_dataset = redact_dataset[1:]\n",
    "display(original_dataset.head())\n",
    "display(redact_dataset.head())"
   ]
  },
  {
   "cell_type": "markdown",
   "id": "409a30d4",
   "metadata": {},
   "source": [
    "#### Successful Membership inference\n",
    "Demonstrating the possibility of retrieving record attribute that could possibly\n",
    "identify the individual record and consequently disclose personal information.\n",
    "The Membership inference attack is performed by subtracting the sum of `sales_amount` attribute of original and replicated datasets.\n",
    "As a result, the exact value of first record `sales_amount` attribute is retrieved."
   ]
  },
  {
   "cell_type": "code",
   "execution_count": null,
   "id": "b25dcc8c",
   "metadata": {},
   "outputs": [],
   "source": [
    "sum_original_dataset = round(sum(original_dataset['sales_amount'].to_list()), 2)\n",
    "sum_redact_dataset = round(sum(redact_dataset['sales_amount'].to_list()), 2)\n",
    "sales_amount_Osbourne = round((sum_original_dataset - sum_redact_dataset), 2)\n",
    "assert sales_amount_Osbourne == original_dataset.iloc[0, 4]\n",
    "print(f\"{sum_original_dataset} - {sum_redact_dataset} = {sales_amount_Osbourne}\")"
   ]
  },
  {
   "cell_type": "markdown",
   "id": "e542af01",
   "metadata": {},
   "source": [
    "### Differentially Private Sum for original dataset\n",
    "At this step the differential private sum is performed on original dataset for further result comparison.\n",
    "PyDP framework implements the Differential Private Sum operation\n",
    "based on the laplacian distribution and could be modified by setting\n",
    "the corresponding attribute values.\n",
    "- `epsilon` - privacy budget\n",
    "- `lower_bound` and `upper_bound` - distribution boundaries\n",
    "- `dtype` - values data type"
   ]
  },
  {
   "cell_type": "code",
   "execution_count": null,
   "id": "2ea17003",
   "metadata": {},
   "outputs": [],
   "source": [
    "dp_sum_original_dataset = BoundedSum(epsilon= 1.5, lower_bound =  5, upper_bound = 250, dtype ='float') \n",
    "dp_sum_og = dp_sum_original_dataset.quick_result(original_dataset['sales_amount'].to_list())\n",
    "dp_sum_og = round(dp_sum_og, 2)\n",
    "print(dp_sum_og)"
   ]
  },
  {
   "cell_type": "markdown",
   "id": "0788fb85",
   "metadata": {},
   "source": [
    "### Differentially Private Sum for replicated (parallel) dataset\n",
    "At this step the differential private sum is performed on replicated dataset."
   ]
  },
  {
   "cell_type": "code",
   "execution_count": null,
   "id": "22a2cd0a",
   "metadata": {},
   "outputs": [],
   "source": [
    "dp_redact_dataset = BoundedSum(epsilon= 1.5, lower_bound =  5, upper_bound = 250, dtype ='float')\n",
    "dp_redact_dataset.add_entries(redact_dataset['sales_amount'].to_list())\n",
    "dp_sum_redact=round(dp_redact_dataset.result(), 2)\n",
    "print(dp_sum_redact)"
   ]
  },
  {
   "cell_type": "markdown",
   "id": "823bde8f",
   "metadata": {},
   "source": [
    "### Summary\n",
    "The outputs below show that differential private sum within the original\n",
    "and replicated datasets give the similar result and in the same time,\n",
    "the subtraction does not disclose the first record `sales_amount` attribute value.\n",
    "That proves the impossibility of performing the Membership inference, and\n",
    "consequently the privacy of the first record could be preserved.\n",
    "The conducted experiment is considered as successful."
   ]
  },
  {
   "cell_type": "code",
   "execution_count": null,
   "id": "b33e2c75",
   "metadata": {},
   "outputs": [],
   "source": [
    "print(f\"Sum of sales_value in the orignal dataset: {sum_original_dataset}\")\n",
    "print(f\"Sum of sales_value in the orignal dataset with DP: {dp_sum_og}\")\n",
    "assert dp_sum_og != sum_original_dataset\n",
    "\n",
    "\n",
    "print(f\"Sum of sales_value in the second dataset: {sum_redact_dataset}\")\n",
    "print(f\"Sum of sales_value in the second dataset with DP: {dp_sum_redact}\")\n",
    "assert dp_sum_redact != sum_redact_dataset\n",
    "\n",
    "\n",
    "print(f\"Difference in Sum with DP: {round(dp_sum_og - dp_sum_redact, 2)}\")\n",
    "print(f\"Actual Difference in Sum: {sales_amount_Osbourne}\")\n",
    "assert round(dp_sum_og - dp_sum_redact, 2) != sales_amount_Osbourne"
   ]
  }
 ],
 "metadata": {
  "kernelspec": {
   "display_name": "Python 3",
   "language": "python",
   "name": "python3"
  },
  "language_info": {
   "codemirror_mode": {
    "name": "ipython",
    "version": 3
   },
   "file_extension": ".py",
   "mimetype": "text/x-python",
   "name": "python",
   "nbconvert_exporter": "python",
   "pygments_lexer": "ipython3",
   "version": "3.9.7"
  }
 },
 "nbformat": 4,
 "nbformat_minor": 5
}