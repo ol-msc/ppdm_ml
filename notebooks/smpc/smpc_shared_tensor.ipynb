{
 "cells": [
  {
   "cell_type": "markdown",
   "id": "3d60586a",
   "metadata": {},
   "source": [
    "## Share Tensor"
   ]
  },
  {
   "cell_type": "code",
   "execution_count": 14,
   "id": "5e9ae742",
   "metadata": {},
   "outputs": [],
   "source": [
    "import syft as sy\n",
    "import torch\n",
    "\n",
    "from sympc.session import Session, SessionManager\n",
    "from sympc.tensor import MPCTensor\n",
    "\n",
    "sy.load(\"sympc\")\n",
    "sy.logger.add(sink=\"./example.log\")"
   ]
  },
  {
   "cell_type": "markdown",
   "id": "f29d3e5f",
   "metadata": {},
   "source": [
    "### Create the Clients"
   ]
  },
  {
   "cell_type": "code",
   "execution_count": 15,
   "id": "54572ed7",
   "metadata": {},
   "outputs": [],
   "source": [
    "alice = sy.VirtualMachine(name=\"alice\")\n",
    "bob = sy.VirtualMachine(name=\"bob\")\n",
    "\n",
    "alice_client = alice.get_client()\n",
    "bob_client = bob.get_client()"
   ]
  },
  {
   "cell_type": "markdown",
   "id": "2ed52946",
   "metadata": {},
   "source": [
    "### Create Session"
   ]
  },
  {
   "cell_type": "code",
   "execution_count": 17,
   "id": "950fded9",
   "metadata": {},
   "outputs": [
    {
     "name": "stdout",
     "output_type": "stream",
     "text": [
      "<sympc.session.session.Session object at 0x7f15e4f4b9e0>\n"
     ]
    }
   ],
   "source": [
    "session = Session(parties=[alice_client, bob_client])\n",
    "print(session)"
   ]
  },
  {
   "cell_type": "markdown",
   "id": "31bcad9e",
   "metadata": {},
   "source": [
    "### Send the session to all the parties"
   ]
  },
  {
   "cell_type": "code",
   "execution_count": 18,
   "id": "4fa1fcf7",
   "metadata": {},
   "outputs": [],
   "source": [
    "SessionManager.setup_mpc(session)"
   ]
  },
  {
   "cell_type": "code",
   "execution_count": 20,
   "id": "01af0738",
   "metadata": {},
   "outputs": [],
   "source": [
    "x = MPCTensor(secret=torch.tensor([1,2,3,4]), session=session)"
   ]
  },
  {
   "cell_type": "code",
   "execution_count": 21,
   "id": "a06c51e9",
   "metadata": {},
   "outputs": [
    {
     "data": {
      "text/plain": [
       "[MPCTensor]\n",
       "Shape: torch.Size([4])\n",
       "Requires Grad: False\n",
       "\t| <VirtualMachineClient: alice Client> -> ShareTensorPointer\n",
       "\t| <VirtualMachineClient: bob Client> -> ShareTensorPointer"
      ]
     },
     "execution_count": 21,
     "metadata": {},
     "output_type": "execute_result"
    }
   ],
   "source": [
    "x"
   ]
  },
  {
   "cell_type": "code",
   "execution_count": 22,
   "id": "fb9cd400",
   "metadata": {},
   "outputs": [
    {
     "name": "stdout",
     "output_type": "stream",
     "text": [
      "[ShareTensor]\n",
      "\t| [FixedPointEncoder]: precision: 16, base: 2\n",
      "\t| Data: tensor([1008230258186094461, 2895831840715505846,  881793063096377731,\n",
      "        2143416801702356975])\n",
      "[ShareTensor]\n",
      "\t| [FixedPointEncoder]: precision: 16, base: 2\n",
      "\t| Data: tensor([-1008230258186028925, -2895831840715374774,  -881793063096181123,\n",
      "        -2143416801702094831])\n"
     ]
    }
   ],
   "source": [
    "for val in x.share_ptrs:\n",
    "    print(val.get()) # get destroys the pointer \n",
    "    # .reconstruct() also destroys the pointer"
   ]
  },
  {
   "cell_type": "markdown",
   "id": "00e10ee0",
   "metadata": {},
   "source": [
    "### Secret is shared by orhestrator"
   ]
  },
  {
   "cell_type": "code",
   "execution_count": 27,
   "id": "e4926ea1",
   "metadata": {},
   "outputs": [],
   "source": [
    "x_secret = torch.tensor([[1,2],[3,4]])\n",
    "x = MPCTensor(secret=x_secret, session=session)\n",
    "\n",
    "y = torch.tensor([[5,6],[7,8]])"
   ]
  },
  {
   "cell_type": "code",
   "execution_count": 28,
   "id": "fd44062f",
   "metadata": {},
   "outputs": [
    {
     "name": "stdout",
     "output_type": "stream",
     "text": [
      "[Priv + Pub] X + Y =\n",
      " tensor([[ 6.,  8.],\n",
      "        [10., 12.]])\n",
      "[Pub + Pub] X + Y =\n",
      " tensor([[ 6,  8],\n",
      "        [10, 12]])\n"
     ]
    }
   ],
   "source": [
    "print(\"[Priv + Pub] X + Y =\\n\", (x + y).reconstruct())\n",
    "print(\"[Pub + Pub] X + Y =\\n\", x_secret + y)"
   ]
  },
  {
   "cell_type": "code",
   "execution_count": 29,
   "id": "218cd283",
   "metadata": {},
   "outputs": [
    {
     "name": "stdout",
     "output_type": "stream",
     "text": [
      "[Priv - Pub] X - Y =\n",
      " tensor([[-4., -4.],\n",
      "        [-4., -4.]])\n",
      "[Pub - Pub] X - Y =\n",
      " tensor([[-4, -4],\n",
      "        [-4, -4]])\n"
     ]
    }
   ],
   "source": [
    "print(\"[Priv - Pub] X - Y =\\n\", (x - y).reconstruct())\n",
    "print(\"[Pub - Pub] X - Y =\\n\", x_secret - y)"
   ]
  },
  {
   "cell_type": "code",
   "execution_count": 30,
   "id": "a1e61f55",
   "metadata": {},
   "outputs": [
    {
     "name": "stdout",
     "output_type": "stream",
     "text": [
      "[Priv * Pub] X * Y =\n",
      " tensor([[ 5., 12.],\n",
      "        [21., 32.]])\n",
      "[Pub * Pub] X * Y =\n",
      " tensor([[ 5, 12],\n",
      "        [21, 32]])\n"
     ]
    }
   ],
   "source": [
    "print(\"[Priv * Pub] X * Y =\\n\", (x * y).reconstruct())\n",
    "print(\"[Pub * Pub] X * Y =\\n\", x_secret * y)"
   ]
  },
  {
   "cell_type": "code",
   "execution_count": 31,
   "id": "68e83c18",
   "metadata": {},
   "outputs": [
    {
     "name": "stdout",
     "output_type": "stream",
     "text": [
      "[Priv @ Pub] X * Y =\n",
      " tensor([[19., 22.],\n",
      "        [43., 50.]])\n",
      "[Pub @ Pub] X * Y =\n",
      " tensor([[19, 22],\n",
      "        [43, 50]])\n"
     ]
    }
   ],
   "source": [
    "print(\"[Priv @ Pub] X * Y =\\n\", (x @ y).reconstruct())\n",
    "print(\"[Pub @ Pub] X * Y =\\n\", x_secret @ y)"
   ]
  },
  {
   "cell_type": "markdown",
   "id": "4a179da2",
   "metadata": {},
   "source": [
    "### Private Operations"
   ]
  },
  {
   "cell_type": "code",
   "execution_count": 33,
   "id": "dbcbd916",
   "metadata": {},
   "outputs": [],
   "source": [
    "x_secret = torch.tensor([[1,2],[3,4]])\n",
    "x = MPCTensor(secret=x_secret, session=session)\n",
    "\n",
    "y_secret = torch.tensor([[5,6],[7,8]])\n",
    "y = MPCTensor(secret=y_secret, session=session)\n"
   ]
  },
  {
   "cell_type": "code",
   "execution_count": 36,
   "id": "cde1d2df",
   "metadata": {},
   "outputs": [
    {
     "name": "stdout",
     "output_type": "stream",
     "text": [
      "[Priv + Priv] X + Y =\n",
      " tensor([[ 6.,  8.],\n",
      "        [10., 12.]])\n",
      "[Pub + Pub] X + Y =\n",
      " tensor([[ 6,  8],\n",
      "        [10, 12]])\n"
     ]
    }
   ],
   "source": [
    "print(\"[Priv + Priv] X + Y =\\n\", (x + y).reconstruct())\n",
    "print(\"[Pub + Pub] X + Y =\\n\", x_secret + y_secret)"
   ]
  },
  {
   "cell_type": "code",
   "execution_count": 37,
   "id": "b6b8f5f8",
   "metadata": {},
   "outputs": [
    {
     "name": "stdout",
     "output_type": "stream",
     "text": [
      "[Priv - Priv] X - Y =\n",
      " tensor([[-4., -4.],\n",
      "        [-4., -4.]])\n",
      "[Pub - Pub] X - Y =\n",
      " tensor([[-4, -4],\n",
      "        [-4, -4]])\n"
     ]
    }
   ],
   "source": [
    "print(\"[Priv - Priv] X - Y =\\n\", (x - y).reconstruct())\n",
    "print(\"[Pub - Pub] X - Y =\\n\", x_secret - y_secret)"
   ]
  },
  {
   "cell_type": "code",
   "execution_count": 41,
   "id": "6f8449b5",
   "metadata": {},
   "outputs": [
    {
     "name": "stdout",
     "output_type": "stream",
     "text": [
      "[Pub * Pub] X * Y =\n",
      " tensor([[ 5, 12],\n",
      "        [21, 32]])\n"
     ]
    }
   ],
   "source": [
    "#print(\"[Priv * Priv] X * Y =\\n\", (x * y).reconstruct()) \n",
    "# causes next error:\n",
    "# Request to access data length rejected.\n",
    "\n",
    "print(\"[Pub * Pub] X * Y =\\n\", x_secret * y_secret)"
   ]
  },
  {
   "cell_type": "code",
   "execution_count": 43,
   "id": "a78885fe",
   "metadata": {},
   "outputs": [
    {
     "name": "stdout",
     "output_type": "stream",
     "text": [
      "[Pub @ Pub] X * Y =\n",
      " tensor([[19, 22],\n",
      "        [43, 50]])\n"
     ]
    }
   ],
   "source": [
    "#print(\"[Priv @ Pub] X * Y =\\n\", (x @ y).reconstruct())\n",
    "# causes next error:\n",
    "# Request to access data length rejected.\n",
    "\n",
    "print(\"[Pub @ Pub] X * Y =\\n\", x_secret @ y_secret)"
   ]
  },
  {
   "cell_type": "code",
   "execution_count": null,
   "id": "b1598545",
   "metadata": {},
   "outputs": [],
   "source": []
  }
 ],
 "metadata": {
  "kernelspec": {
   "display_name": "Python 3",
   "language": "python",
   "name": "python3"
  },
  "language_info": {
   "codemirror_mode": {
    "name": "ipython",
    "version": 3
   },
   "file_extension": ".py",
   "mimetype": "text/x-python",
   "name": "python",
   "nbconvert_exporter": "python",
   "pygments_lexer": "ipython3",
   "version": "3.8.8"
  }
 },
 "nbformat": 4,
 "nbformat_minor": 5
}
