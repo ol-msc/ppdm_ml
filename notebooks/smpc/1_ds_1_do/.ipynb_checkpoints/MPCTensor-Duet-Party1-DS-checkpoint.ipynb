{
 "cells": [
  {
   "cell_type": "markdown",
   "id": "03734f66",
   "metadata": {},
   "source": [
    "## MPC Tensor - Party 1 - Data Scientist\n",
    "This experiment represent a case study on\n",
    "preforming secure multi-party computation involving two parties,\n",
    "Data Owner and Data Scientist.\n",
    "The scenario could be usefull in situation when DS have some data,\n",
    "but not enough to make a considerable decision.\n",
    "Consequently, the data could be enlarged by DO data, and computation\n",
    "could be performed jointly in encrypted forma, without DS accessing raw data.\n",
    "The case study is implemented via Syft, SyMPC and Duet frameworks.\n",
    "The computation are performed via [FSS protocol](https://link.springer.com/chapter/10.1007/978-3-662-46803-6_12)\n",
    "\n",
    "\n",
    "Initially the two-way connection is established with the Duet.\n",
    "Then SMPC session is created and shared between parties.\n",
    "DO shares its tensors to the DS via Duet.\n",
    "Then essential vector computation are performed and results are reconstructed.\n",
    "\n"
   ]
  },
  {
   "cell_type": "markdown",
   "id": "1ed6727f",
   "metadata": {},
   "source": [
    "### 0. Import Libraries\n",
    "Import required libraries"
   ]
  },
  {
   "cell_type": "code",
   "execution_count": null,
   "id": "8c6dca24",
   "metadata": {},
   "outputs": [],
   "source": [
    "import torch \n",
    "import syft as sy"
   ]
  },
  {
   "cell_type": "markdown",
   "id": "862f8614",
   "metadata": {},
   "source": [
    "### 1. Establishing the connection\n",
    "#### 1.1 Launch DS Duet server\n",
    "For proper functioning of SMPC session two Duet connection must be established.\n",
    "(This is the requirement of framework and protocol)"
   ]
  },
  {
   "cell_type": "code",
   "execution_count": null,
   "id": "6b1d3e2c",
   "metadata": {
    "scrolled": false
   },
   "outputs": [],
   "source": [
    "#1.1 - Launch a Duet Server\n",
    "duet_p1 = sy.launch_duet(loopback=True)"
   ]
  },
  {
   "cell_type": "markdown",
   "id": "8a92ae55",
   "metadata": {},
   "source": [
    "#### 1.2 Join to DO Duet server"
   ]
  },
  {
   "cell_type": "code",
   "execution_count": null,
   "id": "3fda5c44",
   "metadata": {},
   "outputs": [],
   "source": [
    "duet_p2 = sy.join_duet(loopback=True)"
   ]
  },
  {
   "cell_type": "code",
   "execution_count": null,
   "id": "df6aeda4",
   "metadata": {},
   "outputs": [],
   "source": [
    "#showing the pointers to parties\n",
    "print(duet_p1, duet_p2)"
   ]
  },
  {
   "cell_type": "markdown",
   "id": "8883a194",
   "metadata": {},
   "source": [
    "## 2 SMPC\n",
    "This part of experiment contains steps\n",
    "for establishing SMPC session, performing essential operations and decrypting the results"
   ]
  },
  {
   "cell_type": "markdown",
   "id": "fca27a62",
   "metadata": {},
   "source": [
    "### 2.1 Create Session\n",
    "Here the required tools are imported.\n",
    "Session with involved parties is created"
   ]
  },
  {
   "cell_type": "code",
   "execution_count": null,
   "id": "4a7331a0",
   "metadata": {},
   "outputs": [],
   "source": [
    "from sympc.session import Session\n",
    "from sympc.session import SessionManager\n",
    "\n",
    "from sympc.tensor import MPCTensor\n"
   ]
  },
  {
   "cell_type": "code",
   "execution_count": null,
   "id": "1cc2ea72",
   "metadata": {},
   "outputs": [],
   "source": [
    "session = Session(parties=[duet_p1, duet_p2])\n",
    "print(f\"Session: {session} \\n\"\n",
    "      f\"Session parties: {session.parties} \\n\"\n",
    "      f\"Session protocol: {session.protocol} \\n\"\n",
    "      f\"ring_size: {session.ring_size} \\n\")"
   ]
  },
  {
   "cell_type": "markdown",
   "id": "de2f559c",
   "metadata": {},
   "source": [
    "### 2.2 Send session to all parties\n",
    "Making session available within all involved parties"
   ]
  },
  {
   "cell_type": "code",
   "execution_count": null,
   "id": "fe56523e",
   "metadata": {},
   "outputs": [],
   "source": [
    "SessionManager.setup_mpc(session)"
   ]
  },
  {
   "cell_type": "markdown",
   "id": "c519b8ce",
   "metadata": {},
   "source": [
    "### 2.3 Sum, Substract and Multiply operations\n",
    "Retrieve tensors from DO and Perform SMPC operations."
   ]
  },
  {
   "cell_type": "code",
   "execution_count": null,
   "id": "3feddf13",
   "metadata": {},
   "outputs": [],
   "source": [
    "\n",
    "y = torch.Tensor([-5, 0, 1, 2, 3])  # some local data\n",
    "\n",
    "x_secret = duet_p2.store[\"#test_tensor_1\"]  # secret data to test sum, substract and multiply\n",
    "x = MPCTensor(secret=x_secret, shape=(1,), session=session)  # MPC Tensor from x_secret\n",
    "print(x)"
   ]
  },
  {
   "cell_type": "code",
   "execution_count": null,
   "id": "f163f55e",
   "metadata": {
    "pycharm": {
     "is_executing": true
    }
   },
   "outputs": [],
   "source": [
    "# Display regular and encrypted tensors\n",
    "print(f\"X: {x}\\n\"\n",
    "      f\"Y: {y}\")"
   ]
  },
  {
   "cell_type": "code",
   "execution_count": null,
   "id": "ff428295",
   "metadata": {},
   "outputs": [],
   "source": [
    "# Perform Private + Public operations\n",
    "print(f\"X + Y = {(x+y).reconstruct()}\\n\"\n",
    "      f\"X - Y = {(x-y).reconstruct()}\\n\"\n",
    "      f\"X * Y = {(x*y).reconstruct()}\")"
   ]
  },
  {
   "cell_type": "markdown",
   "id": "d9574187",
   "metadata": {},
   "source": [
    "#### 2.4 Matrix multiplication\n",
    "Retrieve second tensor and perform SMPC Matrix multiplication operation"
   ]
  },
  {
   "cell_type": "code",
   "execution_count": null,
   "id": "619a37de",
   "metadata": {},
   "outputs": [],
   "source": [
    "x_secret = duet_p2.store[\"#test_tensor_2\"]  # secret data with no access\n",
    "x_mul = MPCTensor(secret=x_secret, shape=(2,2), session=session)  # MPC Tensor build from x_secret\n",
    "y_mul = torch.tensor([[5,6],[7,8]])"
   ]
  },
  {
   "cell_type": "code",
   "execution_count": null,
   "id": "e2f37b15",
   "metadata": {
    "pycharm": {
     "is_executing": true
    }
   },
   "outputs": [],
   "source": [
    "# Display regular and encrypted tensors\n",
    "print(f\"X: {x_mul}\\n\"\n",
    "      f\"Y: {y_mul}\")"
   ]
  },
  {
   "cell_type": "code",
   "execution_count": null,
   "id": "c5c5fcf1",
   "metadata": {
    "pycharm": {
     "is_executing": true
    }
   },
   "outputs": [],
   "source": [
    "print(f\"X @ X = \\n {(x_mul @ y_mul).reconstruct()}\")"
   ]
  }
 ],
 "metadata": {
  "kernelspec": {
   "display_name": "Python 3",
   "language": "python",
   "name": "python3"
  },
  "language_info": {
   "codemirror_mode": {
    "name": "ipython",
    "version": 3
   },
   "file_extension": ".py",
   "mimetype": "text/x-python",
   "name": "python",
   "nbconvert_exporter": "python",
   "pygments_lexer": "ipython3",
   "version": "3.8.8"
  }
 },
 "nbformat": 4,
 "nbformat_minor": 5
}
