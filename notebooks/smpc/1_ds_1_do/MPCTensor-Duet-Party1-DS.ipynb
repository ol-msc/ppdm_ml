{
 "cells": [
  {
   "cell_type": "markdown",
   "id": "03734f66",
   "metadata": {},
   "source": [
    "## MPC Tensor - Party 1 - Data Scientist"
   ]
  },
  {
   "cell_type": "markdown",
   "id": "1ed6727f",
   "metadata": {},
   "source": [
    "#### 0. Import Libraries"
   ]
  },
  {
   "cell_type": "code",
   "execution_count": 1,
   "id": "8c6dca24",
   "metadata": {},
   "outputs": [],
   "source": [
    "import torch \n",
    "import syft as sy \n"
   ]
  },
  {
   "cell_type": "markdown",
   "id": "862f8614",
   "metadata": {},
   "source": [
    "#### 1.1 Launch DS Duet server"
   ]
  },
  {
   "cell_type": "code",
   "execution_count": 2,
   "id": "6b1d3e2c",
   "metadata": {
    "scrolled": false
   },
   "outputs": [
    {
     "name": "stdout",
     "output_type": "stream",
     "text": [
      "🎤  🎸  ♪♪♪ Starting Duet ♫♫♫  🎻  🎹\n",
      "\n",
      "♫♫♫ >\u001B[93m DISCLAIMER\u001B[0m: \u001B[1mDuet is an experimental feature currently in beta.\n",
      "♫♫♫ > Use at your own risk.\n",
      "\u001B[0m\n",
      "\u001B[1m\n",
      "    > ❤️ \u001B[91mLove\u001B[0m \u001B[92mDuet\u001B[0m? \u001B[93mPlease\u001B[0m \u001B[94mconsider\u001B[0m \u001B[95msupporting\u001B[0m \u001B[91mour\u001B[0m \u001B[93mcommunity!\u001B[0m\n",
      "    > https://github.com/sponsors/OpenMined\u001B[1m\n",
      "\n",
      "♫♫♫ > Punching through firewall to OpenGrid Network Node at:\n",
      "♫♫♫ > http://ec2-18-218-7-180.us-east-2.compute.amazonaws.com:5000\n",
      "♫♫♫ >\n",
      "♫♫♫ > ...waiting for response from OpenGrid Network... \n",
      "♫♫♫ > \u001B[92mDONE!\u001B[0m\n",
      "\n",
      "♫♫♫ > \u001B[95mSTEP 1:\u001B[0m Send the following code to your Duet Partner!\n",
      "\n",
      "import syft as sy\n",
      "duet = sy.join_duet(loopback=True)\n",
      "\n",
      "♫♫♫ > Connecting...\n",
      "\n",
      "♫♫♫ > \u001B[92mCONNECTED!\u001B[0m\n",
      "\n"
     ]
    }
   ],
   "source": [
    "#1.1 - Launch a Duet Server\n",
    "duet_p1 = sy.launch_duet(loopback=True)"
   ]
  },
  {
   "cell_type": "markdown",
   "id": "8a92ae55",
   "metadata": {},
   "source": [
    "#### 1.2 Join to DO Duet server"
   ]
  },
  {
   "cell_type": "code",
   "execution_count": 3,
   "id": "3fda5c44",
   "metadata": {},
   "outputs": [
    {
     "name": "stdout",
     "output_type": "stream",
     "text": [
      "♫♫♫ > Punching through firewall to OpenGrid Network Node at:\n",
      "♫♫♫ > http://ec2-18-218-7-180.us-east-2.compute.amazonaws.com:5000\n",
      "♫♫♫ >\n",
      "♫♫♫ > ...waiting for response from OpenGrid Network... \n",
      "♫♫♫ > \u001B[92mDONE!\u001B[0m\n",
      "\n",
      "♫♫♫ > \u001B[92mCONNECTED!\u001B[0m\n"
     ]
    }
   ],
   "source": [
    "duet_p2 = sy.join_duet(loopback=True)"
   ]
  },
  {
   "cell_type": "code",
   "execution_count": 4,
   "id": "df6aeda4",
   "metadata": {},
   "outputs": [
    {
     "data": {
      "text/plain": "<DomainClient: <UID: 68296fc0b2094a8580db0e095dc3a46d>>"
     },
     "execution_count": 4,
     "metadata": {},
     "output_type": "execute_result"
    }
   ],
   "source": [
    "duet_p1"
   ]
  },
  {
   "cell_type": "markdown",
   "id": "8883a194",
   "metadata": {},
   "source": [
    "## 2 SMPC"
   ]
  },
  {
   "cell_type": "markdown",
   "id": "fca27a62",
   "metadata": {},
   "source": [
    "### 2.1 Create Session"
   ]
  },
  {
   "cell_type": "code",
   "execution_count": 1,
   "id": "4a7331a0",
   "metadata": {},
   "outputs": [],
   "source": [
    "from sympc.session import Session\n",
    "from sympc.session import SessionManager\n",
    "\n",
    "from sympc.tensor import MPCTensor\n"
   ]
  },
  {
   "cell_type": "code",
   "execution_count": 6,
   "id": "1cc2ea72",
   "metadata": {},
   "outputs": [
    {
     "name": "stdout",
     "output_type": "stream",
     "text": [
      "<sympc.session.session.Session object at 0x000002598CB73280>\n"
     ]
    }
   ],
   "source": [
    "session = Session(parties=[duet_p1, duet_p2])\n",
    "print(session)"
   ]
  },
  {
   "cell_type": "markdown",
   "id": "de2f559c",
   "metadata": {},
   "source": [
    "### 2.2 Send session to all parties"
   ]
  },
  {
   "cell_type": "code",
   "execution_count": 7,
   "id": "fe56523e",
   "metadata": {},
   "outputs": [],
   "source": [
    "SessionManager.setup_mpc(session)"
   ]
  },
  {
   "cell_type": "markdown",
   "id": "c519b8ce",
   "metadata": {},
   "source": [
    "#### Sum, Substract and Multiply operations"
   ]
  },
  {
   "cell_type": "code",
   "execution_count": 8,
   "id": "3feddf13",
   "metadata": {},
   "outputs": [
    {
     "name": "stderr",
     "output_type": "stream",
     "text": [
      "[2022-02-23T15:19:57.286967+0100][CRITICAL][logger]][7360] 'More than one item with tag:#test_tensor_1'\n"
     ]
    },
    {
     "ename": "KeyError",
     "evalue": "'More than one item with tag:#test_tensor_1'",
     "output_type": "error",
     "traceback": [
      "\u001B[1;31m---------------------------------------------------------------------------\u001B[0m",
      "\u001B[1;31mKeyError\u001B[0m                                  Traceback (most recent call last)",
      "\u001B[1;32m<ipython-input-8-0676c51c4a2a>\u001B[0m in \u001B[0;36m<module>\u001B[1;34m\u001B[0m\n\u001B[0;32m      1\u001B[0m \u001B[0my\u001B[0m \u001B[1;33m=\u001B[0m \u001B[0mtorch\u001B[0m\u001B[1;33m.\u001B[0m\u001B[0mTensor\u001B[0m\u001B[1;33m(\u001B[0m\u001B[1;33m[\u001B[0m\u001B[1;33m-\u001B[0m\u001B[1;36m5\u001B[0m\u001B[1;33m,\u001B[0m \u001B[1;36m0\u001B[0m\u001B[1;33m,\u001B[0m \u001B[1;36m1\u001B[0m\u001B[1;33m,\u001B[0m \u001B[1;36m2\u001B[0m\u001B[1;33m,\u001B[0m \u001B[1;36m3\u001B[0m\u001B[1;33m]\u001B[0m\u001B[1;33m)\u001B[0m  \u001B[1;31m# some local data\u001B[0m\u001B[1;33m\u001B[0m\u001B[1;33m\u001B[0m\u001B[0m\n\u001B[0;32m      2\u001B[0m \u001B[1;33m\u001B[0m\u001B[0m\n\u001B[1;32m----> 3\u001B[1;33m \u001B[0mx_secret\u001B[0m \u001B[1;33m=\u001B[0m \u001B[0mduet_p2\u001B[0m\u001B[1;33m.\u001B[0m\u001B[0mstore\u001B[0m\u001B[1;33m[\u001B[0m\u001B[1;34m\"#test_tensor_1\"\u001B[0m\u001B[1;33m]\u001B[0m  \u001B[1;31m# secret data to test sum, substract and multiply\u001B[0m\u001B[1;33m\u001B[0m\u001B[1;33m\u001B[0m\u001B[0m\n\u001B[0m\u001B[0;32m      4\u001B[0m \u001B[0mx\u001B[0m \u001B[1;33m=\u001B[0m \u001B[0mMPCTensor\u001B[0m\u001B[1;33m(\u001B[0m\u001B[0msecret\u001B[0m\u001B[1;33m=\u001B[0m\u001B[0mx_secret\u001B[0m\u001B[1;33m,\u001B[0m \u001B[0mshape\u001B[0m\u001B[1;33m=\u001B[0m\u001B[1;33m(\u001B[0m\u001B[1;36m1\u001B[0m\u001B[1;33m,\u001B[0m\u001B[1;33m)\u001B[0m\u001B[1;33m,\u001B[0m \u001B[0msession\u001B[0m\u001B[1;33m=\u001B[0m\u001B[0msession\u001B[0m\u001B[1;33m)\u001B[0m  \u001B[1;31m# MPC Tensor from x_secret\u001B[0m\u001B[1;33m\u001B[0m\u001B[1;33m\u001B[0m\u001B[0m\n\u001B[0;32m      5\u001B[0m \u001B[1;31m# x.share_ptrs\u001B[0m\u001B[1;33m\u001B[0m\u001B[1;33m\u001B[0m\u001B[0m\n",
      "\u001B[1;32mC:\\Anaconda3\\envs\\pysyft\\lib\\site-packages\\syft\\core\\node\\common\\client.py\u001B[0m in \u001B[0;36m__getitem__\u001B[1;34m(self, key)\u001B[0m\n\u001B[0;32m    413\u001B[0m                 \u001B[1;32mreturn\u001B[0m \u001B[0mmatch_obj\u001B[0m\u001B[1;33m\u001B[0m\u001B[1;33m\u001B[0m\u001B[0m\n\u001B[0;32m    414\u001B[0m             \u001B[1;32melif\u001B[0m \u001B[0mmatches\u001B[0m \u001B[1;33m>\u001B[0m \u001B[1;36m1\u001B[0m\u001B[1;33m:\u001B[0m\u001B[1;33m\u001B[0m\u001B[1;33m\u001B[0m\u001B[0m\n\u001B[1;32m--> 415\u001B[1;33m                 \u001B[0mtraceback_and_raise\u001B[0m\u001B[1;33m(\u001B[0m\u001B[0mKeyError\u001B[0m\u001B[1;33m(\u001B[0m\u001B[1;34m\"More than one item with tag:\"\u001B[0m \u001B[1;33m+\u001B[0m \u001B[0mstr\u001B[0m\u001B[1;33m(\u001B[0m\u001B[0mkey\u001B[0m\u001B[1;33m)\u001B[0m\u001B[1;33m)\u001B[0m\u001B[1;33m)\u001B[0m\u001B[1;33m\u001B[0m\u001B[1;33m\u001B[0m\u001B[0m\n\u001B[0m\u001B[0;32m    416\u001B[0m             \u001B[1;32melse\u001B[0m\u001B[1;33m:\u001B[0m\u001B[1;33m\u001B[0m\u001B[1;33m\u001B[0m\u001B[0m\n\u001B[0;32m    417\u001B[0m                 \u001B[1;31m# If key does not math with any tags, we then try to match it with id string.\u001B[0m\u001B[1;33m\u001B[0m\u001B[1;33m\u001B[0m\u001B[0m\n",
      "\u001B[1;32mC:\\Anaconda3\\envs\\pysyft\\lib\\site-packages\\syft\\logger.py\u001B[0m in \u001B[0;36mtraceback_and_raise\u001B[1;34m(e, verbose)\u001B[0m\n\u001B[0;32m     59\u001B[0m     \u001B[1;32mif\u001B[0m \u001B[1;32mnot\u001B[0m \u001B[0missubclass\u001B[0m\u001B[1;33m(\u001B[0m\u001B[0mtype\u001B[0m\u001B[1;33m(\u001B[0m\u001B[0me\u001B[0m\u001B[1;33m)\u001B[0m\u001B[1;33m,\u001B[0m \u001B[0mException\u001B[0m\u001B[1;33m)\u001B[0m\u001B[1;33m:\u001B[0m\u001B[1;33m\u001B[0m\u001B[1;33m\u001B[0m\u001B[0m\n\u001B[0;32m     60\u001B[0m         \u001B[0me\u001B[0m \u001B[1;33m=\u001B[0m \u001B[0mException\u001B[0m\u001B[1;33m(\u001B[0m\u001B[0me\u001B[0m\u001B[1;33m)\u001B[0m\u001B[1;33m\u001B[0m\u001B[1;33m\u001B[0m\u001B[0m\n\u001B[1;32m---> 61\u001B[1;33m     \u001B[1;32mraise\u001B[0m \u001B[0me\u001B[0m\u001B[1;33m\u001B[0m\u001B[1;33m\u001B[0m\u001B[0m\n\u001B[0m\u001B[0;32m     62\u001B[0m \u001B[1;33m\u001B[0m\u001B[0m\n\u001B[0;32m     63\u001B[0m \u001B[1;33m\u001B[0m\u001B[0m\n",
      "\u001B[1;31mKeyError\u001B[0m: 'More than one item with tag:#test_tensor_1'"
     ]
    }
   ],
   "source": [
    "y = torch.Tensor([-5, 0, 1, 2, 3])  # some local data\n",
    "\n",
    "x_secret = duet_p2.store[\"#test_tensor_1\"]  # secret data to test sum, substract and multiply\n",
    "x = MPCTensor(secret=x_secret, shape=(1,), session=session)  # MPC Tensor from x_secret\n",
    "# x.share_ptrs\n",
    "x"
   ]
  },
  {
   "cell_type": "code",
   "execution_count": 10,
   "id": "f163f55e",
   "metadata": {},
   "outputs": [
    {
     "name": "stdout",
     "output_type": "stream",
     "text": [
      "X: [MPCTensor]\n",
      "Shape: (1,)\n",
      "Requires Grad: False\n",
      "\t| <DomainClient: <UID: 1629afe2db6141d9aac944b6aacd62b3>> -> ReplicatedSharedTensorShareTensorUnionPointer\n",
      "\t| <Duet: <UID: 1dd362113c174d25a86e15f07b9d057e>> -> AnyPointer\n",
      "Y: tensor([-5.,  0.,  1.,  2.,  3.])\n"
     ]
    }
   ],
   "source": [
    "print(f\"X: {x}\\n\"\n",
    "      f\"Y: {y}\")"
   ]
  },
  {
   "cell_type": "code",
   "execution_count": null,
   "id": "ff428295",
   "metadata": {
    "pycharm": {
     "is_executing": true
    }
   },
   "outputs": [
    {
     "name": "stderr",
     "output_type": "stream",
     "text": [
      "[2022-02-23T15:06:40.701376+0100][CRITICAL][logger]][14288] The session b5e960fe-358a-4f08-963c-e3862efcfa8c could not be found\n",
      "Exception in callback AsyncIOEventEmitter._emit_run.<locals>._callback(<Task finishe...ot be found')>) at C:\\Anaconda3\\envs\\pysyft\\lib\\site-packages\\pyee\\_asyncio.py:55\n",
      "handle: <Handle AsyncIOEventEmitter._emit_run.<locals>._callback(<Task finishe...ot be found')>) at C:\\Anaconda3\\envs\\pysyft\\lib\\site-packages\\pyee\\_asyncio.py:55>\n",
      "Traceback (most recent call last):\n",
      "  File \"C:\\Anaconda3\\envs\\pysyft\\lib\\asyncio\\events.py\", line 80, in _run\n",
      "    self._context.run(self._callback, *self._args)\n",
      "  File \"C:\\Anaconda3\\envs\\pysyft\\lib\\site-packages\\pyee\\_asyncio.py\", line 62, in _callback\n",
      "    self.emit('error', exc)\n",
      "  File \"C:\\Anaconda3\\envs\\pysyft\\lib\\site-packages\\pyee\\_base.py\", line 116, in emit\n",
      "    self._emit_handle_potential_error(event, args[0] if args else None)\n",
      "  File \"C:\\Anaconda3\\envs\\pysyft\\lib\\site-packages\\pyee\\_base.py\", line 86, in _emit_handle_potential_error\n",
      "    raise error\n",
      "  File \"C:\\Anaconda3\\envs\\pysyft\\lib\\asyncio\\tasks.py\", line 256, in __step\n",
      "    result = coro.send(None)\n",
      "  File \"C:\\Anaconda3\\envs\\pysyft\\lib\\site-packages\\syft\\grid\\connections\\webrtc.py\", line 287, in on_message\n",
      "    await self.consumer(msg=message)\n",
      "  File \"C:\\Anaconda3\\envs\\pysyft\\lib\\site-packages\\syft\\grid\\connections\\webrtc.py\", line 449, in consumer\n",
      "    traceback_and_raise(e)\n",
      "  File \"C:\\Anaconda3\\envs\\pysyft\\lib\\site-packages\\syft\\logger.py\", line 61, in traceback_and_raise\n",
      "    raise e\n",
      "  File \"C:\\Anaconda3\\envs\\pysyft\\lib\\site-packages\\syft\\grid\\connections\\webrtc.py\", line 417, in consumer\n",
      "    _msg = _deserialize(blob=msg, from_bytes=True)\n",
      "  File \"C:\\Anaconda3\\envs\\pysyft\\lib\\site-packages\\syft\\core\\common\\serde\\deserialize.py\", line 89, in _deserialize\n",
      "    res = _proto2object(proto=blob)\n",
      "  File \"C:\\Anaconda3\\envs\\pysyft\\lib\\site-packages\\syft\\core\\common\\message.py\", line 183, in _proto2object\n",
      "    _deserialize(blob=proto.message, from_bytes=True), SyftMessage\n",
      "  File \"C:\\Anaconda3\\envs\\pysyft\\lib\\site-packages\\syft\\core\\common\\serde\\deserialize.py\", line 89, in _deserialize\n",
      "    res = _proto2object(proto=blob)\n",
      "  File \"C:\\Anaconda3\\envs\\pysyft\\lib\\site-packages\\syft\\core\\node\\common\\action\\get_object_action.py\", line 87, in _proto2object\n",
      "    obj=_deserialize(blob=proto.obj),\n",
      "  File \"C:\\Anaconda3\\envs\\pysyft\\lib\\site-packages\\syft\\core\\common\\serde\\deserialize.py\", line 89, in _deserialize\n",
      "    res = _proto2object(proto=blob)\n",
      "  File \"C:\\Anaconda3\\envs\\pysyft\\lib\\site-packages\\syft\\core\\store\\storeable_object.py\", line 185, in _proto2object\n",
      "    data = data_type._proto2object(proto=data)  # type: ignore\n",
      "  File \"C:\\Anaconda3\\envs\\pysyft\\lib\\site-packages\\syft\\generate_wrapper.py\", line 38, in _proto2object\n",
      "    return type_proto2object(proto)\n",
      "  File \"C:\\Anaconda3\\envs\\pysyft\\lib\\site-packages\\syft\\lib\\sympc\\share.py\", line 48, in proto2object\n",
      "    raise ValueError(f\"The session {proto.session_uuid} could not be found\")\n",
      "ValueError: The session b5e960fe-358a-4f08-963c-e3862efcfa8c could not be found\n"
     ]
    }
   ],
   "source": [
    "#Private + Public operation\n",
    "print(f\"X + Y = {(x+y).reconstruct()}\\n\"\n",
    "      f\"X - Y = {(x-y).reconstruct()}\\n\"\n",
    "      f\"X * Y = {(x*y).reconstruct()}\")"
   ]
  },
  {
   "cell_type": "markdown",
   "id": "d9574187",
   "metadata": {},
   "source": [
    "#### Matrix multiplication"
   ]
  },
  {
   "cell_type": "code",
   "execution_count": null,
   "id": "619a37de",
   "metadata": {
    "pycharm": {
     "is_executing": true
    }
   },
   "outputs": [],
   "source": [
    "x_secret = duet_p2.store[\"#test_tensor_2\"]  # secret data with no access\n",
    "x_mul = MPCTensor(secret=x_secret, shape=(2,2), session=session)  # MPC Tensor build from x_secret\n",
    "y_mul = torch.tensor([[5,6],[7,8]])\n",
    "#y_mul = MPCTensor(secret=x_secret, shape=(2,2), session=session)"
   ]
  },
  {
   "cell_type": "code",
   "execution_count": 14,
   "id": "e2f37b15",
   "metadata": {},
   "outputs": [
    {
     "name": "stdout",
     "output_type": "stream",
     "text": [
      "X: [MPCTensor]\n",
      "Shape: (2, 2)\n",
      "Requires Grad: False\n",
      "\t| <DomainClient: <UID: fa496f8af5dd458fbfd8ad859309f662>> -> ShareTensorPointer\n",
      "\t| <Duet: <UID: e30e0c03f30841a1a40ab7f708235722>> -> ShareTensorPointer\n",
      "Y: tensor([[5, 6],\n",
      "        [7, 8]])\n"
     ]
    }
   ],
   "source": [
    "print(f\"X: {x_mul}\\n\"\n",
    "      f\"Y: {y_mul}\")"
   ]
  },
  {
   "cell_type": "code",
   "execution_count": 18,
   "id": "c5c5fcf1",
   "metadata": {},
   "outputs": [
    {
     "name": "stdout",
     "output_type": "stream",
     "text": [
      "X @ X = \n",
      " tensor([[19., 22.],\n",
      "        [43., 50.]])\n"
     ]
    }
   ],
   "source": [
    "print(f\"X @ X = \\n {(x_mul @ y_mul).reconstruct()}\")"
   ]
  }
 ],
 "metadata": {
  "kernelspec": {
   "display_name": "Python 3",
   "language": "python",
   "name": "python3"
  },
  "language_info": {
   "codemirror_mode": {
    "name": "ipython",
    "version": 3
   },
   "file_extension": ".py",
   "mimetype": "text/x-python",
   "name": "python",
   "nbconvert_exporter": "python",
   "pygments_lexer": "ipython3",
   "version": "3.8.8"
  }
 },
 "nbformat": 4,
 "nbformat_minor": 5
}