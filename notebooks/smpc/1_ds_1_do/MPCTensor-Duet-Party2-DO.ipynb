{
 "cells": [
  {
   "cell_type": "markdown",
   "id": "dd82bc49",
   "metadata": {},
   "source": [
    "## MPC Tensor - Party 2 - Data Owner\n",
    "\n",
    "This experiment represent a case study on\n",
    "preforming secure multi-party computation involving two parties,\n",
    "Data Owner and Data Scientist.\n",
    "The scenario could be usefull in situation when DS have some data,\n",
    "but not enough to make a considerable decision.\n",
    "Consequently, the data could be enlarged by DO data, and computation\n",
    "could be performed jointly in encrypted forma, without DS accessing raw data.\n",
    "\n",
    "\n",
    "Initially the two-way connection is established with the Duet.\n",
    "Then SMPC session is created and shared between parties.\n",
    "DO shares its tensors to the DS via Duet.\n",
    "Then essential vector computation are performed and results are reconstructed."
   ]
  },
  {
   "cell_type": "markdown",
   "id": "40b93ac3",
   "metadata": {},
   "source": [
    "#### 0. Import Libraries\n",
    "Import required libraries"
   ]
  },
  {
   "cell_type": "code",
   "execution_count": null,
   "id": "83c245e7",
   "metadata": {},
   "outputs": [],
   "source": [
    "import torch  #  tensor computation\n",
    "import syft as sy  # core library for remote execution"
   ]
  },
  {
   "cell_type": "markdown",
   "id": "c1bd3dbe",
   "metadata": {},
   "source": [
    "### 1. Establishing the connection\n",
    "#### 1.1 Join to DS Duet server\n",
    "For proper functioning of SMPC session two Duet connection must be established.\n",
    "(This is the requirement of framework and protocol)"
   ]
  },
  {
   "cell_type": "code",
   "execution_count": null,
   "id": "6ad947b4",
   "metadata": {},
   "outputs": [],
   "source": [
    "duet_p1 = sy.join_duet(loopback=True)"
   ]
  },
  {
   "cell_type": "markdown",
   "id": "cc7eb41d",
   "metadata": {},
   "source": [
    "#### 1.2 Launch a DO Duet Server"
   ]
  },
  {
   "cell_type": "code",
   "execution_count": null,
   "id": "182e3c80",
   "metadata": {},
   "outputs": [],
   "source": [
    "duet_p2 = sy.launch_duet(loopback=True)"
   ]
  },
  {
   "cell_type": "markdown",
   "id": "2033b3f0",
   "metadata": {},
   "source": [
    "#### 2.1 - Publish the secret data\n",
    "Share encrypted data to DS\n",
    "function `.send()` create an MPCTensor object, that\n",
    "contains initial tensor in encrypted format."
   ]
  },
  {
   "cell_type": "code",
   "execution_count": null,
   "id": "9c76b244",
   "metadata": {},
   "outputs": [],
   "source": [
    "x = torch.tensor([50])\n",
    "x.send(duet_p2, pointable=True, tags=[\"#test_tensor_1\"], description= \"Dummy tensor to test the sum of tensors\")\n",
    "\n",
    "y = torch.tensor([[1,2],[3,4]])\n",
    "y.send(duet_p2, pointable=True, tags=[\"#test_tensor_2\"], description= \"Dummy tensor to test the matmul of tensors\")\n"
   ]
  },
  {
   "cell_type": "markdown",
   "id": "4878ffe4",
   "metadata": {},
   "source": [
    "#### 2.2 Set an Automated Response\n",
    "Define an automatic request handler to accept all requests.\n",
    "Although the manual way of accepting requests is also possible."
   ]
  },
  {
   "cell_type": "code",
   "execution_count": null,
   "id": "a2ad333f",
   "metadata": {},
   "outputs": [],
   "source": [
    "duet_p2.requests.add_handler(\n",
    "    action=\"accept\"\n",
    ")"
   ]
  },
  {
   "cell_type": "code",
   "execution_count": null,
   "id": "4c601df2",
   "metadata": {
    "pycharm": {
     "name": "#%%\n"
    }
   },
   "outputs": [],
   "source": [
    "# display pending requests\n",
    "duet_p2.requests.pandas"
   ]
  }
 ],
 "metadata": {
  "kernelspec": {
   "display_name": "Python 3",
   "language": "python",
   "name": "python3"
  },
  "language_info": {
   "codemirror_mode": {
    "name": "ipython",
    "version": 3
   },
   "file_extension": ".py",
   "mimetype": "text/x-python",
   "name": "python",
   "nbconvert_exporter": "python",
   "pygments_lexer": "ipython3",
   "version": "3.9.7"
  }
 },
 "nbformat": 4,
 "nbformat_minor": 5
}