{
 "cells": [
  {
   "cell_type": "markdown",
   "id": "dd82bc49",
   "metadata": {},
   "source": [
    "## MPC Tensor - Party 2 - Data Owner"
   ]
  },
  {
   "cell_type": "markdown",
   "id": "40b93ac3",
   "metadata": {},
   "source": [
    "#### 0. Import Libraries"
   ]
  },
  {
   "cell_type": "code",
   "execution_count": 1,
   "id": "83c245e7",
   "metadata": {},
   "outputs": [],
   "source": [
    "import torch  #  tensor computation\n",
    "import syft as sy  # core library for remote execution"
   ]
  },
  {
   "cell_type": "markdown",
   "id": "c1bd3dbe",
   "metadata": {},
   "source": [
    "#### 1.1 Join to DS Duet server"
   ]
  },
  {
   "cell_type": "code",
   "execution_count": 2,
   "id": "6ad947b4",
   "metadata": {},
   "outputs": [
    {
     "name": "stdout",
     "output_type": "stream",
     "text": [
      "🎤  🎸  ♪♪♪ Joining Duet ♫♫♫  🎻  🎹\n",
      "\n",
      "♫♫♫ >\u001B[93m DISCLAIMER\u001B[0m: \u001B[1mDuet is an experimental feature currently in beta.\n",
      "♫♫♫ > Use at your own risk.\n",
      "\u001B[0m\n",
      "\u001B[1m\n",
      "    > ❤️ \u001B[91mLove\u001B[0m \u001B[92mDuet\u001B[0m? \u001B[93mPlease\u001B[0m \u001B[94mconsider\u001B[0m \u001B[95msupporting\u001B[0m \u001B[91mour\u001B[0m \u001B[93mcommunity!\u001B[0m\n",
      "    > https://github.com/sponsors/OpenMined\u001B[1m\n",
      "\n",
      "♫♫♫ > Punching through firewall to OpenGrid Network Node at:\n",
      "♫♫♫ > http://ec2-18-218-7-180.us-east-2.compute.amazonaws.com:5000\n",
      "♫♫♫ >\n",
      "♫♫♫ > ...waiting for response from OpenGrid Network... \n",
      "♫♫♫ > \u001B[92mDONE!\u001B[0m\n",
      "\n",
      "♫♫♫ > \u001B[92mCONNECTED!\u001B[0m\n"
     ]
    }
   ],
   "source": [
    "duet_p1 = sy.join_duet(loopback=True)"
   ]
  },
  {
   "cell_type": "markdown",
   "id": "cc7eb41d",
   "metadata": {},
   "source": [
    "#### 1.2 Launch a DO Duet Server"
   ]
  },
  {
   "cell_type": "code",
   "execution_count": 3,
   "id": "182e3c80",
   "metadata": {},
   "outputs": [
    {
     "name": "stdout",
     "output_type": "stream",
     "text": [
      "🎤  🎸  ♪♪♪ Starting Duet ♫♫♫  🎻  🎹\n",
      "\n",
      "♫♫♫ >\u001B[93m DISCLAIMER\u001B[0m: \u001B[1mDuet is an experimental feature currently in beta.\n",
      "♫♫♫ > Use at your own risk.\n",
      "\u001B[0m\n",
      "\u001B[1m\n",
      "    > ❤️ \u001B[91mLove\u001B[0m \u001B[92mDuet\u001B[0m? \u001B[93mPlease\u001B[0m \u001B[94mconsider\u001B[0m \u001B[95msupporting\u001B[0m \u001B[91mour\u001B[0m \u001B[93mcommunity!\u001B[0m\n",
      "    > https://github.com/sponsors/OpenMined\u001B[1m\n",
      "\n",
      "♫♫♫ > Punching through firewall to OpenGrid Network Node at:\n",
      "♫♫♫ > http://ec2-18-218-7-180.us-east-2.compute.amazonaws.com:5000\n",
      "♫♫♫ >\n",
      "♫♫♫ > ...waiting for response from OpenGrid Network... \n",
      "♫♫♫ > \u001B[92mDONE!\u001B[0m\n",
      "\n",
      "♫♫♫ > \u001B[95mSTEP 1:\u001B[0m Send the following code to your Duet Partner!\n",
      "\n",
      "import syft as sy\n",
      "duet = sy.join_duet(loopback=True)\n",
      "\n",
      "♫♫♫ > Connecting...\n",
      "\n",
      "♫♫♫ > \u001B[92mCONNECTED!\u001B[0m\n",
      "\n"
     ]
    }
   ],
   "source": [
    "duet_p2 = sy.launch_duet(loopback=True)"
   ]
  },
  {
   "cell_type": "markdown",
   "id": "2033b3f0",
   "metadata": {},
   "source": [
    "#### 2.1 - Publish the secret data"
   ]
  },
  {
   "cell_type": "code",
   "execution_count": 7,
   "id": "9c76b244",
   "metadata": {},
   "outputs": [
    {
     "data": {
      "text/plain": "<syft.proxy.torch.TensorPointer at 0x2e766a31d60>"
     },
     "execution_count": 7,
     "metadata": {},
     "output_type": "execute_result"
    }
   ],
   "source": [
    "x = torch.tensor([50])\n",
    "x.send(duet_p2, pointable=True, tags=[\"#test_tensor_1\"], description= \"Dummy tensor to test the sum of tensors\")\n",
    "\n",
    "y = torch.tensor([[1,2],[3,4]])\n",
    "y.send(duet_p2, pointable=True, tags=[\"#test_tensor_2\"], description= \"Dummy tensor to test the matmul of tensors\")\n"
   ]
  },
  {
   "cell_type": "code",
   "execution_count": 6,
   "id": "e7b155e8",
   "metadata": {},
   "outputs": [
    {
     "data": {
      "text/plain": "                                        ID              Tags  \\\n0  <UID: daaeae69a20943c3a4df703743b74356>  [#test_tensor_1]   \n1  <UID: 0d9888cfe46f44e5ae2cdeb65dde34de>  [#test_tensor_2]   \n\n                                  Description             object_type  \n0     Dummy tensor to test the sum of tensors  <class 'torch.Tensor'>  \n1  Dummy tensor to test the matmul of tensors  <class 'torch.Tensor'>  ",
      "text/html": "<div>\n<style scoped>\n    .dataframe tbody tr th:only-of-type {\n        vertical-align: middle;\n    }\n\n    .dataframe tbody tr th {\n        vertical-align: top;\n    }\n\n    .dataframe thead th {\n        text-align: right;\n    }\n</style>\n<table border=\"1\" class=\"dataframe\">\n  <thead>\n    <tr style=\"text-align: right;\">\n      <th></th>\n      <th>ID</th>\n      <th>Tags</th>\n      <th>Description</th>\n      <th>object_type</th>\n    </tr>\n  </thead>\n  <tbody>\n    <tr>\n      <th>0</th>\n      <td>&lt;UID: daaeae69a20943c3a4df703743b74356&gt;</td>\n      <td>[#test_tensor_1]</td>\n      <td>Dummy tensor to test the sum of tensors</td>\n      <td>&lt;class 'torch.Tensor'&gt;</td>\n    </tr>\n    <tr>\n      <th>1</th>\n      <td>&lt;UID: 0d9888cfe46f44e5ae2cdeb65dde34de&gt;</td>\n      <td>[#test_tensor_2]</td>\n      <td>Dummy tensor to test the matmul of tensors</td>\n      <td>&lt;class 'torch.Tensor'&gt;</td>\n    </tr>\n  </tbody>\n</table>\n</div>"
     },
     "execution_count": 6,
     "metadata": {},
     "output_type": "execute_result"
    }
   ],
   "source": [
    "duet_p2.store.pandas"
   ]
  },
  {
   "cell_type": "markdown",
   "id": "4878ffe4",
   "metadata": {},
   "source": [
    "#### 2.2 Set an Automated Response"
   ]
  },
  {
   "cell_type": "code",
   "execution_count": 8,
   "id": "a2ad333f",
   "metadata": {},
   "outputs": [],
   "source": [
    "duet_p2.requests.add_handler(\n",
    "    action=\"accept\"\n",
    ")"
   ]
  },
  {
   "cell_type": "code",
   "execution_count": 9,
   "outputs": [
    {
     "data": {
      "text/plain": "Empty DataFrame\nColumns: []\nIndex: []",
      "text/html": "<div>\n<style scoped>\n    .dataframe tbody tr th:only-of-type {\n        vertical-align: middle;\n    }\n\n    .dataframe tbody tr th {\n        vertical-align: top;\n    }\n\n    .dataframe thead th {\n        text-align: right;\n    }\n</style>\n<table border=\"1\" class=\"dataframe\">\n  <thead>\n    <tr style=\"text-align: right;\">\n      <th></th>\n    </tr>\n  </thead>\n  <tbody>\n  </tbody>\n</table>\n</div>"
     },
     "execution_count": 9,
     "metadata": {},
     "output_type": "execute_result"
    }
   ],
   "source": [
    "duet_p2.requests.pandas"
   ],
   "metadata": {
    "collapsed": false,
    "pycharm": {
     "name": "#%%\n"
    }
   }
  },
  {
   "cell_type": "markdown",
   "source": [],
   "metadata": {
    "collapsed": false
   }
  }
 ],
 "metadata": {
  "kernelspec": {
   "display_name": "Python 3",
   "language": "python",
   "name": "python3"
  },
  "language_info": {
   "codemirror_mode": {
    "name": "ipython",
    "version": 3
   },
   "file_extension": ".py",
   "mimetype": "text/x-python",
   "name": "python",
   "nbconvert_exporter": "python",
   "pygments_lexer": "ipython3",
   "version": "3.8.8"
  }
 },
 "nbformat": 4,
 "nbformat_minor": 5
}