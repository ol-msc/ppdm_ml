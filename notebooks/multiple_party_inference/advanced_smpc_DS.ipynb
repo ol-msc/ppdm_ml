{
 "cells": [
  {
   "cell_type": "markdown",
   "metadata": {
    "collapsed": true,
    "pycharm": {
     "name": "#%% md\n"
    }
   },
   "source": [
    "# Brain Tumor Detection with Syft & SyMPC\n",
    "Oleksandr Lytvyn\n",
    "dataset link: [kaggle.com/navoneel/brain-mri-images-for-brain-tumor-detection](https://www.kaggle.com/navoneel/brain-mri-images-for-brain-tumor-detection)"
   ]
  },
  {
   "cell_type": "markdown",
   "source": [
    "## Data Scientist\n",
    "#### TASKS\n",
    "1. Create model\n",
    "2. Train model on sample data\n",
    "3. Create request to access encrypted data from DOs\n",
    "4. Make prediction on encrypted data\n",
    "5. Share prediction with corresponding DOs"
   ],
   "metadata": {
    "collapsed": false
   }
  },
  {
   "cell_type": "code",
   "execution_count": null,
   "outputs": [],
   "source": [
    "import matplotlib.pyplot as plt\n",
    "import numpy as np\n",
    "import pandas as pd\n",
    "import torch\n",
    "import torch.nn as nn\n",
    "from torch.utils.data import Dataset, DataLoader\n",
    "from torch.autograd import Variable\n",
    "import torch.optim as optim\n",
    "import torchvision.transforms as transforms\n",
    "from sklearn.utils import shuffle\n",
    "from PIL import Image\n",
    "import syft as sy\n",
    "import os\n",
    "\n",
    "device = torch.device('cpu')\n",
    "torch.manual_seed(1)"
   ],
   "metadata": {
    "collapsed": false,
    "pycharm": {
     "name": "#%%\n"
    }
   }
  },
  {
   "cell_type": "code",
   "execution_count": null,
   "outputs": [],
   "source": [
    "class TransformedImageDataset(Dataset):\n",
    "    def __init__(self, images_path, labels_path):\n",
    "        self.images_path = images_path\n",
    "        self. labels_path = labels_path\n",
    "        self.len = len(os.listdir(self.image_path))\n",
    "\n",
    "    def __getitem__(self, item):\n",
    "        single_image_path = os.path.join(self.images_path, f'img{item}')\n",
    "        single_label_path = os.path.join(self.labels_path, f'lbl{item}')\n",
    "        try:\n",
    "            image_tensor = torch.load(single_label_path)\n",
    "            label_tensor = torch.load(single_image_path)\n",
    "        except FileNotFoundError:\n",
    "            raise IndexError\n",
    "        return [image_tensor, label_tensor]\n",
    "\n",
    "    def __len__(self):\n",
    "        return self.len"
   ],
   "metadata": {
    "collapsed": false,
    "pycharm": {
     "name": "#%%\n"
    }
   }
  },
  {
   "cell_type": "code",
   "execution_count": null,
   "outputs": [],
   "source": [],
   "metadata": {
    "collapsed": false,
    "pycharm": {
     "name": "#%%\n"
    }
   }
  }
 ],
 "metadata": {
  "kernelspec": {
   "display_name": "Python 3",
   "language": "python",
   "name": "python3"
  },
  "language_info": {
   "codemirror_mode": {
    "name": "ipython",
    "version": 2
   },
   "file_extension": ".py",
   "mimetype": "text/x-python",
   "name": "python",
   "nbconvert_exporter": "python",
   "pygments_lexer": "ipython2",
   "version": "2.7.6"
  }
 },
 "nbformat": 4,
 "nbformat_minor": 0
}