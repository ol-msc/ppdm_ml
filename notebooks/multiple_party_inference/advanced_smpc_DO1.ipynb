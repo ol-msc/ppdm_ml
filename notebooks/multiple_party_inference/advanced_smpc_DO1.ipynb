{
 "cells": [
  {
   "cell_type": "markdown",
   "metadata": {
    "collapsed": true,
    "pycharm": {
     "name": "#%% md\n"
    }
   },
   "source": [
    "# Brain Tumor Detection with Syft & SyMPC\n",
    "Oleksandr Lytvyn\n",
    "dataset link: [kaggle.com/navoneel/brain-mri-images-for-brain-tumor-detection](https://www.kaggle.com/navoneel/brain-mri-images-for-brain-tumor-detection)"
   ]
  },
  {
   "cell_type": "markdown",
   "source": [
    "## Data Owner 1\n",
    "#### TASKS\n",
    "1. Establish the Syft local syft instance\n",
    "2. Upload the data\n",
    "3. Accept the request of DS to __access the data__ the data with DS\n",
    "4. Retrieve the prediction results, (or allow the DS to access the prediction results)"
   ],
   "metadata": {
    "collapsed": false
   }
  },
  {
   "cell_type": "code",
   "execution_count": 1,
   "outputs": [],
   "source": [
    "import pandas as pd\n",
    "import numpy as np\n",
    "import syft as sy\n",
    "\n",
    "import torch\n",
    "\n",
    "from transformed_dataset import TransformedImageDataset"
   ],
   "metadata": {
    "collapsed": false,
    "pycharm": {
     "name": "#%%\n"
    }
   }
  },
  {
   "cell_type": "code",
   "execution_count": 2,
   "outputs": [
    {
     "name": "stdout",
     "output_type": "stream",
     "text": [
      "WARNING: CHANGE YOUR USERNAME AND PASSWORD!!! \n",
      "\n",
      "Anyone can login as an admin to your node right now because your password is still the default PySyft username and password!!!\n",
      "\n",
      "Connecting to None... done! \t Logging into tender_thomas... done!\n"
     ]
    }
   ],
   "source": [
    "domain_node = sy.login(email=\"info@openmined.org\", password=\"changethis\", port=8081)"
   ],
   "metadata": {
    "collapsed": false,
    "pycharm": {
     "name": "#%%\n"
    }
   }
  },
  {
   "cell_type": "code",
   "execution_count": 3,
   "outputs": [],
   "source": [
    "domain_node.users.create(\n",
    "    **{\n",
    "        \"name\": \"DS\",\n",
    "        \"email\": \"ds@stuba.sk\",\n",
    "        \"password\": \"ds_fiit\",\n",
    "        \"budget\": 100\n",
    "    }\n",
    ")"
   ],
   "metadata": {
    "collapsed": false,
    "pycharm": {
     "name": "#%%\n"
    }
   }
  },
  {
   "cell_type": "code",
   "execution_count": 4,
   "outputs": [
    {
     "data": {
      "text/plain": "<syft.core.node.common.client_manager.user_api.UserRequestAPI at 0x23d29ebd1c0>",
      "text/html": "<div>\n<style scoped>\n    .dataframe tbody tr th:only-of-type {\n        vertical-align: middle;\n    }\n\n    .dataframe tbody tr th {\n        vertical-align: top;\n    }\n\n    .dataframe thead th {\n        text-align: right;\n    }\n</style>\n<table border=\"1\" class=\"dataframe\">\n  <thead>\n    <tr style=\"text-align: right;\">\n      <th></th>\n      <th>id</th>\n      <th>email</th>\n      <th>name</th>\n      <th>budget</th>\n      <th>verify_key</th>\n      <th>role</th>\n      <th>added_by</th>\n      <th>website</th>\n      <th>institution</th>\n      <th>daa_pdf</th>\n      <th>created_at</th>\n      <th>budget_spent</th>\n    </tr>\n  </thead>\n  <tbody>\n    <tr>\n      <th>0</th>\n      <td>1</td>\n      <td>info@openmined.org</td>\n      <td>Jane Doe</td>\n      <td>5.55</td>\n      <td>54dd265f71c45a5e9f6fd3247a9a8ed06ed29ea5c1e5a9...</td>\n      <td>Owner</td>\n      <td>None</td>\n      <td>None</td>\n      <td>None</td>\n      <td>NaN</td>\n      <td>2022-03-09 08:12:01.421597</td>\n      <td>5.55</td>\n    </tr>\n    <tr>\n      <th>1</th>\n      <td>2</td>\n      <td>ds@stuba.sk</td>\n      <td>DS</td>\n      <td>100.00</td>\n      <td>2f13b3a4c89d19c664fdaec1ac6080ff609fbec72f74ba...</td>\n      <td>Data Scientist</td>\n      <td>Jane Doe</td>\n      <td></td>\n      <td></td>\n      <td>1.0</td>\n      <td>2022-03-09 08:13:02.640844</td>\n      <td>100.00</td>\n    </tr>\n  </tbody>\n</table>\n</div>"
     },
     "execution_count": 4,
     "metadata": {},
     "output_type": "execute_result"
    }
   ],
   "source": [
    "domain_node.users"
   ],
   "metadata": {
    "collapsed": false,
    "pycharm": {
     "name": "#%%\n"
    }
   }
  },
  {
   "cell_type": "code",
   "execution_count": 5,
   "outputs": [
    {
     "name": "stdout",
     "output_type": "stream",
     "text": [
      "do1 dataset: 84\n"
     ]
    }
   ],
   "source": [
    "dir_path = '../../data/prepared_brain_tumor_imgs/do1'\n",
    "do1_data = TransformedImageDataset(images_path=dir_path + '/imgs',\n",
    "                                   labels_path=dir_path + '/labels')\n",
    "\n",
    "print(f\"do1 dataset: {len(do1_data)}\")"
   ],
   "metadata": {
    "collapsed": false,
    "pycharm": {
     "name": "#%%\n"
    }
   }
  },
  {
   "cell_type": "code",
   "execution_count": 6,
   "outputs": [
    {
     "data": {
      "text/plain": "{'Patient 0': Tensor(child=SingleEntityPhiTensor(entity=Patient 0, child=[[[0 3 7 ... 1 1 1]\n   [0 3 7 ... 1 1 1]\n   [1 4 7 ... 1 1 1]\n   ...\n   [2 2 2 ... 2 1 1]\n   [1 1 1 ... 1 1 1]\n   [1 1 1 ... 1 1 1]]])),\n 'Patient 1': Tensor(child=SingleEntityPhiTensor(entity=Patient 1, child=[[[2 3 4 ... 0 0 0]\n   [2 1 3 ... 0 0 1]\n   [1 1 3 ... 0 0 1]\n   ...\n   [0 0 0 ... 4 2 1]\n   [2 3 2 ... 2 2 2]\n   [4 4 4 ... 0 3 4]]])),\n 'Patient 2': Tensor(child=SingleEntityPhiTensor(entity=Patient 2, child=[[[0 0 0 ... 0 0 0]\n   [0 0 0 ... 0 0 0]\n   [0 0 0 ... 0 0 0]\n   ...\n   [0 0 0 ... 0 0 0]\n   [0 0 0 ... 0 0 0]\n   [0 0 0 ... 0 0 0]]])),\n 'Patient 3': Tensor(child=SingleEntityPhiTensor(entity=Patient 3, child=[[[0 0 0 ... 0 0 0]\n   [0 0 0 ... 0 0 0]\n   [0 0 0 ... 0 0 0]\n   ...\n   [0 0 0 ... 0 0 0]\n   [0 0 0 ... 0 0 0]\n   [0 0 0 ... 0 0 0]]])),\n 'Patient 4': Tensor(child=SingleEntityPhiTensor(entity=Patient 4, child=[[[0 0 0 ... 0 0 0]\n   [0 0 0 ... 0 0 0]\n   [0 0 0 ... 0 0 0]\n   ...\n   [0 0 0 ... 0 0 0]\n   [0 0 0 ... 0 0 0]\n   [0 0 0 ... 0 0 0]]])),\n 'Patient 5': Tensor(child=SingleEntityPhiTensor(entity=Patient 5, child=[[[0 0 0 ... 0 0 0]\n   [0 0 0 ... 0 0 0]\n   [0 0 0 ... 0 0 0]\n   ...\n   [0 0 0 ... 0 0 0]\n   [0 0 0 ... 0 0 0]\n   [0 0 0 ... 0 0 0]]])),\n 'Patient 6': Tensor(child=SingleEntityPhiTensor(entity=Patient 6, child=[[[0 0 0 ... 0 0 0]\n   [0 0 0 ... 0 0 0]\n   [0 0 0 ... 0 0 0]\n   ...\n   [0 0 0 ... 0 0 0]\n   [0 0 0 ... 0 0 0]\n   [0 0 0 ... 0 0 0]]])),\n 'Patient 7': Tensor(child=SingleEntityPhiTensor(entity=Patient 7, child=[[[27 17 19 ... 18 17 25]\n   [13  4  6 ...  5  5 15]\n   [16  5  7 ...  7  6 16]\n   ...\n   [16  5  7 ...  7  6 16]\n   [14  6  6 ...  6  5 13]\n   [21 14 14 ... 14 14 24]]])),\n 'Patient 8': Tensor(child=SingleEntityPhiTensor(entity=Patient 8, child=[[[0 0 0 ... 0 0 0]\n   [0 0 0 ... 0 0 0]\n   [0 0 0 ... 0 0 0]\n   ...\n   [0 0 0 ... 0 0 0]\n   [0 0 0 ... 0 0 0]\n   [0 0 0 ... 0 0 0]]])),\n 'Patient 9': Tensor(child=SingleEntityPhiTensor(entity=Patient 9, child=[[[16 16 16 ... 16 16 16]\n   [16 16 16 ... 16 16 16]\n   [16 16 16 ... 16 16 16]\n   ...\n   [16 16 16 ... 16 16 16]\n   [16 16 16 ... 16 16 16]\n   [16 16 16 ... 16 16 16]]])),\n 'Patient 10': Tensor(child=SingleEntityPhiTensor(entity=Patient 10, child=[[[0 0 0 ... 0 0 0]\n   [0 0 0 ... 0 0 0]\n   [0 0 0 ... 0 0 0]\n   ...\n   [0 0 0 ... 0 0 0]\n   [0 0 0 ... 0 0 0]\n   [0 0 0 ... 0 0 0]]])),\n 'Patient 11': Tensor(child=SingleEntityPhiTensor(entity=Patient 11, child=[[[0 0 0 ... 0 0 0]\n   [0 0 0 ... 0 0 0]\n   [0 0 0 ... 0 0 0]\n   ...\n   [0 0 0 ... 0 0 0]\n   [0 0 0 ... 0 0 0]\n   [0 0 0 ... 0 0 0]]])),\n 'Patient 12': Tensor(child=SingleEntityPhiTensor(entity=Patient 12, child=[[[1 1 1 ... 0 0 0]\n   [1 1 0 ... 0 0 0]\n   [0 0 0 ... 0 0 1]\n   ...\n   [0 0 0 ... 0 0 0]\n   [0 0 0 ... 0 0 0]\n   [0 0 0 ... 0 0 1]]])),\n 'Patient 13': Tensor(child=SingleEntityPhiTensor(entity=Patient 13, child=[[[0 0 0 ... 0 0 0]\n   [0 0 0 ... 0 0 0]\n   [0 0 0 ... 0 0 0]\n   ...\n   [0 0 0 ... 0 0 0]\n   [0 0 0 ... 0 0 0]\n   [0 0 0 ... 0 0 0]]])),\n 'Patient 14': Tensor(child=SingleEntityPhiTensor(entity=Patient 14, child=[[[0 0 0 ... 0 0 0]\n   [0 0 0 ... 0 0 0]\n   [0 0 0 ... 0 0 0]\n   ...\n   [0 0 0 ... 0 0 0]\n   [0 0 0 ... 0 0 0]\n   [0 0 0 ... 0 0 0]]])),\n 'Patient 15': Tensor(child=SingleEntityPhiTensor(entity=Patient 15, child=[[[0 0 0 ... 0 0 0]\n   [0 0 0 ... 0 0 0]\n   [0 0 0 ... 0 0 0]\n   ...\n   [0 0 0 ... 0 0 0]\n   [0 0 0 ... 0 0 0]\n   [0 0 0 ... 0 0 0]]])),\n 'Patient 16': Tensor(child=SingleEntityPhiTensor(entity=Patient 16, child=[[[0 0 0 ... 0 0 0]\n   [0 0 0 ... 0 0 0]\n   [0 0 0 ... 0 0 0]\n   ...\n   [0 0 0 ... 0 0 0]\n   [0 0 0 ... 0 0 0]\n   [0 0 0 ... 0 0 0]]])),\n 'Patient 17': Tensor(child=SingleEntityPhiTensor(entity=Patient 17, child=[[[0 0 0 ... 0 0 0]\n   [0 0 0 ... 0 0 0]\n   [0 0 0 ... 0 0 0]\n   ...\n   [0 0 0 ... 0 0 0]\n   [0 0 0 ... 0 0 0]\n   [0 0 0 ... 0 0 0]]])),\n 'Patient 18': Tensor(child=SingleEntityPhiTensor(entity=Patient 18, child=[[[10 10 10 ... 10 10 10]\n   [10 10 10 ... 10 10 10]\n   [10 10 10 ... 10 10 10]\n   ...\n   [10 10 10 ... 10 10 10]\n   [10 10 10 ... 10 10 10]\n   [10 10 10 ... 10 10 10]]])),\n 'Patient 19': Tensor(child=SingleEntityPhiTensor(entity=Patient 19, child=[[[0 0 0 ... 0 0 0]\n   [0 0 0 ... 0 0 0]\n   [0 0 0 ... 0 0 0]\n   ...\n   [0 0 0 ... 0 0 0]\n   [0 0 0 ... 0 0 0]\n   [0 0 0 ... 0 0 0]]])),\n 'Patient 20': Tensor(child=SingleEntityPhiTensor(entity=Patient 20, child=[[[0 0 0 ... 0 0 0]\n   [0 0 0 ... 0 0 0]\n   [0 0 0 ... 0 0 0]\n   ...\n   [0 0 0 ... 0 0 0]\n   [0 0 0 ... 0 0 0]\n   [0 0 0 ... 0 0 0]]])),\n 'Patient 21': Tensor(child=SingleEntityPhiTensor(entity=Patient 21, child=[[[0 0 0 ... 0 0 0]\n   [0 0 0 ... 0 0 0]\n   [0 0 0 ... 0 0 0]\n   ...\n   [0 0 0 ... 0 0 0]\n   [0 0 0 ... 0 0 0]\n   [0 0 0 ... 0 0 0]]])),\n 'Patient 22': Tensor(child=SingleEntityPhiTensor(entity=Patient 22, child=[[[0 0 0 ... 0 0 0]\n   [0 0 0 ... 0 0 0]\n   [0 0 0 ... 0 0 0]\n   ...\n   [0 0 0 ... 0 0 0]\n   [0 0 0 ... 0 0 0]\n   [0 0 0 ... 0 0 0]]])),\n 'Patient 23': Tensor(child=SingleEntityPhiTensor(entity=Patient 23, child=[[[84 50 51 ... 48 66 68]\n   [63 10 11 ...  9 31 32]\n   [64 13 14 ... 11 33 33]\n   ...\n   [63 11 12 ...  9 32 33]\n   [62  9 10 ...  7 30 32]\n   [83 50 50 ... 47 64 66]]])),\n 'Patient 24': Tensor(child=SingleEntityPhiTensor(entity=Patient 24, child=[[[0 0 0 ... 0 0 0]\n   [0 0 0 ... 0 0 0]\n   [0 0 0 ... 0 0 0]\n   ...\n   [0 0 0 ... 0 0 0]\n   [0 0 0 ... 0 0 0]\n   [0 0 0 ... 0 0 0]]])),\n 'Patient 25': Tensor(child=SingleEntityPhiTensor(entity=Patient 25, child=[[[0 0 0 ... 0 0 0]\n   [0 0 0 ... 0 0 0]\n   [0 0 0 ... 0 0 0]\n   ...\n   [0 0 0 ... 0 0 0]\n   [0 0 0 ... 0 0 0]\n   [0 0 0 ... 0 0 0]]])),\n 'Patient 26': Tensor(child=SingleEntityPhiTensor(entity=Patient 26, child=[[[1 1 1 ... 1 1 1]\n   [1 1 1 ... 1 1 1]\n   [1 1 1 ... 1 1 1]\n   ...\n   [1 1 1 ... 1 1 1]\n   [1 1 1 ... 1 1 1]\n   [1 1 1 ... 1 1 1]]])),\n 'Patient 27': Tensor(child=SingleEntityPhiTensor(entity=Patient 27, child=[[[0 0 0 ... 0 0 0]\n   [0 0 0 ... 0 0 0]\n   [0 0 0 ... 0 0 0]\n   ...\n   [0 0 0 ... 0 0 0]\n   [0 0 0 ... 0 0 0]\n   [0 0 0 ... 0 0 0]]])),\n 'Patient 28': Tensor(child=SingleEntityPhiTensor(entity=Patient 28, child=[[[0 0 0 ... 0 0 0]\n   [0 0 0 ... 0 0 0]\n   [0 0 0 ... 0 0 0]\n   ...\n   [0 0 0 ... 0 0 0]\n   [0 0 0 ... 0 0 0]\n   [0 0 0 ... 0 0 0]]])),\n 'Patient 29': Tensor(child=SingleEntityPhiTensor(entity=Patient 29, child=[[[ 6  3  3 ...  4  3  6]\n   [ 7  4  1 ... 12 15 13]\n   [10  5  1 ...  6  7  8]\n   ...\n   [ 8  1  2 ...  2  2  5]\n   [ 8  8  2 ...  2  2  5]\n   [ 9  9  3 ...  4  4  6]]])),\n 'Patient 30': Tensor(child=SingleEntityPhiTensor(entity=Patient 30, child=[[[0 0 0 ... 0 0 0]\n   [0 0 0 ... 0 0 0]\n   [0 0 0 ... 0 0 0]\n   ...\n   [0 0 0 ... 0 0 0]\n   [0 0 0 ... 0 0 0]\n   [0 0 0 ... 0 0 0]]])),\n 'Patient 31': Tensor(child=SingleEntityPhiTensor(entity=Patient 31, child=[[[0 0 0 ... 0 0 0]\n   [0 0 0 ... 0 0 0]\n   [0 0 0 ... 0 0 0]\n   ...\n   [0 0 0 ... 0 0 0]\n   [0 0 0 ... 0 0 0]\n   [0 0 0 ... 0 0 0]]])),\n 'Patient 32': Tensor(child=SingleEntityPhiTensor(entity=Patient 32, child=[[[0 0 0 ... 0 0 0]\n   [0 0 0 ... 0 0 0]\n   [0 0 0 ... 0 0 0]\n   ...\n   [0 0 0 ... 0 0 0]\n   [0 0 0 ... 0 0 0]\n   [0 0 0 ... 0 0 0]]])),\n 'Patient 33': Tensor(child=SingleEntityPhiTensor(entity=Patient 33, child=[[[0 0 0 ... 0 0 0]\n   [0 0 0 ... 0 0 0]\n   [0 0 0 ... 0 0 0]\n   ...\n   [0 0 0 ... 0 0 0]\n   [0 0 0 ... 0 0 0]\n   [0 0 0 ... 0 0 0]]])),\n 'Patient 34': Tensor(child=SingleEntityPhiTensor(entity=Patient 34, child=[[[0 0 0 ... 0 0 0]\n   [0 0 0 ... 0 0 0]\n   [0 0 0 ... 0 0 0]\n   ...\n   [0 0 0 ... 0 0 0]\n   [0 0 0 ... 0 0 0]\n   [0 0 0 ... 0 0 0]]])),\n 'Patient 35': Tensor(child=SingleEntityPhiTensor(entity=Patient 35, child=[[[0 0 0 ... 0 0 0]\n   [0 0 0 ... 0 0 0]\n   [0 0 0 ... 0 0 0]\n   ...\n   [0 0 0 ... 0 0 0]\n   [0 0 0 ... 0 0 0]\n   [0 0 0 ... 0 0 0]]])),\n 'Patient 36': Tensor(child=SingleEntityPhiTensor(entity=Patient 36, child=[[[0 0 0 ... 0 0 0]\n   [0 0 0 ... 0 0 0]\n   [0 0 0 ... 0 0 0]\n   ...\n   [0 0 0 ... 0 0 0]\n   [0 0 0 ... 0 0 0]\n   [0 0 0 ... 0 0 0]]])),\n 'Patient 37': Tensor(child=SingleEntityPhiTensor(entity=Patient 37, child=[[[0 0 0 ... 0 0 0]\n   [0 0 0 ... 0 0 0]\n   [0 0 0 ... 0 0 0]\n   ...\n   [0 0 0 ... 0 0 0]\n   [0 0 0 ... 0 0 0]\n   [0 0 0 ... 0 0 0]]])),\n 'Patient 38': Tensor(child=SingleEntityPhiTensor(entity=Patient 38, child=[[[0 0 0 ... 0 0 0]\n   [0 0 0 ... 0 0 0]\n   [0 0 0 ... 0 0 0]\n   ...\n   [0 0 0 ... 0 0 0]\n   [0 0 0 ... 0 0 0]\n   [0 0 0 ... 0 0 0]]])),\n 'Patient 39': Tensor(child=SingleEntityPhiTensor(entity=Patient 39, child=[[[0 0 0 ... 0 0 0]\n   [0 0 0 ... 0 0 0]\n   [0 0 0 ... 0 0 0]\n   ...\n   [0 0 0 ... 0 0 0]\n   [0 0 0 ... 0 0 0]\n   [0 0 0 ... 0 0 0]]])),\n 'Patient 40': Tensor(child=SingleEntityPhiTensor(entity=Patient 40, child=[[[0 0 0 ... 0 0 0]\n   [0 0 0 ... 0 0 0]\n   [0 0 0 ... 0 0 0]\n   ...\n   [0 0 0 ... 0 0 0]\n   [0 0 0 ... 0 0 0]\n   [0 0 0 ... 0 0 0]]])),\n 'Patient 41': Tensor(child=SingleEntityPhiTensor(entity=Patient 41, child=[[[ 34  33  33 ...  30  30  24]\n   [ 33  33  32 ...  22  20  89]\n   [ 33  32  31 ...  14  10 161]\n   ...\n   [ 32  31  28 ...  17  12 157]\n   [ 33  32  29 ...  19  13 154]\n   [ 33  32  30 ...  21  19  52]]])),\n 'Patient 42': Tensor(child=SingleEntityPhiTensor(entity=Patient 42, child=[[[0 0 0 ... 0 0 0]\n   [0 0 0 ... 0 0 0]\n   [0 0 0 ... 0 0 0]\n   ...\n   [0 0 0 ... 0 0 0]\n   [0 0 0 ... 0 0 0]\n   [0 0 0 ... 0 0 0]]])),\n 'Patient 43': Tensor(child=SingleEntityPhiTensor(entity=Patient 43, child=[[[ 0  0  0 ...  0  0  0]\n   [ 0  0  0 ...  0  0  0]\n   [ 0  0  0 ...  0  0  0]\n   ...\n   [ 0  0  0 ... 35 48  0]\n   [ 0  0  0 ... 39 47  1]\n   [ 0  0  0 ...  0  0  0]]])),\n 'Patient 44': Tensor(child=SingleEntityPhiTensor(entity=Patient 44, child=[[[0 0 0 ... 0 0 0]\n   [0 0 0 ... 0 0 0]\n   [0 0 0 ... 0 0 0]\n   ...\n   [0 0 0 ... 0 0 0]\n   [0 0 0 ... 0 0 0]\n   [0 0 0 ... 0 0 0]]])),\n 'Patient 45': Tensor(child=SingleEntityPhiTensor(entity=Patient 45, child=[[[0 0 0 ... 0 0 0]\n   [0 0 0 ... 0 0 0]\n   [0 0 0 ... 0 0 0]\n   ...\n   [0 0 0 ... 0 0 0]\n   [0 0 0 ... 0 0 0]\n   [0 0 0 ... 0 0 0]]])),\n 'Patient 46': Tensor(child=SingleEntityPhiTensor(entity=Patient 46, child=[[[0 0 0 ... 0 0 0]\n   [0 0 0 ... 0 0 0]\n   [0 0 0 ... 0 0 0]\n   ...\n   [0 0 0 ... 0 0 0]\n   [0 0 0 ... 0 0 0]\n   [0 0 0 ... 0 0 0]]])),\n 'Patient 47': Tensor(child=SingleEntityPhiTensor(entity=Patient 47, child=[[[0 0 0 ... 0 0 0]\n   [0 0 0 ... 0 0 0]\n   [0 0 0 ... 0 0 0]\n   ...\n   [0 0 0 ... 0 0 0]\n   [0 0 0 ... 0 0 0]\n   [0 0 0 ... 0 0 0]]])),\n 'Patient 48': Tensor(child=SingleEntityPhiTensor(entity=Patient 48, child=[[[0 0 0 ... 0 0 0]\n   [0 0 0 ... 0 0 0]\n   [0 0 0 ... 0 0 0]\n   ...\n   [0 0 0 ... 0 0 0]\n   [0 0 0 ... 0 0 0]\n   [0 0 0 ... 0 0 0]]])),\n 'Patient 49': Tensor(child=SingleEntityPhiTensor(entity=Patient 49, child=[[[0 0 0 ... 0 0 0]\n   [0 0 0 ... 0 0 0]\n   [0 0 0 ... 0 0 0]\n   ...\n   [0 0 0 ... 0 0 0]\n   [0 0 0 ... 0 0 0]\n   [0 0 0 ... 0 0 0]]])),\n 'Patient 50': Tensor(child=SingleEntityPhiTensor(entity=Patient 50, child=[[[0 0 0 ... 0 0 0]\n   [0 0 0 ... 0 0 0]\n   [0 0 0 ... 0 0 0]\n   ...\n   [0 0 0 ... 0 0 0]\n   [0 0 0 ... 0 0 0]\n   [0 0 0 ... 0 0 0]]])),\n 'Patient 51': Tensor(child=SingleEntityPhiTensor(entity=Patient 51, child=[[[ 0  0  2 ...  0 17 30]\n   [ 0  0 63 ...  0 17 29]\n   [ 0  0 49 ...  0 17 29]\n   ...\n   [ 0  0  0 ...  0 15 28]\n   [ 0  0  0 ...  0 14 28]\n   [46 46 46 ... 48 33 26]]])),\n 'Patient 52': Tensor(child=SingleEntityPhiTensor(entity=Patient 52, child=[[[0 0 0 ... 0 0 0]\n   [0 0 0 ... 0 0 0]\n   [0 0 0 ... 0 0 0]\n   ...\n   [0 0 0 ... 0 0 0]\n   [0 0 0 ... 0 0 0]\n   [0 0 0 ... 0 0 0]]])),\n 'Patient 53': Tensor(child=SingleEntityPhiTensor(entity=Patient 53, child=[[[0 0 0 ... 0 0 0]\n   [0 0 0 ... 0 0 0]\n   [0 0 0 ... 0 0 0]\n   ...\n   [0 0 0 ... 0 0 0]\n   [0 0 0 ... 0 0 0]\n   [0 0 0 ... 0 0 0]]])),\n 'Patient 54': Tensor(child=SingleEntityPhiTensor(entity=Patient 54, child=[[[0 0 0 ... 0 0 0]\n   [0 0 0 ... 0 0 0]\n   [0 0 0 ... 0 0 0]\n   ...\n   [0 0 0 ... 0 0 0]\n   [0 0 0 ... 0 0 0]\n   [0 0 0 ... 0 0 0]]])),\n 'Patient 55': Tensor(child=SingleEntityPhiTensor(entity=Patient 55, child=[[[0 0 0 ... 0 0 0]\n   [0 0 0 ... 0 0 0]\n   [0 0 0 ... 0 0 0]\n   ...\n   [0 0 0 ... 0 0 0]\n   [0 0 0 ... 0 0 0]\n   [0 0 0 ... 0 0 0]]])),\n 'Patient 56': Tensor(child=SingleEntityPhiTensor(entity=Patient 56, child=[[[0 0 0 ... 0 0 0]\n   [0 0 0 ... 0 0 0]\n   [0 0 0 ... 0 0 0]\n   ...\n   [0 0 0 ... 0 0 0]\n   [0 0 0 ... 0 0 0]\n   [0 0 0 ... 0 0 0]]])),\n 'Patient 57': Tensor(child=SingleEntityPhiTensor(entity=Patient 57, child=[[[9 8 7 ... 9 9 9]\n   [8 8 8 ... 9 9 9]\n   [8 8 9 ... 8 8 8]\n   ...\n   [8 8 7 ... 8 8 8]\n   [8 8 8 ... 8 8 8]\n   [9 9 9 ... 8 8 8]]])),\n 'Patient 58': Tensor(child=SingleEntityPhiTensor(entity=Patient 58, child=[[[0 0 0 ... 0 0 0]\n   [0 0 0 ... 0 0 0]\n   [0 0 0 ... 0 0 0]\n   ...\n   [0 0 0 ... 0 0 0]\n   [0 0 0 ... 0 0 0]\n   [0 0 0 ... 0 0 0]]])),\n 'Patient 59': Tensor(child=SingleEntityPhiTensor(entity=Patient 59, child=[[[0 0 0 ... 0 0 0]\n   [0 0 0 ... 0 0 0]\n   [0 0 0 ... 0 0 0]\n   ...\n   [0 0 0 ... 0 0 0]\n   [0 0 0 ... 0 0 0]\n   [0 0 0 ... 0 0 0]]])),\n 'Patient 60': Tensor(child=SingleEntityPhiTensor(entity=Patient 60, child=[[[1 1 1 ... 1 1 1]\n   [1 1 1 ... 1 1 1]\n   [1 1 1 ... 1 1 1]\n   ...\n   [1 1 1 ... 1 1 1]\n   [1 1 1 ... 1 1 1]\n   [1 1 1 ... 1 1 1]]])),\n 'Patient 61': Tensor(child=SingleEntityPhiTensor(entity=Patient 61, child=[[[0 0 0 ... 0 0 0]\n   [0 0 0 ... 0 0 0]\n   [0 0 0 ... 0 0 0]\n   ...\n   [0 0 0 ... 0 0 0]\n   [0 0 0 ... 0 0 0]\n   [0 0 0 ... 0 0 0]]])),\n 'Patient 62': Tensor(child=SingleEntityPhiTensor(entity=Patient 62, child=[[[0 0 0 ... 0 0 0]\n   [0 0 0 ... 0 0 0]\n   [0 0 0 ... 0 0 0]\n   ...\n   [0 0 0 ... 0 0 0]\n   [0 0 0 ... 0 0 0]\n   [0 0 0 ... 0 0 0]]])),\n 'Patient 63': Tensor(child=SingleEntityPhiTensor(entity=Patient 63, child=[[[0 0 0 ... 0 0 0]\n   [0 0 0 ... 0 0 0]\n   [0 0 0 ... 0 0 0]\n   ...\n   [0 0 0 ... 0 0 0]\n   [0 0 0 ... 0 0 0]\n   [0 0 0 ... 0 0 0]]])),\n 'Patient 64': Tensor(child=SingleEntityPhiTensor(entity=Patient 64, child=[[[0 0 0 ... 0 0 0]\n   [0 0 0 ... 0 0 0]\n   [0 0 0 ... 0 0 0]\n   ...\n   [0 0 0 ... 0 0 0]\n   [0 0 0 ... 0 0 0]\n   [0 0 0 ... 0 0 0]]])),\n 'Patient 65': Tensor(child=SingleEntityPhiTensor(entity=Patient 65, child=[[[ 0  0  0 ...  1  1  1]\n   [ 0  0  0 ...  0  0  0]\n   [ 0  0  0 ...  0  0  0]\n   ...\n   [ 0  0  0 ... 18  6  0]\n   [ 0  0  0 ... 92 33  0]\n   [ 0  0  0 ... 21 10  2]]])),\n 'Patient 66': Tensor(child=SingleEntityPhiTensor(entity=Patient 66, child=[[[ 1  1  1 ...  1  1  1]\n   [ 1  1  1 ...  1  1  1]\n   [ 1  1  1 ...  1  1  1]\n   ...\n   [42 27  1 ...  1  1  1]\n   [54 32  0 ...  1  1  1]\n   [ 1  0  1 ...  1  1  1]]])),\n 'Patient 67': Tensor(child=SingleEntityPhiTensor(entity=Patient 67, child=[[[0 0 0 ... 0 0 0]\n   [0 0 0 ... 0 0 0]\n   [0 0 0 ... 0 0 0]\n   ...\n   [0 0 0 ... 0 0 0]\n   [0 0 0 ... 0 0 0]\n   [0 0 0 ... 0 0 0]]])),\n 'Patient 68': Tensor(child=SingleEntityPhiTensor(entity=Patient 68, child=[[[0 0 0 ... 0 0 0]\n   [0 0 0 ... 0 0 0]\n   [0 0 0 ... 0 0 0]\n   ...\n   [0 0 0 ... 0 0 0]\n   [0 0 0 ... 0 0 0]\n   [0 0 0 ... 0 0 0]]])),\n 'Patient 69': Tensor(child=SingleEntityPhiTensor(entity=Patient 69, child=[[[0 0 0 ... 0 0 0]\n   [0 0 0 ... 0 0 0]\n   [0 0 0 ... 0 0 0]\n   ...\n   [0 0 0 ... 0 0 0]\n   [0 0 0 ... 0 0 0]\n   [0 0 0 ... 0 0 0]]])),\n 'Patient 70': Tensor(child=SingleEntityPhiTensor(entity=Patient 70, child=[[[0 0 0 ... 0 0 0]\n   [0 0 0 ... 0 0 0]\n   [0 0 0 ... 0 0 0]\n   ...\n   [0 0 0 ... 0 0 0]\n   [0 0 0 ... 0 0 0]\n   [0 0 0 ... 0 0 0]]])),\n 'Patient 71': Tensor(child=SingleEntityPhiTensor(entity=Patient 71, child=[[[0 0 0 ... 0 0 0]\n   [0 0 0 ... 0 0 0]\n   [0 0 0 ... 0 0 0]\n   ...\n   [0 0 0 ... 0 0 0]\n   [0 0 0 ... 0 0 0]\n   [0 0 0 ... 0 0 0]]])),\n 'Patient 72': Tensor(child=SingleEntityPhiTensor(entity=Patient 72, child=[[[0 0 0 ... 0 0 0]\n   [0 0 0 ... 0 0 0]\n   [0 0 0 ... 0 0 0]\n   ...\n   [0 0 0 ... 0 0 0]\n   [0 0 0 ... 0 0 0]\n   [0 0 0 ... 0 0 0]]])),\n 'Patient 73': Tensor(child=SingleEntityPhiTensor(entity=Patient 73, child=[[[0 0 0 ... 0 0 0]\n   [0 0 0 ... 0 0 0]\n   [0 0 0 ... 0 0 0]\n   ...\n   [0 0 0 ... 0 0 0]\n   [0 0 0 ... 0 0 0]\n   [0 0 0 ... 0 0 0]]])),\n 'Patient 74': Tensor(child=SingleEntityPhiTensor(entity=Patient 74, child=[[[0 0 0 ... 0 0 0]\n   [0 0 0 ... 0 0 0]\n   [0 0 0 ... 0 0 0]\n   ...\n   [0 0 0 ... 0 0 0]\n   [0 0 0 ... 0 0 0]\n   [0 0 0 ... 0 0 0]]])),\n 'Patient 75': Tensor(child=SingleEntityPhiTensor(entity=Patient 75, child=[[[0 0 0 ... 0 0 0]\n   [0 0 0 ... 0 0 0]\n   [0 0 0 ... 0 0 0]\n   ...\n   [0 0 0 ... 0 0 0]\n   [0 0 0 ... 0 0 0]\n   [0 0 0 ... 0 0 0]]])),\n 'Patient 76': Tensor(child=SingleEntityPhiTensor(entity=Patient 76, child=[[[ 9 13 14 ... 14 14 13]\n   [ 9 13 15 ... 14 14 14]\n   [ 8 14 14 ... 13 14 14]\n   ...\n   [10 15 14 ... 14 13 13]\n   [ 8 13 14 ... 14 14 14]\n   [ 9 12 13 ... 13 13 13]]])),\n 'Patient 77': Tensor(child=SingleEntityPhiTensor(entity=Patient 77, child=[[[0 0 0 ... 0 0 0]\n   [0 0 0 ... 0 0 0]\n   [0 0 0 ... 0 0 0]\n   ...\n   [0 0 0 ... 0 0 0]\n   [0 0 0 ... 0 0 0]\n   [0 0 0 ... 0 0 0]]])),\n 'Patient 78': Tensor(child=SingleEntityPhiTensor(entity=Patient 78, child=[[[1 1 1 ... 1 1 1]\n   [1 1 1 ... 1 1 1]\n   [1 1 1 ... 1 1 1]\n   ...\n   [1 1 1 ... 1 1 1]\n   [1 1 1 ... 1 1 1]\n   [1 1 1 ... 1 1 1]]])),\n 'Patient 79': Tensor(child=SingleEntityPhiTensor(entity=Patient 79, child=[[[0 0 0 ... 0 0 0]\n   [0 0 0 ... 0 0 0]\n   [0 0 0 ... 0 0 0]\n   ...\n   [0 0 0 ... 0 0 0]\n   [0 0 0 ... 0 0 0]\n   [0 0 0 ... 0 0 0]]])),\n 'Patient 80': Tensor(child=SingleEntityPhiTensor(entity=Patient 80, child=[[[0 0 0 ... 0 0 0]\n   [0 0 0 ... 0 0 0]\n   [0 0 0 ... 0 0 0]\n   ...\n   [0 0 0 ... 0 0 0]\n   [0 0 0 ... 0 0 0]\n   [0 0 0 ... 0 0 0]]])),\n 'Patient 81': Tensor(child=SingleEntityPhiTensor(entity=Patient 81, child=[[[0 0 0 ... 0 0 0]\n   [0 0 0 ... 0 0 0]\n   [0 0 0 ... 0 0 0]\n   ...\n   [0 0 0 ... 0 0 0]\n   [0 0 0 ... 0 0 0]\n   [0 0 0 ... 0 0 0]]])),\n 'Patient 82': Tensor(child=SingleEntityPhiTensor(entity=Patient 82, child=[[[0 0 0 ... 0 0 0]\n   [0 0 0 ... 0 0 0]\n   [0 0 0 ... 0 0 0]\n   ...\n   [0 0 0 ... 0 0 0]\n   [0 0 0 ... 0 0 0]\n   [0 0 0 ... 0 0 0]]])),\n 'Patient 83': Tensor(child=SingleEntityPhiTensor(entity=Patient 83, child=[[[0 0 0 ... 0 0 0]\n   [0 0 0 ... 0 0 0]\n   [0 0 0 ... 0 0 0]\n   ...\n   [0 0 0 ... 0 0 0]\n   [0 0 0 ... 0 0 0]\n   [0 0 0 ... 0 0 0]]]))}"
     },
     "execution_count": 6,
     "metadata": {},
     "output_type": "execute_result"
    }
   ],
   "source": [
    "from syft.core.adp.entity import Entity\n",
    "do1_final_dataset = {}\n",
    "entities = []\n",
    "\n",
    "for idx, data in enumerate(do1_data):\n",
    "    name = f\"Patient {idx}\"\n",
    "    entity = Entity(name)\n",
    "    entities.append(entity)\n",
    "    image_tensor =  sy.Tensor(data[0].detach().numpy().astype(np.int32))\\\n",
    "        .private(min_val=0, max_val=100, entities=entity)\n",
    "    do1_final_dataset[name] = image_tensor\n",
    "\n",
    "do1_final_dataset"
   ],
   "metadata": {
    "collapsed": false,
    "pycharm": {
     "name": "#%%\n"
    }
   }
  },
  {
   "cell_type": "code",
   "execution_count": 7,
   "outputs": [
    {
     "name": "stdout",
     "output_type": "stream",
     "text": [
      "Loading dataset... uploading... SUCCESS!                                                                                                                                      \n",
      "\n",
      "Run <your client variable>.datasets to see your new dataset loaded into your machine!\n"
     ]
    }
   ],
   "source": [
    "domain_node.load_dataset(assets=do1_final_dataset,\n",
    "                         name=\"Data from DO1\",\n",
    "                         description=\"Brain Tumor MRIs from DO1\")"
   ],
   "metadata": {
    "collapsed": false,
    "pycharm": {
     "name": "#%%\n"
    }
   }
  },
  {
   "cell_type": "code",
   "execution_count": 8,
   "outputs": [
    {
     "data": {
      "text/plain": "<syft.core.node.common.client_manager.dataset_api.DatasetRequestAPI at 0x23d29ebd3d0>",
      "text/html": "<style>\n                #myInput {\n                  background-position: 10px 12px; /* Position the search icon */\n                  background-repeat: no-repeat; /* Do not repeat the icon image */\n                  background-color: #bbb;\n                  width: 98%; /* Full-width */\n                  font-size: 14px; /* Increase font-size */\n                  padding: 12px 20px 12px 40px; /* Add some padding */\n                  border: 1px solid #ddd; /* Add a grey border */\n                  margin-bottom: 12px; /* Add some space below the input */\n                }\n\n                #myTable {\n                  border-collapse: collapse; /* Collapse borders */\n                  width: 100%; /* Full-width */\n                  border: 1px solid #ddd; /* Add a grey border */\n                  font-size: 14px; /* Increase font-size */\n                }\n\n                #myTable th, #myTable td {\n                  text-align: left; /* Left-align text */\n                  padding: 10px; /* Add padding */\n                }\n\n                #myTable tr {\n                  /* Add a bottom border to all table rows */\n                  border-bottom: 1px solid #ddd;\n                }\n\n                #myTable tr.header, #myTable tr:hover {\n                  /* Add a grey background color to the table header and on hover */\n                  background-color: #777;\n                }\n                </style>\n\n                <table id=\"myTable\" style=\"width:1000px\">\n                  <tr class=\"header\">\n                    <th style=\"width:30px\">Idx</th>\n                    <th style=\"width:20%;\">Name</th>\n                    <th style=\"width:35%;\">Description</th>\n                    <th style=\"width:20%;\">Assets</th>\n                    <th style=\"width:300px;\">Id</th>\n                  </tr>\n                \n\n          <tr>\n            <td>[0]</td>\n            <td>Data from DO1</td>\n            <td>Brain Tumor MRIs from DO1</td>\n            <td>[\"Patient 0\"] -> Tensor<br /><br />[\"Patient 1\"] -> Tensor<br /><br />[\"Patient 2\"] -> Tensor<br /><br />...<br /><br /></td>\n            <td>337642f9-c536-4fb2-a5f7-ebe81edbfc00</td>\n          </tr>\n        </table>\n\n        <script>\n        function myFunction() {\n          // Declare variables\n          var input, filter, table, tr, td, i, txtValue;\n          input = document.getElementById(\"myInput\");\n          filter = input.value.toUpperCase();\n          table = document.getElementById(\"myTable\");\n          tr = table.getElementsByTagName(\"tr\");\n\n          // Loop through all table rows, and hide those who don't match the search query\n          for (i = 0; i < tr.length; i++) {\n            name_td = tr[i].getElementsByTagName(\"td\")[1];\n            desc_td = tr[i].getElementsByTagName(\"td\")[2];\n            asset_td = tr[i].getElementsByTagName(\"td\")[3];\n            id_td = tr[i].getElementsByTagName(\"td\")[4];\n            if (name_td || desc_td || asset_td || id_td) {\n              name_txtValue = name_td.textContent || name_td.innerText;\n              desc_txtValue = desc_td.textContent || name_td.innerText;\n              asset_txtValue = asset_td.textContent || name_td.innerText;\n              id_txtValue = id_td.textContent || name_td.innerText;\n              name_bool = name_txtValue.toUpperCase().indexOf(filter) > -1;\n              desc_bool = desc_txtValue.toUpperCase().indexOf(filter) > -1;\n              asset_bool = asset_txtValue.toUpperCase().indexOf(filter) > -1;\n              id_bool = id_txtValue.toUpperCase().indexOf(filter) > -1;\n              if (name_bool || desc_bool || asset_bool || id_bool) {\n                tr[i].style.display = \"\";\n              } else {\n                tr[i].style.display = \"none\";\n              }\n            }\n          }\n        }\n        </script>"
     },
     "execution_count": 8,
     "metadata": {},
     "output_type": "execute_result"
    }
   ],
   "source": [
    "domain_node.datasets"
   ],
   "metadata": {
    "collapsed": false,
    "pycharm": {
     "name": "#%%\n"
    }
   }
  },
  {
   "cell_type": "code",
   "execution_count": 9,
   "outputs": [],
   "source": [
    "domain_node.requests.add_handler(action=\"accept\")"
   ],
   "metadata": {
    "collapsed": false,
    "pycharm": {
     "name": "#%%\n"
    }
   }
  },
  {
   "cell_type": "code",
   "execution_count": 22,
   "outputs": [
    {
     "data": {
      "text/plain": "[]",
      "text/html": "<div>\n<style scoped>\n    .dataframe tbody tr th:only-of-type {\n        vertical-align: middle;\n    }\n\n    .dataframe tbody tr th {\n        vertical-align: top;\n    }\n\n    .dataframe thead th {\n        text-align: right;\n    }\n</style>\n<table border=\"1\" class=\"dataframe\">\n  <thead>\n    <tr style=\"text-align: right;\">\n      <th></th>\n    </tr>\n  </thead>\n  <tbody>\n  </tbody>\n</table>\n</div>"
     },
     "execution_count": 22,
     "metadata": {},
     "output_type": "execute_result"
    }
   ],
   "source": [
    "domain_node.requests"
   ],
   "metadata": {
    "collapsed": false,
    "pycharm": {
     "name": "#%%\n"
    }
   }
  },
  {
   "cell_type": "code",
   "execution_count": 18,
   "outputs": [],
   "source": [
    "published_res = domain_node.datasets[0][\"Patient 0\"].publish(sigma=10)"
   ],
   "metadata": {
    "collapsed": false,
    "pycharm": {
     "name": "#%%\n"
    }
   }
  },
  {
   "cell_type": "code",
   "execution_count": 19,
   "outputs": [
    {
     "data": {
      "text/plain": "False"
     },
     "execution_count": 19,
     "metadata": {},
     "output_type": "execute_result"
    }
   ],
   "source": [
    "published_res.exists"
   ],
   "metadata": {
    "collapsed": false,
    "pycharm": {
     "name": "#%%\n"
    }
   }
  },
  {
   "cell_type": "code",
   "execution_count": null,
   "outputs": [],
   "source": [
    "from syft.core.tensor.smpc.mpc_tensor import MPCTensor\n",
    "\n",
    "mpc_data = MPCTensor()"
   ],
   "metadata": {
    "collapsed": false,
    "pycharm": {
     "name": "#%%\n"
    }
   }
  }
 ],
 "metadata": {
  "kernelspec": {
   "display_name": "Python 3",
   "language": "python",
   "name": "python3"
  },
  "language_info": {
   "codemirror_mode": {
    "name": "ipython",
    "version": 2
   },
   "file_extension": ".py",
   "mimetype": "text/x-python",
   "name": "python",
   "nbconvert_exporter": "python",
   "pygments_lexer": "ipython2",
   "version": "2.7.6"
  }
 },
 "nbformat": 4,
 "nbformat_minor": 0
}