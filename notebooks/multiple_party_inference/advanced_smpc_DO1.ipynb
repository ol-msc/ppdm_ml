{
 "cells": [
  {
   "cell_type": "markdown",
   "metadata": {
    "collapsed": true,
    "pycharm": {
     "name": "#%% md\n"
    }
   },
   "source": [
    "# Brain Tumor Detection with Syft & SyMPC\n",
    "Oleksandr Lytvyn\n",
    "dataset link: [kaggle.com/navoneel/brain-mri-images-for-brain-tumor-detection](https://www.kaggle.com/navoneel/brain-mri-images-for-brain-tumor-detection)"
   ]
  },
  {
   "cell_type": "markdown",
   "source": [
    "## Data Owner 1\n",
    "#### TASKS\n",
    "1. Establish the Syft local syft instance\n",
    "2. Upload the data\n",
    "3. Accept the request of DS to __access the data__ the data with DS\n",
    "4. Retrieve the prediction results, (or allow the DS to access the prediction results)"
   ],
   "metadata": {
    "collapsed": false
   }
  },
  {
   "cell_type": "code",
   "execution_count": 1,
   "outputs": [],
   "source": [
    "import pandas as pd\n",
    "import numpy as np\n",
    "import syft as sy\n",
    "\n",
    "import torch\n",
    "from torch.utils.data import DataLoader\n",
    "\n",
    "from notebooks.transformed_dataset import TransformedImageDataset"
   ],
   "metadata": {
    "collapsed": false,
    "pycharm": {
     "name": "#%%\n"
    }
   }
  },
  {
   "cell_type": "markdown",
   "source": [
    "## SMPC part"
   ],
   "metadata": {
    "collapsed": false
   }
  },
  {
   "cell_type": "code",
   "execution_count": 2,
   "outputs": [
    {
     "name": "stdout",
     "output_type": "stream",
     "text": [
      "🎤  🎸  ♪♪♪ Joining Duet ♫♫♫  🎻  🎹\n",
      "\n",
      "♫♫♫ >\u001B[93m DISCLAIMER\u001B[0m: \u001B[1mDuet is an experimental feature currently in beta.\n",
      "♫♫♫ > Use at your own risk.\n",
      "\u001B[0m\n",
      "\u001B[1m\n",
      "    > ❤️ \u001B[91mLove\u001B[0m \u001B[92mDuet\u001B[0m? \u001B[93mPlease\u001B[0m \u001B[94mconsider\u001B[0m \u001B[95msupporting\u001B[0m \u001B[91mour\u001B[0m \u001B[93mcommunity!\u001B[0m\n",
      "    > https://github.com/sponsors/OpenMined\u001B[1m\n",
      "\n",
      "♫♫♫ > Punching through firewall to OpenGrid Network Node at:\n",
      "♫♫♫ > http://ec2-18-218-7-180.us-east-2.compute.amazonaws.com:5000\n",
      "♫♫♫ >\n",
      "♫♫♫ > ...waiting for response from OpenGrid Network... \n",
      "♫♫♫ > \u001B[92mDONE!\u001B[0m\n",
      "\n",
      "♫♫♫ > \u001B[92mCONNECTED!\u001B[0m\n"
     ]
    }
   ],
   "source": [
    "duet_do = sy.join_duet(loopback=True)"
   ],
   "metadata": {
    "collapsed": false,
    "pycharm": {
     "name": "#%%\n"
    }
   }
  },
  {
   "cell_type": "code",
   "execution_count": 3,
   "outputs": [
    {
     "name": "stdout",
     "output_type": "stream",
     "text": [
      "🎤  🎸  ♪♪♪ Starting Duet ♫♫♫  🎻  🎹\n",
      "\n",
      "♫♫♫ >\u001B[93m DISCLAIMER\u001B[0m: \u001B[1mDuet is an experimental feature currently in beta.\n",
      "♫♫♫ > Use at your own risk.\n",
      "\u001B[0m\n",
      "\u001B[1m\n",
      "    > ❤️ \u001B[91mLove\u001B[0m \u001B[92mDuet\u001B[0m? \u001B[93mPlease\u001B[0m \u001B[94mconsider\u001B[0m \u001B[95msupporting\u001B[0m \u001B[91mour\u001B[0m \u001B[93mcommunity!\u001B[0m\n",
      "    > https://github.com/sponsors/OpenMined\u001B[1m\n",
      "\n",
      "♫♫♫ > Punching through firewall to OpenGrid Network Node at:\n",
      "♫♫♫ > http://ec2-18-218-7-180.us-east-2.compute.amazonaws.com:5000\n",
      "♫♫♫ >\n",
      "♫♫♫ > ...waiting for response from OpenGrid Network... \n",
      "♫♫♫ > \u001B[92mDONE!\u001B[0m\n",
      "\n",
      "♫♫♫ > \u001B[95mSTEP 1:\u001B[0m Send the following code to your Duet Partner!\n",
      "\n",
      "import syft as sy\n",
      "duet = sy.join_duet(loopback=True)\n",
      "\n",
      "♫♫♫ > Connecting...\n",
      "\n",
      "♫♫♫ > \u001B[92mCONNECTED!\u001B[0m\n",
      "\n"
     ]
    }
   ],
   "source": [
    "duet_p2 = sy.launch_duet(loopback=True)"
   ],
   "metadata": {
    "collapsed": false,
    "pycharm": {
     "name": "#%%\n"
    }
   }
  },
  {
   "cell_type": "code",
   "execution_count": 4,
   "outputs": [
    {
     "name": "stdout",
     "output_type": "stream",
     "text": [
      "do1 dataset: 84\n"
     ]
    }
   ],
   "source": [
    "dir_path = '../../data/prepared_brain_tumor_imgs/do1'\n",
    "raw_do1_data = TransformedImageDataset(images_path=dir_path + '/imgs',\n",
    "                                   labels_path=dir_path + '/labels')\n",
    "\n",
    "print(f\"do1 dataset: {len(raw_do1_data)}\")"
   ],
   "metadata": {
    "collapsed": false,
    "pycharm": {
     "name": "#%%\n"
    }
   }
  },
  {
   "cell_type": "code",
   "execution_count": 5,
   "outputs": [],
   "source": [
    "data_loader = DataLoader(raw_do1_data, batch_size=1)"
   ],
   "metadata": {
    "collapsed": false,
    "pycharm": {
     "name": "#%%\n"
    }
   }
  },
  {
   "cell_type": "code",
   "execution_count": 6,
   "outputs": [],
   "source": [
    "for idx, data in enumerate(data_loader):\n",
    "    name = f\"Patient {idx}\"\n",
    "    tensor = data[0].type(torch.float32)\n",
    "    data[0].send(duet_p2, pointable=True, tags=[f\"#test_tensor_{idx}\"])\n",
    "    break"
   ],
   "metadata": {
    "collapsed": false,
    "pycharm": {
     "name": "#%%\n"
    }
   }
  },
  {
   "cell_type": "code",
   "execution_count": 7,
   "outputs": [
    {
     "data": {
      "text/plain": "                                        ID              Tags Description  \\\n0  <UID: a94208f8d8ae4184a983079f261504e7>  [#test_tensor_0]               \n\n              object_type  \n0  <class 'torch.Tensor'>  ",
      "text/html": "<div>\n<style scoped>\n    .dataframe tbody tr th:only-of-type {\n        vertical-align: middle;\n    }\n\n    .dataframe tbody tr th {\n        vertical-align: top;\n    }\n\n    .dataframe thead th {\n        text-align: right;\n    }\n</style>\n<table border=\"1\" class=\"dataframe\">\n  <thead>\n    <tr style=\"text-align: right;\">\n      <th></th>\n      <th>ID</th>\n      <th>Tags</th>\n      <th>Description</th>\n      <th>object_type</th>\n    </tr>\n  </thead>\n  <tbody>\n    <tr>\n      <th>0</th>\n      <td>&lt;UID: a94208f8d8ae4184a983079f261504e7&gt;</td>\n      <td>[#test_tensor_0]</td>\n      <td></td>\n      <td>&lt;class 'torch.Tensor'&gt;</td>\n    </tr>\n  </tbody>\n</table>\n</div>"
     },
     "execution_count": 7,
     "metadata": {},
     "output_type": "execute_result"
    }
   ],
   "source": [
    "duet_p2.store.pandas"
   ],
   "metadata": {
    "collapsed": false,
    "pycharm": {
     "name": "#%%\n"
    }
   }
  },
  {
   "cell_type": "code",
   "execution_count": 11,
   "outputs": [
    {
     "data": {
      "text/plain": "[]"
     },
     "execution_count": 11,
     "metadata": {},
     "output_type": "execute_result"
    }
   ],
   "source": [
    "duet_p2.requests"
   ],
   "metadata": {
    "collapsed": false,
    "pycharm": {
     "name": "#%%\n"
    }
   }
  },
  {
   "cell_type": "code",
   "execution_count": 8,
   "outputs": [],
   "source": [
    "duet_p2.requests.add_handler(\n",
    "    action=\"accept\"\n",
    ")"
   ],
   "metadata": {
    "collapsed": false,
    "pycharm": {
     "name": "#%%\n"
    }
   }
  },
  {
   "cell_type": "code",
   "execution_count": 9,
   "outputs": [
    {
     "data": {
      "text/plain": "torch.Size([1, 64, 64])"
     },
     "execution_count": 9,
     "metadata": {},
     "output_type": "execute_result"
    }
   ],
   "source": [],
   "metadata": {
    "collapsed": false,
    "pycharm": {
     "name": "#%%\n"
    }
   }
  },
  {
   "cell_type": "code",
   "execution_count": 19,
   "outputs": [
    {
     "data": {
      "text/plain": "<Duet: <UID: e54e24457ab04902806837696fb79aa9>>"
     },
     "execution_count": 19,
     "metadata": {},
     "output_type": "execute_result"
    }
   ],
   "source": [
    "duet_do"
   ],
   "metadata": {
    "collapsed": false,
    "pycharm": {
     "name": "#%%\n"
    }
   }
  }
 ],
 "metadata": {
  "kernelspec": {
   "display_name": "Python 3",
   "language": "python",
   "name": "python3"
  },
  "language_info": {
   "codemirror_mode": {
    "name": "ipython",
    "version": 2
   },
   "file_extension": ".py",
   "mimetype": "text/x-python",
   "name": "python",
   "nbconvert_exporter": "python",
   "pygments_lexer": "ipython2",
   "version": "2.7.6"
  }
 },
 "nbformat": 4,
 "nbformat_minor": 0
}