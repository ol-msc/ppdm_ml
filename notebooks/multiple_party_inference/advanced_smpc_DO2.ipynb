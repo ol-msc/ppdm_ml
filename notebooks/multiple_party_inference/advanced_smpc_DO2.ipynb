{
 "cells": [
  {
   "cell_type": "markdown",
   "metadata": {
    "collapsed": true,
    "pycharm": {
     "name": "#%% md\n"
    }
   },
   "source": [
    "# Brain Tumor Detection with Syft & SyMPC\n",
    "Oleksandr Lytvyn\n",
    "dataset link: [kaggle.com/navoneel/brain-mri-images-for-brain-tumor-detection](https://www.kaggle.com/navoneel/brain-mri-images-for-brain-tumor-detection)"
   ]
  },
  {
   "cell_type": "markdown",
   "source": [
    "## Data Owner 2\n",
    "#### TASKS\n",
    "1. Establish the Syft local syft instance\n",
    "2. Upload the data\n",
    "3. Accept the request of DS to __access the data__ the data with DS\n",
    "4. Retrieve the prediction results, (or allow the DS to access the prediction results)"
   ],
   "metadata": {
    "collapsed": false
   }
  }
 ],
 "metadata": {
  "kernelspec": {
   "display_name": "Python 3",
   "language": "python",
   "name": "python3"
  },
  "language_info": {
   "codemirror_mode": {
    "name": "ipython",
    "version": 2
   },
   "file_extension": ".py",
   "mimetype": "text/x-python",
   "name": "python",
   "nbconvert_exporter": "python",
   "pygments_lexer": "ipython2",
   "version": "2.7.6"
  }
 },
 "nbformat": 4,
 "nbformat_minor": 0
}