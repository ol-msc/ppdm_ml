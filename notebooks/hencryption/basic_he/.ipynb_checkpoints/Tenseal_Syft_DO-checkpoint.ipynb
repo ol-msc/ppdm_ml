{
 "cells": [
  {
   "cell_type": "markdown",
   "id": "af76b3ab",
   "metadata": {},
   "source": [
    "# Homomorphic Encryption using Duet: Data Owner\n",
    "\n",
    "This purpose of this case study is to examine capabilities\n",
    "of Hommomorphic Encryption on the fundamental operations.\n",
    "This experiment is implemented using the TenSeal, Syft and Duet libraries.\n",
    "Two participants are considered Data Owner(DS) and Data Scientist(DS).\n",
    "DO wants DS to perform some operations on data without disclosing\n",
    "any private information.\n",
    "The experiment consists of two notebooks\n",
    "- Tenseal_Syft_DO\n",
    "- Tenseal_Syft_DS"
   ]
  },
  {
   "cell_type": "markdown",
   "id": "b9d9caac",
   "metadata": {},
   "source": [
    "### Setup\n",
    "Import required libraries"
   ]
  },
  {
   "cell_type": "code",
   "execution_count": null,
   "id": "fa2272a3",
   "metadata": {},
   "outputs": [],
   "source": [
    "import syft as sy\n",
    "import tenseal as ts\n",
    "import pytest\n",
    "\n",
    "# sy.load(\"tenseal\")"
   ]
  },
  {
   "cell_type": "markdown",
   "id": "fead4f71",
   "metadata": {},
   "source": [
    "### Start Duet Instance\n",
    "Start the duet instance to establish communication between DS and DO\n",
    "- `loopback` attribute defines that participants are on the same device"
   ]
  },
  {
   "cell_type": "code",
   "execution_count": null,
   "id": "591313dd",
   "metadata": {},
   "outputs": [],
   "source": [
    "duet = sy.launch_duet(loopback=True)"
   ]
  },
  {
   "cell_type": "markdown",
   "id": "3a7f4376",
   "metadata": {},
   "source": [
    "### TenSeal Context\n",
    "Context represent definition of the encryption scheme with corresponding parameters\n",
    "Encryption Scheme -- CKKS [paper here](https://link.springer.com/chapter/10.1007/978-3-319-70694-8_15)\n",
    "- `poly_modulus_degree` - size of the cipher text, the security of the scheme (bigger is better), but also the computation performance of the scheme (bigger is worse)\n",
    "- `coeff_mod_bit_sizes` - represent the array of bit sizes affecting the ciphertext and computation depth in encrypted space\n",
    "- `global_scale` - represents the computation precision for approximate number encryption schemes.\n"
   ]
  },
  {
   "cell_type": "code",
   "execution_count": null,
   "id": "ec954f15",
   "metadata": {},
   "outputs": [],
   "source": [
    "context = ts.Context(\n",
    "    ts.SCHEME_TYPE.CKKS,\n",
    "    poly_modulus_degree=8192,\n",
    "    coeff_mod_bit_sizes=[60, 40, 40, 60]\n",
    ")\n",
    "context.global_scale = 2**40\n",
    "context"
   ]
  },
  {
   "cell_type": "markdown",
   "id": "7083f67a",
   "metadata": {},
   "source": [
    "### Encrypt the Data\n",
    "Here the initial data defined in the vector format.\n",
    "Then the vectors are encrypted using the above-defined context."
   ]
  },
  {
   "cell_type": "code",
   "execution_count": null,
   "id": "801bbe3b",
   "metadata": {},
   "outputs": [],
   "source": [
    "v1 = [0, 1, 2, 3, 4]\n",
    "v2 = [4, 3, 2, 1, 0]\n",
    "\n",
    "enc_v1 = ts.ckks_vector(context, v1)\n",
    "enc_v2 = ts.ckks_vector(context, v2)\n",
    "(enc_v1, enc_v2)"
   ]
  },
  {
   "cell_type": "code",
   "execution_count": null,
   "id": "76b2f4e9",
   "metadata": {},
   "outputs": [],
   "source": [
    "#performing local operation on encrypted tensors and decrypting to show the correctness of the scheme\n",
    "# and decrypted results\n",
    "result_add_local = enc_v1 + enc_v2\n",
    "result_add_local.decrypt()"
   ]
  },
  {
   "cell_type": "markdown",
   "id": "2dc7e031",
   "metadata": {},
   "source": [
    "### Make Context and Encrypted Vectors Referenceable over Duet\n",
    "Share vectors with DS using the Duet"
   ]
  },
  {
   "cell_type": "code",
   "execution_count": null,
   "id": "b13fed77",
   "metadata": {},
   "outputs": [],
   "source": [
    "# tag them so our partner can easily reference it\n",
    "ctx_ptr = context.send(duet, pointable=True, tags=[\"context\"])\n",
    "enc_v1_ptr = enc_v1.send(duet, pointable=True, tags=[\"enc_v1\"])\n",
    "enc_v2_ptr = enc_v2.send(duet, pointable=True, tags=[\"enc_v2\"])"
   ]
  },
  {
   "cell_type": "code",
   "execution_count": null,
   "id": "e9221872",
   "metadata": {},
   "outputs": [],
   "source": [
    "duet.store.pandas"
   ]
  },
  {
   "cell_type": "markdown",
   "id": "07f1005f",
   "metadata": {},
   "source": [
    "###  Check requests\n",
    "Check requests for vectors from DS"
   ]
  },
  {
   "cell_type": "code",
   "execution_count": null,
   "id": "133a8d74",
   "metadata": {},
   "outputs": [],
   "source": [
    "duet.requests.pandas"
   ]
  },
  {
   "cell_type": "markdown",
   "id": "59b4e424",
   "metadata": {},
   "source": [
    "### Approve the requests\n",
    "Allow DS to perform computation on vectors"
   ]
  },
  {
   "cell_type": "code",
   "execution_count": null,
   "id": "9c9c50fb",
   "metadata": {},
   "outputs": [],
   "source": [
    "duet.requests[0].accept()\n",
    "duet.requests[0].accept()\n",
    "duet.requests[0].accept()"
   ]
  },
  {
   "cell_type": "code",
   "execution_count": null,
   "id": "896ef7e1",
   "metadata": {},
   "outputs": [],
   "source": [
    "duet.requests.pandas"
   ]
  },
  {
   "cell_type": "markdown",
   "id": "4d923286",
   "metadata": {},
   "source": [
    "### Get the computation results from store and decrypt them locally\n",
    "Retrieve, decrypt results of operation performed by DS.\n",
    "Compare the results with the raw, non-secure computations."
   ]
  },
  {
   "cell_type": "code",
   "execution_count": null,
   "id": "36d36598",
   "metadata": {},
   "outputs": [],
   "source": [
    "# Validate the encrypted add\n",
    "result_add = duet.store[\"result_add\"].get(delete_obj=False)\n",
    "result_add.link_context(context)\n",
    "\n",
    "result_add"
   ]
  },
  {
   "cell_type": "code",
   "execution_count": null,
   "id": "27cc8f01",
   "metadata": {},
   "outputs": [],
   "source": [
    "decrypted_result = result_add.decrypt()\n",
    "regular_add = [v1 + v2 for v1, v2 in zip(v1, v2)]\n",
    "assert pytest.approx(decrypted_result, abs=10**-3) == regular_add\n",
    "\n",
    "decrypted_result = [round(r, 9) for r in decrypted_result]\n",
    "print(f\"Regular addition: {regular_add}\\n\"\n",
    "      f\"Decrypted addition: {decrypted_result}  \")"
   ]
  },
  {
   "cell_type": "code",
   "execution_count": null,
   "id": "b4e53590",
   "metadata": {},
   "outputs": [],
   "source": [
    "# Validate the encrypted - plain add\n",
    "result_iadd = duet.store[\"result_iadd\"].get(delete_obj=False)\n",
    "result_iadd.link_context(context)\n",
    "\n",
    "decrypted_result = result_iadd.decrypt()\n",
    "assert pytest.approx(decrypted_result, abs=10**-3) == [v1 + v2 for v1, v2 in zip(v1, [10, 10, 10, 10, 10])]\n",
    "\n",
    "decrypted_result"
   ]
  },
  {
   "cell_type": "code",
   "execution_count": null,
   "id": "62b2095c",
   "metadata": {},
   "outputs": [],
   "source": [
    "# Validate the encrypted subtraction\n",
    "\n",
    "result_sub = duet.store[\"result_sub\"].get(delete_obj=False)\n",
    "result_sub.link_context(context)\n",
    "\n",
    "decrypted_result = result_sub.decrypt()\n",
    "regular_result = [v1 - v2 for v1, v2 in zip(v1, v2)]\n",
    "assert pytest.approx(decrypted_result, abs=10**-3) == regular_result\n",
    "\n",
    "print(f\"Regular subtraction: {regular_result}\\n\"\n",
    "      f\"Decrypted subtraction: {decrypted_result} \")"
   ]
  },
  {
   "cell_type": "code",
   "execution_count": null,
   "id": "a123783d",
   "metadata": {
    "scrolled": false
   },
   "outputs": [],
   "source": [
    "# Validate the encrypted multiplication\n",
    "\n",
    "result_mul = duet.store[\"result_mul\"].get(delete_obj=False)\n",
    "result_mul.link_context(context)\n",
    "\n",
    "decrypted_result = result_mul.decrypt()\n",
    "regular_mult = [v1 * v2 for v1, v2 in zip(v1, v2)]\n",
    "assert pytest.approx(decrypted_result, abs=10**-3) == regular_mult\n",
    "\n",
    "decrypted_result = [round(r, 9) for r in decrypted_result]\n",
    "\n",
    "print(f\"Regular multiplication: {regular_mult}\\n\"\n",
    "      f\"Decrypted multiplication: {decrypted_result}\")"
   ]
  },
  {
   "cell_type": "code",
   "execution_count": null,
   "id": "7f5ad746",
   "metadata": {},
   "outputs": [],
   "source": [
    "# Validate the encrypted power\n",
    "\n",
    "result_pow = duet.store[\"result_pow\"].get(delete_obj=False)\n",
    "result_pow.link_context(context)\n",
    "\n",
    "decrypted_result = result_pow.decrypt()\n",
    "regular_power = [v ** 3 for v in v1]\n",
    "assert pytest.approx(decrypted_result, abs=10**-3) == regular_power\n",
    "\n",
    "print(f\"Regular power: {regular_power}\\n\"\n",
    "      f\"Decrypted power: {decrypted_result}\")"
   ]
  },
  {
   "cell_type": "code",
   "execution_count": null,
   "id": "499b0387",
   "metadata": {},
   "outputs": [],
   "source": [
    "# Validate the encrypted negation\n",
    "\n",
    "result_neg = duet.store[\"result_neg\"].get(delete_obj=False)\n",
    "result_neg.link_context(context)\n",
    "\n",
    "decrypted_result = result_neg.decrypt()\n",
    "regular_negation = [-v for v in v1]\n",
    "assert pytest.approx(decrypted_result, abs=10**-3) == regular_negation\n",
    "\n",
    "print(f\"Regular negation: {regular_negation}\\n\"\n",
    "      f\"Decrypted negation: {decrypted_result}\")"
   ]
  },
  {
   "cell_type": "code",
   "execution_count": null,
   "id": "1ee126b9",
   "metadata": {},
   "outputs": [],
   "source": [
    "# Validate the encrypted polynomial evaluation for 1 + X^2 + X^3\n",
    "\n",
    "result_poly = duet.store[\"result_poly\"].get(delete_obj=False)\n",
    "result_poly.link_context(context)\n",
    "\n",
    "decrypted_result = result_poly.decrypt()\n",
    "regular_poly = [1 + v**2 + v**3 for v in v1]\n",
    "assert pytest.approx(decrypted_result, abs=10**-3) == regular_poly\n",
    "\n",
    "decrypted_result = [round(r, 9) for r in decrypted_result]\n",
    "\n",
    "print(f\"Regular polynom: {regular_poly}\\n\"\n",
    "      f\"Decrypted polynom: {decrypted_result}\")"
   ]
  },
  {
   "cell_type": "markdown",
   "id": "c4873c8b",
   "metadata": {},
   "source": [
    "### Summary\n",
    "In this experiment, the capabilities of Hommomorphic Encryption\n",
    "are shown on the fundamental arithmetic operation, such\n",
    "as addition, plain addition, subtraction, multiplication, power, negation and polynomial evaluation.\n",
    "The experiment involves two parties denoted as DO and DS\n",
    "The results of encrypted and raw computation are very similar and the difference are acceptable.\n",
    "Based on these statements and achieved results the experiment is considered as\n",
    "successful, the computations were performed on encrypted data without disclosing any\n",
    "information to DS."
   ]
  }
 ],
 "metadata": {
  "kernelspec": {
   "display_name": "Python 3",
   "language": "python",
   "name": "python3"
  },
  "language_info": {
   "codemirror_mode": {
    "name": "ipython",
    "version": 3
   },
   "file_extension": ".py",
   "mimetype": "text/x-python",
   "name": "python",
   "nbconvert_exporter": "python",
   "pygments_lexer": "ipython3",
   "version": "3.9.7"
  }
 },
 "nbformat": 4,
 "nbformat_minor": 5
}
