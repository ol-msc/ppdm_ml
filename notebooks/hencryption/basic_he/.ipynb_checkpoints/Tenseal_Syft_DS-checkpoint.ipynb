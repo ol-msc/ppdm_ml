{
 "cells": [
  {
   "cell_type": "markdown",
   "id": "58063878",
   "metadata": {},
   "source": [
    "# Homomorphic Encryption using Duet: Data Scientist\n",
    "\n",
    "This purpose of this case study is to examine capabilities\n",
    "of Hommomorphic Encryption on the fundamental operations.\n",
    "This experiment is implemented using the TenSeal, Syft and Duet libraries.\n",
    "Two participants are considered Data Owner(DS) and Data Scientist(DS).\n",
    "DO wants DS to perform some operations on data without disclosing\n",
    "any private information.\n",
    "The experiment consists of two notebooks\n",
    "- Tenseal_Syft_DO\n",
    "- Tenseal_Syft_DS"
   ]
  },
  {
   "cell_type": "markdown",
   "id": "1d8f8245",
   "metadata": {},
   "source": [
    "### Setup\n",
    "Import required libraries"
   ]
  },
  {
   "cell_type": "code",
   "execution_count": null,
   "id": "acdf38b4",
   "metadata": {},
   "outputs": [],
   "source": [
    "import syft as sy\n",
    "import tenseal as ts\n",
    "\n",
    "sy.load(\"tenseal\")\n",
    "\n",
    "duet = sy.join_duet(loopback=True)"
   ]
  },
  {
   "cell_type": "code",
   "execution_count": null,
   "id": "00f1874c",
   "metadata": {},
   "outputs": [],
   "source": [
    "# show vectors shared by DO\n",
    "duet.store.pandas"
   ]
  },
  {
   "cell_type": "markdown",
   "id": "8300f00f",
   "metadata": {},
   "source": [
    "### Get pointers to the encrypted vectors\n",
    "By getting pointer to vectors the request for performing computation\n",
    "on encrypted vectors could be sent to the DO"
   ]
  },
  {
   "cell_type": "code",
   "execution_count": null,
   "id": "bca4a5f1",
   "metadata": {},
   "outputs": [],
   "source": [
    "ctx_ptr = duet.store[\"context\"]\n",
    "enc_v1_ptr = duet.store[\"enc_v1\"]\n",
    "enc_v2_ptr = duet.store[\"enc_v2\"]"
   ]
  },
  {
   "cell_type": "markdown",
   "id": "7d8d6c1e",
   "metadata": {},
   "source": [
    "### Request permission to work on the encrypted vectors\n",
    "Sending the requests to access the encrypted vectors for computation.\n",
    "Also the reason could be provided as argument"
   ]
  },
  {
   "cell_type": "code",
   "execution_count": null,
   "id": "0d5fcf8d",
   "metadata": {},
   "outputs": [],
   "source": [
    "ctx_ptr.request(reason=\"I would like to get the context\")\n",
    "enc_v1_ptr.request(reason=\"I would like to get first vector\")\n",
    "enc_v2_ptr.request(reason=\"I would like to get second vector\")"
   ]
  },
  {
   "cell_type": "code",
   "execution_count": null,
   "id": "b0824e9a",
   "metadata": {},
   "outputs": [],
   "source": [
    "# checking sent requests\n",
    "duet.requests.pandas"
   ]
  },
  {
   "cell_type": "code",
   "execution_count": null,
   "id": "b5723c83",
   "metadata": {},
   "outputs": [],
   "source": [
    "# checking requests - all have been approved\n",
    "duet.requests.pandas"
   ]
  },
  {
   "cell_type": "markdown",
   "id": "cee2e473",
   "metadata": {},
   "source": [
    "### Retrieving the encrypted tensors\n",
    "With encrypted tensors the further operations could be performed"
   ]
  },
  {
   "cell_type": "code",
   "execution_count": null,
   "id": "fec1acf5",
   "metadata": {},
   "outputs": [],
   "source": [
    "ctx = ctx_ptr.get(delete_obj=False)\n",
    "\n",
    "enc_v1 = enc_v1_ptr.get(delete_obj=False)\n",
    "enc_v2 = enc_v2_ptr.get(delete_obj=False)\n",
    "\n",
    "enc_v1.link_context(ctx)\n",
    "enc_v2.link_context(ctx)\n",
    "\n",
    "(enc_v1, enc_v2)"
   ]
  },
  {
   "cell_type": "markdown",
   "id": "db9e6a88",
   "metadata": {},
   "source": [
    "### Compute different operations over the two vectors locally\n",
    "Perform fundamental arithmetic operations such as\n",
    "addition, plain addition, subtraction, multiplication, power, negation and polynomial evaluation."
   ]
  },
  {
   "cell_type": "code",
   "execution_count": null,
   "id": "acb19118",
   "metadata": {},
   "outputs": [],
   "source": [
    "result_add = enc_v1 + enc_v2\n",
    "result_iadd = enc_v1 + [10, 10, 10, 10, 10]\n",
    "result_sub = enc_v1 - enc_v2\n",
    "result_mul = enc_v1 * enc_v2\n",
    "result_pow = enc_v1 ** 3\n",
    "result_neg = -enc_v1\n",
    "result_poly = enc_v1.polyval([1,0,1,1]) # 1 + X^2 + X^3\n",
    "result_add"
   ]
  },
  {
   "cell_type": "markdown",
   "id": "c732a624",
   "metadata": {},
   "source": [
    "### Send results back to the Data Owner"
   ]
  },
  {
   "cell_type": "code",
   "execution_count": null,
   "id": "42ccd630",
   "metadata": {},
   "outputs": [],
   "source": [
    "result_add_ptr = result_add.send(duet, pointable=True, tags=[\"result_add\"])\n",
    "result_iadd_ptr = result_iadd.send(duet, pointable=True, tags=[\"result_iadd\"])\n",
    "result_sub_ptr = result_sub.send(duet, pointable=True, tags=[\"result_sub\"])\n",
    "result_mul_ptr = result_mul.send(duet, pointable=True, tags=[\"result_mul\"])\n",
    "result_pow_ptr = result_pow.send(duet, pointable=True, tags=[\"result_pow\"])\n",
    "result_neg_ptr = result_neg.send(duet, pointable=True, tags=[\"result_neg\"])\n",
    "result_poly_ptr = result_poly.send(duet, pointable=True, tags=[\"result_poly\"])"
   ]
  },
  {
   "cell_type": "code",
   "execution_count": null,
   "id": "82d82055",
   "metadata": {},
   "outputs": [],
   "source": [
    "#show duet storage\n",
    "duet.store"
   ]
  },
  {
   "cell_type": "markdown",
   "id": "98d8f189",
   "metadata": {},
   "source": [
    "### Summary\n",
    "In this experiment, the capabilities of Hommomorphic Encryption\n",
    "are shown on the fundamental arithmetic operation, such\n",
    "as addition, plain addition, subtraction, multiplication, power, negation and polynomial evaluation.\n",
    "The experiment involves two parties denoted as DO and DS\n",
    "The results of encrypted and raw computation are very similar and the difference are acceptable.\n",
    "Based on these statements and achieved results the experiment is considered as\n",
    "successful, the computations were performed on encrypted data without disclosing any\n",
    "information to DS."
   ]
  }
 ],
 "metadata": {
  "kernelspec": {
   "display_name": "Python 3",
   "language": "python",
   "name": "python3"
  },
  "language_info": {
   "codemirror_mode": {
    "name": "ipython",
    "version": 3
   },
   "file_extension": ".py",
   "mimetype": "text/x-python",
   "name": "python",
   "nbconvert_exporter": "python",
   "pygments_lexer": "ipython3",
   "version": "3.9.7"
  }
 },
 "nbformat": 4,
 "nbformat_minor": 5
}
