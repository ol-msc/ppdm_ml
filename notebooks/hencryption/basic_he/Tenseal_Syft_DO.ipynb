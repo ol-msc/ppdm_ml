{
 "cells": [
  {
   "cell_type": "markdown",
   "id": "af76b3ab",
   "metadata": {},
   "source": [
    "# Homomorphic Encryption using Duet: Data Owner"
   ]
  },
  {
   "cell_type": "markdown",
   "id": "b9d9caac",
   "metadata": {},
   "source": [
    "### Setup"
   ]
  },
  {
   "cell_type": "code",
   "execution_count": 1,
   "id": "fa2272a3",
   "metadata": {},
   "outputs": [
    {
     "name": "stdout",
     "output_type": "stream",
     "text": [
      "sy.load() is deprecated and not needed anymore\n"
     ]
    }
   ],
   "source": [
    "import syft as sy\n",
    "import tenseal as ts\n",
    "import pytest\n",
    "\n",
    "sy.load(\"tenseal\")"
   ]
  },
  {
   "cell_type": "markdown",
   "id": "fead4f71",
   "metadata": {},
   "source": [
    "### Start Duet Instance"
   ]
  },
  {
   "cell_type": "code",
   "execution_count": 2,
   "id": "591313dd",
   "metadata": {},
   "outputs": [
    {
     "name": "stdout",
     "output_type": "stream",
     "text": [
      "🎤  🎸  ♪♪♪ Starting Duet ♫♫♫  🎻  🎹\n",
      "\n",
      "♫♫♫ >\u001B[93m DISCLAIMER\u001B[0m: \u001B[1mDuet is an experimental feature currently in beta.\n",
      "♫♫♫ > Use at your own risk.\n",
      "\u001B[0m\n",
      "\u001B[1m\n",
      "    > ❤️ \u001B[91mLove\u001B[0m \u001B[92mDuet\u001B[0m? \u001B[93mPlease\u001B[0m \u001B[94mconsider\u001B[0m \u001B[95msupporting\u001B[0m \u001B[91mour\u001B[0m \u001B[93mcommunity!\u001B[0m\n",
      "    > https://github.com/sponsors/OpenMined\u001B[1m\n",
      "\n",
      "♫♫♫ > Punching through firewall to OpenGrid Network Node at:\n",
      "♫♫♫ > http://ec2-18-218-7-180.us-east-2.compute.amazonaws.com:5000\n",
      "♫♫♫ >\n",
      "♫♫♫ > ...waiting for response from OpenGrid Network... \n",
      "♫♫♫ > \u001B[92mDONE!\u001B[0m\n",
      "\n",
      "♫♫♫ > \u001B[95mSTEP 1:\u001B[0m Send the following code to your Duet Partner!\n",
      "\n",
      "import syft as sy\n",
      "duet = sy.join_duet(loopback=True)\n",
      "\n",
      "♫♫♫ > Connecting...\n",
      "\n",
      "♫♫♫ > \u001B[92mCONNECTED!\u001B[0m\n",
      "\n"
     ]
    }
   ],
   "source": [
    "duet = sy.launch_duet(loopback=True)"
   ]
  },
  {
   "cell_type": "markdown",
   "id": "3a7f4376",
   "metadata": {},
   "source": [
    "### TenSeal Context"
   ]
  },
  {
   "cell_type": "code",
   "execution_count": 3,
   "id": "ec954f15",
   "metadata": {},
   "outputs": [
    {
     "data": {
      "text/plain": "<tenseal.enc_context.Context at 0x1b81639d550>"
     },
     "execution_count": 3,
     "metadata": {},
     "output_type": "execute_result"
    }
   ],
   "source": [
    "context = ts.Context(\n",
    "    ts.SCHEME_TYPE.CKKS,\n",
    "    poly_modulus_degree=8192,\n",
    "    coeff_mod_bit_sizes=[60, 40, 40, 60]\n",
    ")\n",
    "context.global_scale = 2**40\n",
    "context"
   ]
  },
  {
   "cell_type": "markdown",
   "id": "7083f67a",
   "metadata": {},
   "source": [
    "### Encrypt the Data"
   ]
  },
  {
   "cell_type": "code",
   "execution_count": 4,
   "id": "801bbe3b",
   "metadata": {},
   "outputs": [
    {
     "data": {
      "text/plain": "(<tenseal.tensors.ckksvector.CKKSVector at 0x1b81636c7f0>,\n <tenseal.tensors.ckksvector.CKKSVector at 0x1b81636c580>)"
     },
     "execution_count": 4,
     "metadata": {},
     "output_type": "execute_result"
    }
   ],
   "source": [
    "v1 = [0, 1, 2, 3, 4]\n",
    "v2 = [4, 3, 2, 1, 0]\n",
    "\n",
    "enc_v1 = ts.ckks_vector(context, v1)\n",
    "enc_v2 = ts.ckks_vector(context, v2)\n",
    "(enc_v1, enc_v2)"
   ]
  },
  {
   "cell_type": "code",
   "execution_count": 5,
   "id": "76b2f4e9",
   "metadata": {},
   "outputs": [
    {
     "data": {
      "text/plain": "[4.00000000070795,\n 4.000000000608912,\n 3.9999999984717802,\n 3.9999999978585508,\n 4.000000000015286]"
     },
     "execution_count": 5,
     "metadata": {},
     "output_type": "execute_result"
    }
   ],
   "source": [
    "result_add_local = enc_v1 + enc_v2\n",
    "result_add_local.decrypt()"
   ]
  },
  {
   "cell_type": "markdown",
   "id": "2dc7e031",
   "metadata": {},
   "source": [
    "### Make Context and Encrypted Vectors Referenceable over Duet"
   ]
  },
  {
   "cell_type": "code",
   "execution_count": 6,
   "id": "b13fed77",
   "metadata": {},
   "outputs": [
    {
     "name": "stdout",
     "output_type": "stream",
     "text": [
      "♫♫♫ > DUET LIVE STATUS  -  Objects: 0  Requests: 0   Messages: 1  Request Handlers: 0                                \r"
     ]
    }
   ],
   "source": [
    "# tag them so our partner can easily reference it\n",
    "ctx_ptr = context.send(duet, pointable=True, tags=[\"context\"])\n",
    "enc_v1_ptr = enc_v1.send(duet, pointable=True, tags=[\"enc_v1\"])\n",
    "enc_v2_ptr = enc_v2.send(duet, pointable=True, tags=[\"enc_v2\"])"
   ]
  },
  {
   "cell_type": "code",
   "execution_count": 7,
   "id": "e9221872",
   "metadata": {},
   "outputs": [
    {
     "data": {
      "text/plain": "                                        ID       Tags Description  \\\n0  <UID: a88d63b923c848d9bf4f8c0858f7034a>  [context]               \n1  <UID: f1cd6e1fd38b4341ab79158011acc2f8>   [enc_v1]               \n2  <UID: a36bb89b93e346e2b05f1d03088eb5fd>   [enc_v2]               \n\n                                       object_type  \n0            <class 'tenseal.enc_context.Context'>  \n1  <class 'tenseal.tensors.ckksvector.CKKSVector'>  \n2  <class 'tenseal.tensors.ckksvector.CKKSVector'>  ",
      "text/html": "<div>\n<style scoped>\n    .dataframe tbody tr th:only-of-type {\n        vertical-align: middle;\n    }\n\n    .dataframe tbody tr th {\n        vertical-align: top;\n    }\n\n    .dataframe thead th {\n        text-align: right;\n    }\n</style>\n<table border=\"1\" class=\"dataframe\">\n  <thead>\n    <tr style=\"text-align: right;\">\n      <th></th>\n      <th>ID</th>\n      <th>Tags</th>\n      <th>Description</th>\n      <th>object_type</th>\n    </tr>\n  </thead>\n  <tbody>\n    <tr>\n      <th>0</th>\n      <td>&lt;UID: a88d63b923c848d9bf4f8c0858f7034a&gt;</td>\n      <td>[context]</td>\n      <td></td>\n      <td>&lt;class 'tenseal.enc_context.Context'&gt;</td>\n    </tr>\n    <tr>\n      <th>1</th>\n      <td>&lt;UID: f1cd6e1fd38b4341ab79158011acc2f8&gt;</td>\n      <td>[enc_v1]</td>\n      <td></td>\n      <td>&lt;class 'tenseal.tensors.ckksvector.CKKSVector'&gt;</td>\n    </tr>\n    <tr>\n      <th>2</th>\n      <td>&lt;UID: a36bb89b93e346e2b05f1d03088eb5fd&gt;</td>\n      <td>[enc_v2]</td>\n      <td></td>\n      <td>&lt;class 'tenseal.tensors.ckksvector.CKKSVector'&gt;</td>\n    </tr>\n  </tbody>\n</table>\n</div>"
     },
     "execution_count": 7,
     "metadata": {},
     "output_type": "execute_result"
    }
   ],
   "source": [
    "duet.store.pandas"
   ]
  },
  {
   "cell_type": "markdown",
   "id": "07f1005f",
   "metadata": {},
   "source": [
    "###  check requests"
   ]
  },
  {
   "cell_type": "code",
   "execution_count": 11,
   "id": "133a8d74",
   "metadata": {},
   "outputs": [
    {
     "data": {
      "text/plain": "  Requested Object's tags                             Reason  \\\n0               [context]    I would like to get the context   \n1                [enc_v1]   I would like to get first vector   \n2                [enc_v2]  I would like to get second vector   \n\n                                Request ID  \\\n0  <UID: ff99b91b80ea44f39d7505aa82a4ae8b>   \n1  <UID: ec2cf58d73d54a42930a5fe23752a5cc>   \n2  <UID: b972ea0db96645418568397b4efc0fef>   \n\n                     Requested Object's ID  \\\n0  <UID: a88d63b923c848d9bf4f8c0858f7034a>   \n1  <UID: f1cd6e1fd38b4341ab79158011acc2f8>   \n2  <UID: a36bb89b93e346e2b05f1d03088eb5fd>   \n\n                           Requested Object's type  \n0            <class 'tenseal.enc_context.Context'>  \n1  <class 'tenseal.tensors.ckksvector.CKKSVector'>  \n2  <class 'tenseal.tensors.ckksvector.CKKSVector'>  ",
      "text/html": "<div>\n<style scoped>\n    .dataframe tbody tr th:only-of-type {\n        vertical-align: middle;\n    }\n\n    .dataframe tbody tr th {\n        vertical-align: top;\n    }\n\n    .dataframe thead th {\n        text-align: right;\n    }\n</style>\n<table border=\"1\" class=\"dataframe\">\n  <thead>\n    <tr style=\"text-align: right;\">\n      <th></th>\n      <th>Requested Object's tags</th>\n      <th>Reason</th>\n      <th>Request ID</th>\n      <th>Requested Object's ID</th>\n      <th>Requested Object's type</th>\n    </tr>\n  </thead>\n  <tbody>\n    <tr>\n      <th>0</th>\n      <td>[context]</td>\n      <td>I would like to get the context</td>\n      <td>&lt;UID: ff99b91b80ea44f39d7505aa82a4ae8b&gt;</td>\n      <td>&lt;UID: a88d63b923c848d9bf4f8c0858f7034a&gt;</td>\n      <td>&lt;class 'tenseal.enc_context.Context'&gt;</td>\n    </tr>\n    <tr>\n      <th>1</th>\n      <td>[enc_v1]</td>\n      <td>I would like to get first vector</td>\n      <td>&lt;UID: ec2cf58d73d54a42930a5fe23752a5cc&gt;</td>\n      <td>&lt;UID: f1cd6e1fd38b4341ab79158011acc2f8&gt;</td>\n      <td>&lt;class 'tenseal.tensors.ckksvector.CKKSVector'&gt;</td>\n    </tr>\n    <tr>\n      <th>2</th>\n      <td>[enc_v2]</td>\n      <td>I would like to get second vector</td>\n      <td>&lt;UID: b972ea0db96645418568397b4efc0fef&gt;</td>\n      <td>&lt;UID: a36bb89b93e346e2b05f1d03088eb5fd&gt;</td>\n      <td>&lt;class 'tenseal.tensors.ckksvector.CKKSVector'&gt;</td>\n    </tr>\n  </tbody>\n</table>\n</div>"
     },
     "execution_count": 11,
     "metadata": {},
     "output_type": "execute_result"
    }
   ],
   "source": [
    "duet.requests.pandas"
   ]
  },
  {
   "cell_type": "markdown",
   "id": "59b4e424",
   "metadata": {},
   "source": [
    "### Approve the requests"
   ]
  },
  {
   "cell_type": "code",
   "execution_count": 12,
   "id": "9c9c50fb",
   "metadata": {},
   "outputs": [],
   "source": [
    "duet.requests[0].accept()\n",
    "duet.requests[0].accept()\n",
    "duet.requests[0].accept()"
   ]
  },
  {
   "cell_type": "code",
   "execution_count": 13,
   "id": "896ef7e1",
   "metadata": {},
   "outputs": [
    {
     "data": {
      "text/plain": "Empty DataFrame\nColumns: []\nIndex: []",
      "text/html": "<div>\n<style scoped>\n    .dataframe tbody tr th:only-of-type {\n        vertical-align: middle;\n    }\n\n    .dataframe tbody tr th {\n        vertical-align: top;\n    }\n\n    .dataframe thead th {\n        text-align: right;\n    }\n</style>\n<table border=\"1\" class=\"dataframe\">\n  <thead>\n    <tr style=\"text-align: right;\">\n      <th></th>\n    </tr>\n  </thead>\n  <tbody>\n  </tbody>\n</table>\n</div>"
     },
     "execution_count": 13,
     "metadata": {},
     "output_type": "execute_result"
    }
   ],
   "source": [
    "duet.requests.pandas"
   ]
  },
  {
   "cell_type": "markdown",
   "id": "4d923286",
   "metadata": {},
   "source": [
    "### Get the computation results from store and decrypt them locally"
   ]
  },
  {
   "cell_type": "code",
   "execution_count": 15,
   "id": "36d36598",
   "metadata": {},
   "outputs": [
    {
     "data": {
      "text/plain": "<tenseal.tensors.ckksvector.CKKSVector at 0x1b816044460>"
     },
     "execution_count": 15,
     "metadata": {},
     "output_type": "execute_result"
    }
   ],
   "source": [
    "# Validate the encrypted add\n",
    "result_add = duet.store[\"result_add\"].get(delete_obj=False)\n",
    "result_add.link_context(context)\n",
    "\n",
    "result_add"
   ]
  },
  {
   "cell_type": "code",
   "execution_count": 16,
   "id": "27cc8f01",
   "metadata": {},
   "outputs": [
    {
     "name": "stdout",
     "output_type": "stream",
     "text": [
      "Regular addition: [4, 4, 4, 4, 4]\n",
      "Decrypted addition: [4.000000001, 4.000000001, 3.999999998, 3.999999998, 4.0]  \n"
     ]
    }
   ],
   "source": [
    "decrypted_result = result_add.decrypt()\n",
    "regular_add = [v1 + v2 for v1, v2 in zip(v1, v2)]\n",
    "assert pytest.approx(decrypted_result, abs=10**-3) == regular_add\n",
    "\n",
    "decrypted_result = [round(r, 9) for r in decrypted_result]\n",
    "print(f\"Regular addition: {regular_add}\\n\"\n",
    "      f\"Decrypted addition: {decrypted_result}  \")"
   ]
  },
  {
   "cell_type": "code",
   "execution_count": 17,
   "id": "b4e53590",
   "metadata": {},
   "outputs": [
    {
     "data": {
      "text/plain": "[9.999999999902128,\n 10.999999999105661,\n 11.999999999949662,\n 12.999999998883103,\n 14.000000000068258]"
     },
     "execution_count": 17,
     "metadata": {},
     "output_type": "execute_result"
    }
   ],
   "source": [
    "# Validate the encrypted - plain add\n",
    "result_iadd = duet.store[\"result_iadd\"].get(delete_obj=False)\n",
    "result_iadd.link_context(context)\n",
    "\n",
    "decrypted_result = result_iadd.decrypt()\n",
    "assert pytest.approx(decrypted_result, abs=10**-3) == [v1 + v2 for v1, v2 in zip(v1, [10, 10, 10, 10, 10])]\n",
    "\n",
    "decrypted_result"
   ]
  },
  {
   "cell_type": "code",
   "execution_count": 18,
   "id": "62b2095c",
   "metadata": {},
   "outputs": [
    {
     "data": {
      "text/plain": "[-4.000000000889013,\n -2.000000002388621,\n 1.334405475006406e-09,\n 1.9999999999515825,\n 4.000000000030301]"
     },
     "execution_count": 18,
     "metadata": {},
     "output_type": "execute_result"
    }
   ],
   "source": [
    "# Validate the encrypted subtraction\n",
    "\n",
    "result_sub = duet.store[\"result_sub\"].get(delete_obj=False)\n",
    "result_sub.link_context(context)\n",
    "\n",
    "decrypted_result = result_sub.decrypt()\n",
    "assert pytest.approx(decrypted_result, abs=10**-3) == [v1 - v2 for v1, v2 in zip(v1, v2)]\n",
    "\n",
    "decrypted_result"
   ]
  },
  {
   "cell_type": "code",
   "execution_count": 19,
   "id": "a123783d",
   "metadata": {
    "scrolled": false
   },
   "outputs": [
    {
     "name": "stdout",
     "output_type": "stream",
     "text": [
      "Regular multiplication: [0, 3, 4, 3, 0]\n",
      "Decrypted multiplication: [0.0, 3.000000399, 4.000000535, 3.000000402, -0.0]\n"
     ]
    }
   ],
   "source": [
    "# Validate the encrypted multiplication\n",
    "\n",
    "result_mul = duet.store[\"result_mul\"].get(delete_obj=False)\n",
    "result_mul.link_context(context)\n",
    "\n",
    "decrypted_result = result_mul.decrypt()\n",
    "regular_mult = [v1 * v2 for v1, v2 in zip(v1, v2)]\n",
    "assert pytest.approx(decrypted_result, abs=10**-3) == regular_mult\n",
    "\n",
    "decrypted_result = [round(r, 9) for r in decrypted_result]\n",
    "\n",
    "print(f\"Regular multiplication: {regular_mult}\\n\"\n",
    "      f\"Decrypted multiplication: {decrypted_result}\")"
   ]
  },
  {
   "cell_type": "code",
   "execution_count": 20,
   "id": "7f5ad746",
   "metadata": {},
   "outputs": [
    {
     "data": {
      "text/plain": "[-3.4185454467206e-10,\n 1.000000800606717,\n 8.000006436454456,\n 27.00002169492351,\n 64.00005149951267]"
     },
     "execution_count": 20,
     "metadata": {},
     "output_type": "execute_result"
    }
   ],
   "source": [
    "# Validate the encrypted power\n",
    "\n",
    "result_pow = duet.store[\"result_pow\"].get(delete_obj=False)\n",
    "result_pow.link_context(context)\n",
    "\n",
    "decrypted_result = result_pow.decrypt()\n",
    "assert pytest.approx(decrypted_result, abs=10**-3) == [v ** 3 for v in v1]\n",
    "\n",
    "decrypted_result"
   ]
  },
  {
   "cell_type": "code",
   "execution_count": 21,
   "id": "499b0387",
   "metadata": {},
   "outputs": [
    {
     "data": {
      "text/plain": "[9.053202632003376e-11,\n -0.999999999110146,\n -1.9999999999030922,\n -2.999999998905067,\n -4.000000000022794]"
     },
     "execution_count": 21,
     "metadata": {},
     "output_type": "execute_result"
    }
   ],
   "source": [
    "# Validate the encrypted negation\n",
    "\n",
    "result_neg = duet.store[\"result_neg\"].get(delete_obj=False)\n",
    "result_neg.link_context(context)\n",
    "\n",
    "decrypted_result = result_neg.decrypt()\n",
    "assert pytest.approx(decrypted_result, abs=10**-3) == [-v for v in v1]\n",
    "\n",
    "decrypted_result"
   ]
  },
  {
   "cell_type": "code",
   "execution_count": 22,
   "id": "1ee126b9",
   "metadata": {},
   "outputs": [
    {
     "name": "stdout",
     "output_type": "stream",
     "text": [
      "Regular polynom: [1, 3, 13, 37, 81]\n",
      "Decrypted polynom: [0.999999999, 3.000000933, 13.00000697, 37.000022897, 81.000053645]\n"
     ]
    }
   ],
   "source": [
    "# Validate the encrypted polynomial evaluation for 1 + X^2 + X^3\n",
    "\n",
    "result_poly = duet.store[\"result_poly\"].get(delete_obj=False)\n",
    "result_poly.link_context(context)\n",
    "\n",
    "decrypted_result = result_poly.decrypt()\n",
    "regular_poly = [1 + v**2 + v**3 for v in v1]\n",
    "assert pytest.approx(decrypted_result, abs=10**-3) == regular_poly\n",
    "\n",
    "decrypted_result = [round(r, 9) for r in decrypted_result]\n",
    "\n",
    "print(f\"Regular polynom: {regular_poly}\\n\"\n",
    "      f\"Decrypted polynom: {decrypted_result}\")"
   ]
  }
 ],
 "metadata": {
  "kernelspec": {
   "display_name": "Python 3",
   "language": "python",
   "name": "python3"
  },
  "language_info": {
   "codemirror_mode": {
    "name": "ipython",
    "version": 3
   },
   "file_extension": ".py",
   "mimetype": "text/x-python",
   "name": "python",
   "nbconvert_exporter": "python",
   "pygments_lexer": "ipython3",
   "version": "3.8.8"
  }
 },
 "nbformat": 4,
 "nbformat_minor": 5
}