{
 "cells": [
  {
   "cell_type": "markdown",
   "id": "58063878",
   "metadata": {},
   "source": [
    "# Homomorphic Encryption using Duet: Data Owner"
   ]
  },
  {
   "cell_type": "markdown",
   "id": "1d8f8245",
   "metadata": {},
   "source": [
    "### Setup"
   ]
  },
  {
   "cell_type": "code",
   "execution_count": 1,
   "id": "acdf38b4",
   "metadata": {},
   "outputs": [
    {
     "name": "stdout",
     "output_type": "stream",
     "text": [
      "sy.load() is deprecated and not needed anymore\n",
      "🎤  🎸  ♪♪♪ Joining Duet ♫♫♫  🎻  🎹\n",
      "\n",
      "♫♫♫ >\u001B[93m DISCLAIMER\u001B[0m: \u001B[1mDuet is an experimental feature currently in beta.\n",
      "♫♫♫ > Use at your own risk.\n",
      "\u001B[0m\n",
      "\u001B[1m\n",
      "    > ❤️ \u001B[91mLove\u001B[0m \u001B[92mDuet\u001B[0m? \u001B[93mPlease\u001B[0m \u001B[94mconsider\u001B[0m \u001B[95msupporting\u001B[0m \u001B[91mour\u001B[0m \u001B[93mcommunity!\u001B[0m\n",
      "    > https://github.com/sponsors/OpenMined\u001B[1m\n",
      "\n",
      "♫♫♫ > Punching through firewall to OpenGrid Network Node at:\n",
      "♫♫♫ > http://ec2-18-218-7-180.us-east-2.compute.amazonaws.com:5000\n",
      "♫♫♫ >\n",
      "♫♫♫ > ...waiting for response from OpenGrid Network... \n",
      "♫♫♫ > \u001B[92mDONE!\u001B[0m\n",
      "\n",
      "♫♫♫ > \u001B[92mCONNECTED!\u001B[0m\n"
     ]
    }
   ],
   "source": [
    "import syft as sy\n",
    "import tenseal as ts\n",
    "\n",
    "sy.load(\"tenseal\")\n",
    "\n",
    "duet = sy.join_duet(loopback=True)"
   ]
  },
  {
   "cell_type": "code",
   "execution_count": 3,
   "id": "00f1874c",
   "metadata": {},
   "outputs": [
    {
     "data": {
      "text/plain": "                                        ID       Tags Description  \\\n0  <UID: a88d63b923c848d9bf4f8c0858f7034a>  [context]               \n1  <UID: f1cd6e1fd38b4341ab79158011acc2f8>   [enc_v1]               \n2  <UID: a36bb89b93e346e2b05f1d03088eb5fd>   [enc_v2]               \n\n                                       object_type  \n0            <class 'tenseal.enc_context.Context'>  \n1  <class 'tenseal.tensors.ckksvector.CKKSVector'>  \n2  <class 'tenseal.tensors.ckksvector.CKKSVector'>  ",
      "text/html": "<div>\n<style scoped>\n    .dataframe tbody tr th:only-of-type {\n        vertical-align: middle;\n    }\n\n    .dataframe tbody tr th {\n        vertical-align: top;\n    }\n\n    .dataframe thead th {\n        text-align: right;\n    }\n</style>\n<table border=\"1\" class=\"dataframe\">\n  <thead>\n    <tr style=\"text-align: right;\">\n      <th></th>\n      <th>ID</th>\n      <th>Tags</th>\n      <th>Description</th>\n      <th>object_type</th>\n    </tr>\n  </thead>\n  <tbody>\n    <tr>\n      <th>0</th>\n      <td>&lt;UID: a88d63b923c848d9bf4f8c0858f7034a&gt;</td>\n      <td>[context]</td>\n      <td></td>\n      <td>&lt;class 'tenseal.enc_context.Context'&gt;</td>\n    </tr>\n    <tr>\n      <th>1</th>\n      <td>&lt;UID: f1cd6e1fd38b4341ab79158011acc2f8&gt;</td>\n      <td>[enc_v1]</td>\n      <td></td>\n      <td>&lt;class 'tenseal.tensors.ckksvector.CKKSVector'&gt;</td>\n    </tr>\n    <tr>\n      <th>2</th>\n      <td>&lt;UID: a36bb89b93e346e2b05f1d03088eb5fd&gt;</td>\n      <td>[enc_v2]</td>\n      <td></td>\n      <td>&lt;class 'tenseal.tensors.ckksvector.CKKSVector'&gt;</td>\n    </tr>\n  </tbody>\n</table>\n</div>"
     },
     "execution_count": 3,
     "metadata": {},
     "output_type": "execute_result"
    }
   ],
   "source": [
    "duet.store.pandas"
   ]
  },
  {
   "cell_type": "markdown",
   "id": "8300f00f",
   "metadata": {},
   "source": [
    "### Get pointers to the encrypted vectors"
   ]
  },
  {
   "cell_type": "code",
   "execution_count": 4,
   "id": "bca4a5f1",
   "metadata": {},
   "outputs": [],
   "source": [
    "ctx_ptr = duet.store[\"context\"]\n",
    "enc_v1_ptr = duet.store[\"enc_v1\"]\n",
    "enc_v2_ptr = duet.store[\"enc_v2\"]"
   ]
  },
  {
   "cell_type": "markdown",
   "id": "7d8d6c1e",
   "metadata": {},
   "source": [
    "### Request permission to work on the encrypted vectors "
   ]
  },
  {
   "cell_type": "code",
   "execution_count": 5,
   "id": "0d5fcf8d",
   "metadata": {},
   "outputs": [],
   "source": [
    "ctx_ptr.request(reason=\"I would like to get the context\")\n",
    "enc_v1_ptr.request(reason=\"I would like to get first vector\")\n",
    "enc_v2_ptr.request(reason=\"I would like to get second vector\")"
   ]
  },
  {
   "cell_type": "code",
   "execution_count": 6,
   "id": "b0824e9a",
   "metadata": {},
   "outputs": [
    {
     "data": {
      "text/plain": "Empty DataFrame\nColumns: []\nIndex: []",
      "text/html": "<div>\n<style scoped>\n    .dataframe tbody tr th:only-of-type {\n        vertical-align: middle;\n    }\n\n    .dataframe tbody tr th {\n        vertical-align: top;\n    }\n\n    .dataframe thead th {\n        text-align: right;\n    }\n</style>\n<table border=\"1\" class=\"dataframe\">\n  <thead>\n    <tr style=\"text-align: right;\">\n      <th></th>\n    </tr>\n  </thead>\n  <tbody>\n  </tbody>\n</table>\n</div>"
     },
     "execution_count": 6,
     "metadata": {},
     "output_type": "execute_result"
    }
   ],
   "source": [
    "duet.requests.pandas"
   ]
  },
  {
   "cell_type": "code",
   "execution_count": 6,
   "id": "b5723c83",
   "metadata": {},
   "outputs": [
    {
     "data": {
      "text/plain": "  Requested Object's tags                             Reason  \\\n0               [context]    I would like to get the context   \n1                [enc_v1]   I would like to get first vector   \n2                [enc_v2]  I would like to get second vector   \n\n                                Request ID  \\\n0  <UID: 7002275e89aa4a398a1622a45cce1a6c>   \n1  <UID: 6a11535aae5b45dda6778426897eceb7>   \n2  <UID: cb28f365a07a4de6b98f1385bacade0c>   \n\n                     Requested Object's ID  \\\n0  <UID: ede4645f898a4b64bc6c202ec6590328>   \n1  <UID: 1a6ca2a3e1cc44c39b8477ba8e7f61bf>   \n2  <UID: d57629eb02ed41ef9335ef581a011d2b>   \n\n                           Requested Object's type  \n0            <class 'tenseal.enc_context.Context'>  \n1  <class 'tenseal.tensors.ckksvector.CKKSVector'>  \n2  <class 'tenseal.tensors.ckksvector.CKKSVector'>  ",
      "text/html": "<div>\n<style scoped>\n    .dataframe tbody tr th:only-of-type {\n        vertical-align: middle;\n    }\n\n    .dataframe tbody tr th {\n        vertical-align: top;\n    }\n\n    .dataframe thead th {\n        text-align: right;\n    }\n</style>\n<table border=\"1\" class=\"dataframe\">\n  <thead>\n    <tr style=\"text-align: right;\">\n      <th></th>\n      <th>Requested Object's tags</th>\n      <th>Reason</th>\n      <th>Request ID</th>\n      <th>Requested Object's ID</th>\n      <th>Requested Object's type</th>\n    </tr>\n  </thead>\n  <tbody>\n    <tr>\n      <th>0</th>\n      <td>[context]</td>\n      <td>I would like to get the context</td>\n      <td>&lt;UID: 7002275e89aa4a398a1622a45cce1a6c&gt;</td>\n      <td>&lt;UID: ede4645f898a4b64bc6c202ec6590328&gt;</td>\n      <td>&lt;class 'tenseal.enc_context.Context'&gt;</td>\n    </tr>\n    <tr>\n      <th>1</th>\n      <td>[enc_v1]</td>\n      <td>I would like to get first vector</td>\n      <td>&lt;UID: 6a11535aae5b45dda6778426897eceb7&gt;</td>\n      <td>&lt;UID: 1a6ca2a3e1cc44c39b8477ba8e7f61bf&gt;</td>\n      <td>&lt;class 'tenseal.tensors.ckksvector.CKKSVector'&gt;</td>\n    </tr>\n    <tr>\n      <th>2</th>\n      <td>[enc_v2]</td>\n      <td>I would like to get second vector</td>\n      <td>&lt;UID: cb28f365a07a4de6b98f1385bacade0c&gt;</td>\n      <td>&lt;UID: d57629eb02ed41ef9335ef581a011d2b&gt;</td>\n      <td>&lt;class 'tenseal.tensors.ckksvector.CKKSVector'&gt;</td>\n    </tr>\n  </tbody>\n</table>\n</div>"
     },
     "execution_count": 6,
     "metadata": {},
     "output_type": "execute_result"
    }
   ],
   "source": [
    "duet.requests.pandas"
   ]
  },
  {
   "cell_type": "code",
   "execution_count": 8,
   "id": "fec1acf5",
   "metadata": {},
   "outputs": [
    {
     "data": {
      "text/plain": "(<tenseal.tensors.ckksvector.CKKSVector at 0x1deb09d56a0>,\n <tenseal.tensors.ckksvector.CKKSVector at 0x1deb09d5400>)"
     },
     "execution_count": 8,
     "metadata": {},
     "output_type": "execute_result"
    }
   ],
   "source": [
    "ctx = ctx_ptr.get(delete_obj=False)\n",
    "\n",
    "enc_v1 = enc_v1_ptr.get(delete_obj=False)\n",
    "enc_v2 = enc_v2_ptr.get(delete_obj=False)\n",
    "\n",
    "enc_v1.link_context(ctx)\n",
    "enc_v2.link_context(ctx)\n",
    "\n",
    "(enc_v1, enc_v2)"
   ]
  },
  {
   "cell_type": "markdown",
   "id": "db9e6a88",
   "metadata": {},
   "source": [
    "### Compute different operations over the two vectors locally"
   ]
  },
  {
   "cell_type": "code",
   "execution_count": 9,
   "id": "acb19118",
   "metadata": {},
   "outputs": [
    {
     "data": {
      "text/plain": "<tenseal.tensors.ckksvector.CKKSVector at 0x1deb09daa30>"
     },
     "execution_count": 9,
     "metadata": {},
     "output_type": "execute_result"
    }
   ],
   "source": [
    "result_add = enc_v1 + enc_v2\n",
    "result_iadd = enc_v1 + [10, 10, 10, 10, 10]\n",
    "result_sub = enc_v1 - enc_v2\n",
    "result_mul = enc_v1 * enc_v2\n",
    "result_pow = enc_v1 ** 3\n",
    "result_neg = -enc_v1\n",
    "result_poly = enc_v1.polyval([1,0,1,1]) # 1 + X^2 + X^3\n",
    "result_add"
   ]
  },
  {
   "cell_type": "markdown",
   "id": "c732a624",
   "metadata": {},
   "source": [
    "### Send results back to the Data Owner"
   ]
  },
  {
   "cell_type": "code",
   "execution_count": 10,
   "id": "42ccd630",
   "metadata": {},
   "outputs": [],
   "source": [
    "result_add_ptr = result_add.send(duet, pointable=True, tags=[\"result_add\"])\n",
    "result_iadd_ptr = result_iadd.send(duet, pointable=True, tags=[\"result_iadd\"])\n",
    "result_sub_ptr = result_sub.send(duet, pointable=True, tags=[\"result_sub\"])\n",
    "result_mul_ptr = result_mul.send(duet, pointable=True, tags=[\"result_mul\"])\n",
    "result_pow_ptr = result_pow.send(duet, pointable=True, tags=[\"result_pow\"])\n",
    "result_neg_ptr = result_neg.send(duet, pointable=True, tags=[\"result_neg\"])\n",
    "result_poly_ptr = result_poly.send(duet, pointable=True, tags=[\"result_poly\"])"
   ]
  },
  {
   "cell_type": "code",
   "execution_count": 11,
   "id": "82d82055",
   "metadata": {},
   "outputs": [
    {
     "name": "stdout",
     "output_type": "stream",
     "text": [
      "[<syft.proxy.tenseal.ContextPointer object at 0x000001FAC3BC3400>, <syft.proxy.tenseal.CKKSVectorPointer object at 0x000001FAC3BC3A90>, <syft.proxy.tenseal.CKKSVectorPointer object at 0x000001FAC3BC3D60>, <syft.proxy.tenseal.CKKSVectorPointer object at 0x000001FAC3BC3AF0>, <syft.proxy.tenseal.CKKSVectorPointer object at 0x000001FAC3BC3850>, <syft.proxy.tenseal.CKKSVectorPointer object at 0x000001FAC3ED1EB0>, <syft.proxy.tenseal.CKKSVectorPointer object at 0x000001FAC3ED12B0>, <syft.proxy.tenseal.CKKSVectorPointer object at 0x000001FAC3ED10D0>, <syft.proxy.tenseal.CKKSVectorPointer object at 0x000001FAC3ED1400>, <syft.proxy.tenseal.CKKSVectorPointer object at 0x000001FAC3ED1E80>]\n"
     ]
    }
   ],
   "source": [
    "print(duet.store)"
   ]
  }
 ],
 "metadata": {
  "kernelspec": {
   "display_name": "Python 3",
   "language": "python",
   "name": "python3"
  },
  "language_info": {
   "codemirror_mode": {
    "name": "ipython",
    "version": 3
   },
   "file_extension": ".py",
   "mimetype": "text/x-python",
   "name": "python",
   "nbconvert_exporter": "python",
   "pygments_lexer": "ipython3",
   "version": "3.8.8"
  }
 },
 "nbformat": 4,
 "nbformat_minor": 5
}