{
 "cells": [
  {
   "cell_type": "markdown",
   "id": "58063878",
   "metadata": {},
   "source": [
    "# Homomorphic Encryption using Duet: Data Owner"
   ]
  },
  {
   "cell_type": "markdown",
   "id": "1d8f8245",
   "metadata": {},
   "source": [
    "### Setup"
   ]
  },
  {
   "cell_type": "code",
   "execution_count": 2,
   "id": "acdf38b4",
   "metadata": {},
   "outputs": [
    {
     "name": "stdout",
     "output_type": "stream",
     "text": [
      "sy.load() is deprecated and not needed anymore\n",
      "🎤  🎸  ♪♪♪ Joining Duet ♫♫♫  🎻  🎹\n",
      "\n",
      "♫♫♫ >\u001b[93m DISCLAIMER\u001b[0m: \u001b[1mDuet is an experimental feature currently in beta.\n",
      "♫♫♫ > Use at your own risk.\n",
      "\u001b[0m\n",
      "\u001b[1m\n",
      "    > ❤️ \u001b[91mLove\u001b[0m \u001b[92mDuet\u001b[0m? \u001b[93mPlease\u001b[0m \u001b[94mconsider\u001b[0m \u001b[95msupporting\u001b[0m \u001b[91mour\u001b[0m \u001b[93mcommunity!\u001b[0m\n",
      "    > https://github.com/sponsors/OpenMined\u001b[1m\n",
      "\n",
      "♫♫♫ > Punching through firewall to OpenGrid Network Node at:\n",
      "♫♫♫ > http://ec2-18-218-7-180.us-east-2.compute.amazonaws.com:5000\n",
      "♫♫♫ >\n",
      "♫♫♫ > ...waiting for response from OpenGrid Network... \n",
      "♫♫♫ > \u001b[92mDONE!\u001b[0m\n",
      "\n",
      "♫♫♫ > \u001b[92mCONNECTED!\u001b[0m\n"
     ]
    }
   ],
   "source": [
    "import syft as sy\n",
    "import tenseal as ts\n",
    "\n",
    "sy.load(\"tenseal\")\n",
    "\n",
    "duet = sy.join_duet(loopback=True)"
   ]
  },
  {
   "cell_type": "code",
   "execution_count": 15,
   "id": "00f1874c",
   "metadata": {},
   "outputs": [
    {
     "data": {
      "text/html": [
       "<div>\n",
       "<style scoped>\n",
       "    .dataframe tbody tr th:only-of-type {\n",
       "        vertical-align: middle;\n",
       "    }\n",
       "\n",
       "    .dataframe tbody tr th {\n",
       "        vertical-align: top;\n",
       "    }\n",
       "\n",
       "    .dataframe thead th {\n",
       "        text-align: right;\n",
       "    }\n",
       "</style>\n",
       "<table border=\"1\" class=\"dataframe\">\n",
       "  <thead>\n",
       "    <tr style=\"text-align: right;\">\n",
       "      <th></th>\n",
       "      <th>ID</th>\n",
       "      <th>Tags</th>\n",
       "      <th>Description</th>\n",
       "      <th>object_type</th>\n",
       "    </tr>\n",
       "  </thead>\n",
       "  <tbody>\n",
       "    <tr>\n",
       "      <th>0</th>\n",
       "      <td>&lt;UID: 03e4301ae9064a4c9c5b17bfc3a998fa&gt;</td>\n",
       "      <td>[context]</td>\n",
       "      <td></td>\n",
       "      <td>&lt;class 'tenseal.enc_context.Context'&gt;</td>\n",
       "    </tr>\n",
       "    <tr>\n",
       "      <th>1</th>\n",
       "      <td>&lt;UID: fe61d500b24148f9abc8e8a4fbdc915b&gt;</td>\n",
       "      <td>[enc_v1]</td>\n",
       "      <td></td>\n",
       "      <td>&lt;class 'tenseal.tensors.ckksvector.CKKSVector'&gt;</td>\n",
       "    </tr>\n",
       "    <tr>\n",
       "      <th>2</th>\n",
       "      <td>&lt;UID: cc12824db81c499b93b203575125a12d&gt;</td>\n",
       "      <td>[enc_v2]</td>\n",
       "      <td></td>\n",
       "      <td>&lt;class 'tenseal.tensors.ckksvector.CKKSVector'&gt;</td>\n",
       "    </tr>\n",
       "  </tbody>\n",
       "</table>\n",
       "</div>"
      ],
      "text/plain": [
       "                                        ID       Tags Description  \\\n",
       "0  <UID: 03e4301ae9064a4c9c5b17bfc3a998fa>  [context]               \n",
       "1  <UID: fe61d500b24148f9abc8e8a4fbdc915b>   [enc_v1]               \n",
       "2  <UID: cc12824db81c499b93b203575125a12d>   [enc_v2]               \n",
       "\n",
       "                                       object_type  \n",
       "0            <class 'tenseal.enc_context.Context'>  \n",
       "1  <class 'tenseal.tensors.ckksvector.CKKSVector'>  \n",
       "2  <class 'tenseal.tensors.ckksvector.CKKSVector'>  "
      ]
     },
     "execution_count": 15,
     "metadata": {},
     "output_type": "execute_result"
    }
   ],
   "source": [
    "duet.store.pandas"
   ]
  },
  {
   "cell_type": "markdown",
   "id": "8300f00f",
   "metadata": {},
   "source": [
    "### Get pointers to the encrypted vectors"
   ]
  },
  {
   "cell_type": "code",
   "execution_count": 16,
   "id": "bca4a5f1",
   "metadata": {},
   "outputs": [],
   "source": [
    "ctx_ptr = duet.store[\"context\"]\n",
    "enc_v1_ptr = duet.store[\"enc_v1\"]\n",
    "enc_v2_ptr = duet.store[\"enc_v2\"]"
   ]
  },
  {
   "cell_type": "markdown",
   "id": "7d8d6c1e",
   "metadata": {},
   "source": [
    "### Request permission to work on the encrypted vectors "
   ]
  },
  {
   "cell_type": "code",
   "execution_count": 17,
   "id": "0d5fcf8d",
   "metadata": {},
   "outputs": [],
   "source": [
    "ctx_ptr.request(reason=\"I would like to get the context\")\n",
    "enc_v1_ptr.request(reason=\"I would like to get first vector\")\n",
    "enc_v2_ptr.request(reason=\"I would like to get second vector\")"
   ]
  },
  {
   "cell_type": "code",
   "execution_count": 18,
   "id": "b0824e9a",
   "metadata": {},
   "outputs": [
    {
     "data": {
      "text/html": [
       "<div>\n",
       "<style scoped>\n",
       "    .dataframe tbody tr th:only-of-type {\n",
       "        vertical-align: middle;\n",
       "    }\n",
       "\n",
       "    .dataframe tbody tr th {\n",
       "        vertical-align: top;\n",
       "    }\n",
       "\n",
       "    .dataframe thead th {\n",
       "        text-align: right;\n",
       "    }\n",
       "</style>\n",
       "<table border=\"1\" class=\"dataframe\">\n",
       "  <thead>\n",
       "    <tr style=\"text-align: right;\">\n",
       "      <th></th>\n",
       "    </tr>\n",
       "  </thead>\n",
       "  <tbody>\n",
       "  </tbody>\n",
       "</table>\n",
       "</div>"
      ],
      "text/plain": [
       "Empty DataFrame\n",
       "Columns: []\n",
       "Index: []"
      ]
     },
     "execution_count": 18,
     "metadata": {},
     "output_type": "execute_result"
    }
   ],
   "source": [
    "duet.requests.pandas"
   ]
  },
  {
   "cell_type": "code",
   "execution_count": 9,
   "id": "b5723c83",
   "metadata": {},
   "outputs": [
    {
     "data": {
      "text/html": [
       "<div>\n",
       "<style scoped>\n",
       "    .dataframe tbody tr th:only-of-type {\n",
       "        vertical-align: middle;\n",
       "    }\n",
       "\n",
       "    .dataframe tbody tr th {\n",
       "        vertical-align: top;\n",
       "    }\n",
       "\n",
       "    .dataframe thead th {\n",
       "        text-align: right;\n",
       "    }\n",
       "</style>\n",
       "<table border=\"1\" class=\"dataframe\">\n",
       "  <thead>\n",
       "    <tr style=\"text-align: right;\">\n",
       "      <th></th>\n",
       "    </tr>\n",
       "  </thead>\n",
       "  <tbody>\n",
       "  </tbody>\n",
       "</table>\n",
       "</div>"
      ],
      "text/plain": [
       "Empty DataFrame\n",
       "Columns: []\n",
       "Index: []"
      ]
     },
     "execution_count": 9,
     "metadata": {},
     "output_type": "execute_result"
    }
   ],
   "source": [
    "duet.requests.pandas"
   ]
  },
  {
   "cell_type": "code",
   "execution_count": 19,
   "id": "fec1acf5",
   "metadata": {},
   "outputs": [
    {
     "data": {
      "text/plain": [
       "(<tenseal.tensors.ckksvector.CKKSVector at 0x7f028841c1c0>,\n",
       " <tenseal.tensors.ckksvector.CKKSVector at 0x7f02884c8b80>)"
      ]
     },
     "execution_count": 19,
     "metadata": {},
     "output_type": "execute_result"
    }
   ],
   "source": [
    "ctx = ctx_ptr.get(delete_obj=False)\n",
    "\n",
    "enc_v1 = enc_v1_ptr.get(delete_obj=False)\n",
    "enc_v2 = enc_v2_ptr.get(delete_obj=False)\n",
    "\n",
    "enc_v1.link_context(ctx)\n",
    "enc_v2.link_context(ctx)\n",
    "\n",
    "(enc_v1, enc_v2)"
   ]
  },
  {
   "cell_type": "markdown",
   "id": "db9e6a88",
   "metadata": {},
   "source": [
    "### Compute different operations over the two vectors locally"
   ]
  },
  {
   "cell_type": "code",
   "execution_count": 20,
   "id": "acb19118",
   "metadata": {},
   "outputs": [
    {
     "data": {
      "text/plain": [
       "<tenseal.tensors.ckksvector.CKKSVector at 0x7f028aa936d0>"
      ]
     },
     "execution_count": 20,
     "metadata": {},
     "output_type": "execute_result"
    }
   ],
   "source": [
    "result_add = enc_v1 + enc_v2\n",
    "result_iadd = enc_v1 + [10, 10, 10, 10, 10]\n",
    "result_sub = enc_v1 - enc_v2\n",
    "result_mul = enc_v1 * enc_v2\n",
    "result_pow = enc_v1 ** 3\n",
    "result_neg = -enc_v1\n",
    "result_poly = enc_v1.polyval([1,0,1,1]) # 1 + X^2 + X^3\n",
    "result_add"
   ]
  },
  {
   "cell_type": "markdown",
   "id": "c732a624",
   "metadata": {},
   "source": [
    "### Send results back to the Data Owner"
   ]
  },
  {
   "cell_type": "code",
   "execution_count": 21,
   "id": "42ccd630",
   "metadata": {},
   "outputs": [],
   "source": [
    "result_add_ptr = result_add.send(duet, pointable=True, tags=[\"result_add\"])\n",
    "result_iadd_ptr = result_iadd.send(duet, pointable=True, tags=[\"result_iadd\"])\n",
    "result_sub_ptr = result_sub.send(duet, pointable=True, tags=[\"result_sub\"])\n",
    "result_mul_ptr = result_mul.send(duet, pointable=True, tags=[\"result_mul\"])\n",
    "result_pow_ptr = result_pow.send(duet, pointable=True, tags=[\"result_pow\"])\n",
    "result_neg_ptr = result_neg.send(duet, pointable=True, tags=[\"result_neg\"])\n",
    "result_poly_ptr = result_poly.send(duet, pointable=True, tags=[\"result_poly\"])"
   ]
  },
  {
   "cell_type": "code",
   "execution_count": 22,
   "id": "82d82055",
   "metadata": {},
   "outputs": [
    {
     "data": {
      "text/html": [
       "<div>\n",
       "<style scoped>\n",
       "    .dataframe tbody tr th:only-of-type {\n",
       "        vertical-align: middle;\n",
       "    }\n",
       "\n",
       "    .dataframe tbody tr th {\n",
       "        vertical-align: top;\n",
       "    }\n",
       "\n",
       "    .dataframe thead th {\n",
       "        text-align: right;\n",
       "    }\n",
       "</style>\n",
       "<table border=\"1\" class=\"dataframe\">\n",
       "  <thead>\n",
       "    <tr style=\"text-align: right;\">\n",
       "      <th></th>\n",
       "      <th>ID</th>\n",
       "      <th>Tags</th>\n",
       "      <th>Description</th>\n",
       "      <th>object_type</th>\n",
       "    </tr>\n",
       "  </thead>\n",
       "  <tbody>\n",
       "    <tr>\n",
       "      <th>0</th>\n",
       "      <td>&lt;UID: 03e4301ae9064a4c9c5b17bfc3a998fa&gt;</td>\n",
       "      <td>[context]</td>\n",
       "      <td></td>\n",
       "      <td>&lt;class 'tenseal.enc_context.Context'&gt;</td>\n",
       "    </tr>\n",
       "    <tr>\n",
       "      <th>1</th>\n",
       "      <td>&lt;UID: fe61d500b24148f9abc8e8a4fbdc915b&gt;</td>\n",
       "      <td>[enc_v1]</td>\n",
       "      <td></td>\n",
       "      <td>&lt;class 'tenseal.tensors.ckksvector.CKKSVector'&gt;</td>\n",
       "    </tr>\n",
       "    <tr>\n",
       "      <th>2</th>\n",
       "      <td>&lt;UID: cc12824db81c499b93b203575125a12d&gt;</td>\n",
       "      <td>[enc_v2]</td>\n",
       "      <td></td>\n",
       "      <td>&lt;class 'tenseal.tensors.ckksvector.CKKSVector'&gt;</td>\n",
       "    </tr>\n",
       "    <tr>\n",
       "      <th>3</th>\n",
       "      <td>&lt;UID: 14493175708843aea72a63b4ad181d9b&gt;</td>\n",
       "      <td>[result_add]</td>\n",
       "      <td></td>\n",
       "      <td>&lt;class 'tenseal.tensors.ckksvector.CKKSVector'&gt;</td>\n",
       "    </tr>\n",
       "    <tr>\n",
       "      <th>4</th>\n",
       "      <td>&lt;UID: c77e47c84e3a42fdbc610afc0cc57c23&gt;</td>\n",
       "      <td>[result_iadd]</td>\n",
       "      <td></td>\n",
       "      <td>&lt;class 'tenseal.tensors.ckksvector.CKKSVector'&gt;</td>\n",
       "    </tr>\n",
       "    <tr>\n",
       "      <th>5</th>\n",
       "      <td>&lt;UID: 7e836097d4ad48829cd81df777a3bbcf&gt;</td>\n",
       "      <td>[result_sub]</td>\n",
       "      <td></td>\n",
       "      <td>&lt;class 'tenseal.tensors.ckksvector.CKKSVector'&gt;</td>\n",
       "    </tr>\n",
       "    <tr>\n",
       "      <th>6</th>\n",
       "      <td>&lt;UID: e3d7100dd6b349978c7786812fb79fd6&gt;</td>\n",
       "      <td>[result_mul]</td>\n",
       "      <td></td>\n",
       "      <td>&lt;class 'tenseal.tensors.ckksvector.CKKSVector'&gt;</td>\n",
       "    </tr>\n",
       "    <tr>\n",
       "      <th>7</th>\n",
       "      <td>&lt;UID: b7a233b8c5db49eca46bc87c42ad9b6e&gt;</td>\n",
       "      <td>[result_pow]</td>\n",
       "      <td></td>\n",
       "      <td>&lt;class 'tenseal.tensors.ckksvector.CKKSVector'&gt;</td>\n",
       "    </tr>\n",
       "    <tr>\n",
       "      <th>8</th>\n",
       "      <td>&lt;UID: 3b4ecb6eae414746b07d4e6cd39f24cf&gt;</td>\n",
       "      <td>[result_neg]</td>\n",
       "      <td></td>\n",
       "      <td>&lt;class 'tenseal.tensors.ckksvector.CKKSVector'&gt;</td>\n",
       "    </tr>\n",
       "    <tr>\n",
       "      <th>9</th>\n",
       "      <td>&lt;UID: b5d390a158ef416fa5e8daa7c4002daf&gt;</td>\n",
       "      <td>[result_poly]</td>\n",
       "      <td></td>\n",
       "      <td>&lt;class 'tenseal.tensors.ckksvector.CKKSVector'&gt;</td>\n",
       "    </tr>\n",
       "  </tbody>\n",
       "</table>\n",
       "</div>"
      ],
      "text/plain": [
       "                                        ID           Tags Description  \\\n",
       "0  <UID: 03e4301ae9064a4c9c5b17bfc3a998fa>      [context]               \n",
       "1  <UID: fe61d500b24148f9abc8e8a4fbdc915b>       [enc_v1]               \n",
       "2  <UID: cc12824db81c499b93b203575125a12d>       [enc_v2]               \n",
       "3  <UID: 14493175708843aea72a63b4ad181d9b>   [result_add]               \n",
       "4  <UID: c77e47c84e3a42fdbc610afc0cc57c23>  [result_iadd]               \n",
       "5  <UID: 7e836097d4ad48829cd81df777a3bbcf>   [result_sub]               \n",
       "6  <UID: e3d7100dd6b349978c7786812fb79fd6>   [result_mul]               \n",
       "7  <UID: b7a233b8c5db49eca46bc87c42ad9b6e>   [result_pow]               \n",
       "8  <UID: 3b4ecb6eae414746b07d4e6cd39f24cf>   [result_neg]               \n",
       "9  <UID: b5d390a158ef416fa5e8daa7c4002daf>  [result_poly]               \n",
       "\n",
       "                                       object_type  \n",
       "0            <class 'tenseal.enc_context.Context'>  \n",
       "1  <class 'tenseal.tensors.ckksvector.CKKSVector'>  \n",
       "2  <class 'tenseal.tensors.ckksvector.CKKSVector'>  \n",
       "3  <class 'tenseal.tensors.ckksvector.CKKSVector'>  \n",
       "4  <class 'tenseal.tensors.ckksvector.CKKSVector'>  \n",
       "5  <class 'tenseal.tensors.ckksvector.CKKSVector'>  \n",
       "6  <class 'tenseal.tensors.ckksvector.CKKSVector'>  \n",
       "7  <class 'tenseal.tensors.ckksvector.CKKSVector'>  \n",
       "8  <class 'tenseal.tensors.ckksvector.CKKSVector'>  \n",
       "9  <class 'tenseal.tensors.ckksvector.CKKSVector'>  "
      ]
     },
     "execution_count": 22,
     "metadata": {},
     "output_type": "execute_result"
    }
   ],
   "source": [
    "duet.store.pandas"
   ]
  }
 ],
 "metadata": {
  "kernelspec": {
   "display_name": "Python 3 (ipykernel)",
   "language": "python",
   "name": "python3"
  },
  "language_info": {
   "codemirror_mode": {
    "name": "ipython",
    "version": 3
   },
   "file_extension": ".py",
   "mimetype": "text/x-python",
   "name": "python",
   "nbconvert_exporter": "python",
   "pygments_lexer": "ipython3",
   "version": "3.8.8"
  }
 },
 "nbformat": 4,
 "nbformat_minor": 5
}
