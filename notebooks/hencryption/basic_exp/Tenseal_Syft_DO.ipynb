{
 "cells": [
  {
   "cell_type": "markdown",
   "id": "af76b3ab",
   "metadata": {},
   "source": [
    "# Homomorphic Encryption using Duet: Data Owner"
   ]
  },
  {
   "cell_type": "markdown",
   "id": "b9d9caac",
   "metadata": {},
   "source": [
    "### Setup"
   ]
  },
  {
   "cell_type": "code",
   "execution_count": 1,
   "id": "fa2272a3",
   "metadata": {},
   "outputs": [],
   "source": [
    "import syft as sy\n",
    "import tenseal as ts\n",
    "import pytest\n"
   ]
  },
  {
   "cell_type": "markdown",
   "id": "fead4f71",
   "metadata": {},
   "source": [
    "### Start Duet Instance"
   ]
  },
  {
   "cell_type": "code",
   "execution_count": 2,
   "id": "591313dd",
   "metadata": {},
   "outputs": [
    {
     "name": "stdout",
     "output_type": "stream",
     "text": [
      "🎤  🎸  ♪♪♪ Starting Duet ♫♫♫  🎻  🎹\n",
      "\n",
      "♫♫♫ >\u001b[93m DISCLAIMER\u001b[0m: \u001b[1mDuet is an experimental feature currently in beta.\n",
      "♫♫♫ > Use at your own risk.\n",
      "\u001b[0m\n",
      "\u001b[1m\n",
      "    > ❤️ \u001b[91mLove\u001b[0m \u001b[92mDuet\u001b[0m? \u001b[93mPlease\u001b[0m \u001b[94mconsider\u001b[0m \u001b[95msupporting\u001b[0m \u001b[91mour\u001b[0m \u001b[93mcommunity!\u001b[0m\n",
      "    > https://github.com/sponsors/OpenMined\u001b[1m\n",
      "\n",
      "♫♫♫ > Punching through firewall to OpenGrid Network Node at:\n",
      "♫♫♫ > http://ec2-18-218-7-180.us-east-2.compute.amazonaws.com:5000\n",
      "♫♫♫ >\n",
      "♫♫♫ > ...waiting for response from OpenGrid Network... \n",
      "♫♫♫ > \u001b[92mDONE!\u001b[0m\n",
      "\n",
      "♫♫♫ > \u001b[95mSTEP 1:\u001b[0m Send the following code to your Duet Partner!\n",
      "\n",
      "import syft as sy\n",
      "duet = sy.join_duet(loopback=True)\n",
      "\n",
      "♫♫♫ > Connecting...\n",
      "\n",
      "♫♫♫ > \u001b[92mCONNECTED!\u001b[0m\n",
      "\n",
      "♫♫♫ > DUET LIVE STATUS  -  Objects: 0  Requests: 0   Messages: 0  Request Handlers: 0                                \r"
     ]
    }
   ],
   "source": [
    "duet = sy.launch_duet(loopback=True)"
   ]
  },
  {
   "cell_type": "markdown",
   "id": "3a7f4376",
   "metadata": {},
   "source": [
    "### TenSeal Context"
   ]
  },
  {
   "cell_type": "code",
   "execution_count": 3,
   "id": "2c84cd2e",
   "metadata": {},
   "outputs": [
    {
     "ename": "ValueError",
     "evalue": "Invalid scheme type, use either SCHEME_TYPE.BFV or SCHEME_TYPE.CKKS",
     "output_type": "error",
     "traceback": [
      "\u001b[0;31m---------------------------------------------------------------------------\u001b[0m",
      "\u001b[0;31mValueError\u001b[0m                                Traceback (most recent call last)",
      "\u001b[0;32m/tmp/ipykernel_14085/762691797.py\u001b[0m in \u001b[0;36m<module>\u001b[0;34m\u001b[0m\n\u001b[0;32m----> 1\u001b[0;31m \u001b[0mts\u001b[0m\u001b[0;34m.\u001b[0m\u001b[0mContext\u001b[0m\u001b[0;34m(\u001b[0m\u001b[0;34m)\u001b[0m\u001b[0;34m\u001b[0m\u001b[0;34m\u001b[0m\u001b[0m\n\u001b[0m",
      "\u001b[0;32m~/anaconda3/envs/pysyft/lib/python3.8/site-packages/tenseal/enc_context.py\u001b[0m in \u001b[0;36m__init__\u001b[0;34m(self, scheme, poly_modulus_degree, plain_modulus, coeff_mod_bit_sizes, encryption_type, n_threads, data)\u001b[0m\n\u001b[1;32m    128\u001b[0m \u001b[0;34m\u001b[0m\u001b[0m\n\u001b[1;32m    129\u001b[0m         \u001b[0;32melse\u001b[0m\u001b[0;34m:\u001b[0m\u001b[0;34m\u001b[0m\u001b[0;34m\u001b[0m\u001b[0m\n\u001b[0;32m--> 130\u001b[0;31m             \u001b[0;32mraise\u001b[0m \u001b[0mValueError\u001b[0m\u001b[0;34m(\u001b[0m\u001b[0;34m\"Invalid scheme type, use either SCHEME_TYPE.BFV or SCHEME_TYPE.CKKS\"\u001b[0m\u001b[0;34m)\u001b[0m\u001b[0;34m\u001b[0m\u001b[0;34m\u001b[0m\u001b[0m\n\u001b[0m\u001b[1;32m    131\u001b[0m \u001b[0;34m\u001b[0m\u001b[0m\n\u001b[1;32m    132\u001b[0m         \u001b[0;31m# We can't pass None here, everything should be set prior to this call\u001b[0m\u001b[0;34m\u001b[0m\u001b[0;34m\u001b[0m\u001b[0;34m\u001b[0m\u001b[0m\n",
      "\u001b[0;31mValueError\u001b[0m: Invalid scheme type, use either SCHEME_TYPE.BFV or SCHEME_TYPE.CKKS"
     ]
    }
   ],
   "source": [
    "ts.Context()"
   ]
  },
  {
   "cell_type": "code",
   "execution_count": 4,
   "id": "ec954f15",
   "metadata": {},
   "outputs": [
    {
     "data": {
      "text/plain": [
       "<tenseal.enc_context.Context at 0x7f3602595e20>"
      ]
     },
     "execution_count": 4,
     "metadata": {},
     "output_type": "execute_result"
    }
   ],
   "source": [
    "context = ts.Context(\n",
    "    ts.SCHEME_TYPE.CKKS,\n",
    "    poly_modulus_degree=8192,\n",
    "    coeff_mod_bit_sizes=[60, 40, 40, 60]\n",
    ")\n",
    "context.global_scale = 2**40\n",
    "context"
   ]
  },
  {
   "cell_type": "markdown",
   "id": "7083f67a",
   "metadata": {},
   "source": [
    "### Encrypt the Data"
   ]
  },
  {
   "cell_type": "code",
   "execution_count": 27,
   "id": "801bbe3b",
   "metadata": {},
   "outputs": [
    {
     "data": {
      "text/plain": [
       "(<tenseal.tensors.ckksvector.CKKSVector at 0x7f0d0ae028e0>,\n",
       " <tenseal.tensors.ckksvector.CKKSVector at 0x7f0d0ae02d00>)"
      ]
     },
     "execution_count": 27,
     "metadata": {},
     "output_type": "execute_result"
    }
   ],
   "source": [
    "v1 = [0, 1, 2, 3, 4]\n",
    "v2 = [4, 3, 2, 1, 0]\n",
    "\n",
    "enc_v1 = ts.ckks_vector(context, v1)\n",
    "enc_v2 = ts.ckks_vector(context, v2)\n",
    "(enc_v1, enc_v2)"
   ]
  },
  {
   "cell_type": "code",
   "execution_count": 28,
   "id": "76b2f4e9",
   "metadata": {},
   "outputs": [
    {
     "data": {
      "text/plain": [
       "[3.999999999975049,\n",
       " 4.000000000705923,\n",
       " 3.9999999980663503,\n",
       " 3.9999999993600746,\n",
       " 3.999999999000849]"
      ]
     },
     "execution_count": 28,
     "metadata": {},
     "output_type": "execute_result"
    },
    {
     "name": "stdout",
     "output_type": "stream",
     "text": [
      "\r",
      "♫♫♫ > DUET LIVE STATUS  *  Objects: 10  Requests: 0   Messages: 52  Request Handlers: 0                                \r"
     ]
    }
   ],
   "source": [
    "result_add_local = enc_v1 + enc_v2\n",
    "result_add_local.decrypt()"
   ]
  },
  {
   "cell_type": "markdown",
   "id": "2dc7e031",
   "metadata": {},
   "source": [
    "### Make Context and Encrypted Vectors Referenceable over Duet"
   ]
  },
  {
   "cell_type": "code",
   "execution_count": 29,
   "id": "b13fed77",
   "metadata": {},
   "outputs": [
    {
     "name": "stdout",
     "output_type": "stream",
     "text": [
      "\r",
      "♫♫♫ > DUET LIVE STATUS  *  Objects: 3  Requests: 0   Messages: 3  Request Handlers: 0                                \r"
     ]
    }
   ],
   "source": [
    "# tag them so our partner can easily reference it\n",
    "ctx_ptr = context.send(duet, pointable=True, tags=[\"context\"])\n",
    "enc_v1_ptr = enc_v1.send(duet, pointable=True, tags=[\"enc_v1\"])\n",
    "enc_v2_ptr = enc_v2.send(duet, pointable=True, tags=[\"enc_v2\"])"
   ]
  },
  {
   "cell_type": "code",
   "execution_count": 30,
   "id": "e9221872",
   "metadata": {},
   "outputs": [
    {
     "data": {
      "text/html": [
       "<div>\n",
       "<style scoped>\n",
       "    .dataframe tbody tr th:only-of-type {\n",
       "        vertical-align: middle;\n",
       "    }\n",
       "\n",
       "    .dataframe tbody tr th {\n",
       "        vertical-align: top;\n",
       "    }\n",
       "\n",
       "    .dataframe thead th {\n",
       "        text-align: right;\n",
       "    }\n",
       "</style>\n",
       "<table border=\"1\" class=\"dataframe\">\n",
       "  <thead>\n",
       "    <tr style=\"text-align: right;\">\n",
       "      <th></th>\n",
       "      <th>ID</th>\n",
       "      <th>Tags</th>\n",
       "      <th>Description</th>\n",
       "      <th>object_type</th>\n",
       "    </tr>\n",
       "  </thead>\n",
       "  <tbody>\n",
       "    <tr>\n",
       "      <th>0</th>\n",
       "      <td>&lt;UID: 03e4301ae9064a4c9c5b17bfc3a998fa&gt;</td>\n",
       "      <td>[context]</td>\n",
       "      <td></td>\n",
       "      <td>&lt;class 'tenseal.enc_context.Context'&gt;</td>\n",
       "    </tr>\n",
       "    <tr>\n",
       "      <th>1</th>\n",
       "      <td>&lt;UID: fe61d500b24148f9abc8e8a4fbdc915b&gt;</td>\n",
       "      <td>[enc_v1]</td>\n",
       "      <td></td>\n",
       "      <td>&lt;class 'tenseal.tensors.ckksvector.CKKSVector'&gt;</td>\n",
       "    </tr>\n",
       "    <tr>\n",
       "      <th>2</th>\n",
       "      <td>&lt;UID: cc12824db81c499b93b203575125a12d&gt;</td>\n",
       "      <td>[enc_v2]</td>\n",
       "      <td></td>\n",
       "      <td>&lt;class 'tenseal.tensors.ckksvector.CKKSVector'&gt;</td>\n",
       "    </tr>\n",
       "  </tbody>\n",
       "</table>\n",
       "</div>"
      ],
      "text/plain": [
       "                                        ID       Tags Description  \\\n",
       "0  <UID: 03e4301ae9064a4c9c5b17bfc3a998fa>  [context]               \n",
       "1  <UID: fe61d500b24148f9abc8e8a4fbdc915b>   [enc_v1]               \n",
       "2  <UID: cc12824db81c499b93b203575125a12d>   [enc_v2]               \n",
       "\n",
       "                                       object_type  \n",
       "0            <class 'tenseal.enc_context.Context'>  \n",
       "1  <class 'tenseal.tensors.ckksvector.CKKSVector'>  \n",
       "2  <class 'tenseal.tensors.ckksvector.CKKSVector'>  "
      ]
     },
     "execution_count": 30,
     "metadata": {},
     "output_type": "execute_result"
    }
   ],
   "source": [
    "duet.store.pandas"
   ]
  },
  {
   "cell_type": "markdown",
   "id": "07f1005f",
   "metadata": {},
   "source": [
    "###  check requests"
   ]
  },
  {
   "cell_type": "code",
   "execution_count": 31,
   "id": "133a8d74",
   "metadata": {},
   "outputs": [
    {
     "data": {
      "text/html": [
       "<div>\n",
       "<style scoped>\n",
       "    .dataframe tbody tr th:only-of-type {\n",
       "        vertical-align: middle;\n",
       "    }\n",
       "\n",
       "    .dataframe tbody tr th {\n",
       "        vertical-align: top;\n",
       "    }\n",
       "\n",
       "    .dataframe thead th {\n",
       "        text-align: right;\n",
       "    }\n",
       "</style>\n",
       "<table border=\"1\" class=\"dataframe\">\n",
       "  <thead>\n",
       "    <tr style=\"text-align: right;\">\n",
       "      <th></th>\n",
       "      <th>Requested Object's tags</th>\n",
       "      <th>Reason</th>\n",
       "      <th>Request ID</th>\n",
       "      <th>Requested Object's ID</th>\n",
       "      <th>Requested Object's type</th>\n",
       "    </tr>\n",
       "  </thead>\n",
       "  <tbody>\n",
       "    <tr>\n",
       "      <th>0</th>\n",
       "      <td>[context]</td>\n",
       "      <td>I would like to get the context</td>\n",
       "      <td>&lt;UID: 478d76e6566d448a827fbd02429accba&gt;</td>\n",
       "      <td>&lt;UID: 03e4301ae9064a4c9c5b17bfc3a998fa&gt;</td>\n",
       "      <td>&lt;class 'tenseal.enc_context.Context'&gt;</td>\n",
       "    </tr>\n",
       "    <tr>\n",
       "      <th>1</th>\n",
       "      <td>[enc_v1]</td>\n",
       "      <td>I would like to get first vector</td>\n",
       "      <td>&lt;UID: ca29f7890b3b4139843f174dab66bf07&gt;</td>\n",
       "      <td>&lt;UID: fe61d500b24148f9abc8e8a4fbdc915b&gt;</td>\n",
       "      <td>&lt;class 'tenseal.tensors.ckksvector.CKKSVector'&gt;</td>\n",
       "    </tr>\n",
       "    <tr>\n",
       "      <th>2</th>\n",
       "      <td>[enc_v2]</td>\n",
       "      <td>I would like to get second vector</td>\n",
       "      <td>&lt;UID: d4928b79ef3d470d86aabd49d1f37446&gt;</td>\n",
       "      <td>&lt;UID: cc12824db81c499b93b203575125a12d&gt;</td>\n",
       "      <td>&lt;class 'tenseal.tensors.ckksvector.CKKSVector'&gt;</td>\n",
       "    </tr>\n",
       "  </tbody>\n",
       "</table>\n",
       "</div>"
      ],
      "text/plain": [
       "  Requested Object's tags                             Reason  \\\n",
       "0               [context]    I would like to get the context   \n",
       "1                [enc_v1]   I would like to get first vector   \n",
       "2                [enc_v2]  I would like to get second vector   \n",
       "\n",
       "                                Request ID  \\\n",
       "0  <UID: 478d76e6566d448a827fbd02429accba>   \n",
       "1  <UID: ca29f7890b3b4139843f174dab66bf07>   \n",
       "2  <UID: d4928b79ef3d470d86aabd49d1f37446>   \n",
       "\n",
       "                     Requested Object's ID  \\\n",
       "0  <UID: 03e4301ae9064a4c9c5b17bfc3a998fa>   \n",
       "1  <UID: fe61d500b24148f9abc8e8a4fbdc915b>   \n",
       "2  <UID: cc12824db81c499b93b203575125a12d>   \n",
       "\n",
       "                           Requested Object's type  \n",
       "0            <class 'tenseal.enc_context.Context'>  \n",
       "1  <class 'tenseal.tensors.ckksvector.CKKSVector'>  \n",
       "2  <class 'tenseal.tensors.ckksvector.CKKSVector'>  "
      ]
     },
     "execution_count": 31,
     "metadata": {},
     "output_type": "execute_result"
    }
   ],
   "source": [
    "duet.requests.pandas"
   ]
  },
  {
   "cell_type": "markdown",
   "id": "59b4e424",
   "metadata": {},
   "source": [
    "### Approve the requests"
   ]
  },
  {
   "cell_type": "code",
   "execution_count": 32,
   "id": "9c9c50fb",
   "metadata": {},
   "outputs": [
    {
     "name": "stdout",
     "output_type": "stream",
     "text": [
      "\r",
      "♫♫♫ > DUET LIVE STATUS  *  Objects: 3  Requests: 0   Messages: 18  Request Handlers: 0                                \r"
     ]
    }
   ],
   "source": [
    "duet.requests[0].accept()\n",
    "duet.requests[0].accept()\n",
    "duet.requests[0].accept()"
   ]
  },
  {
   "cell_type": "code",
   "execution_count": 33,
   "id": "896ef7e1",
   "metadata": {},
   "outputs": [
    {
     "data": {
      "text/html": [
       "<div>\n",
       "<style scoped>\n",
       "    .dataframe tbody tr th:only-of-type {\n",
       "        vertical-align: middle;\n",
       "    }\n",
       "\n",
       "    .dataframe tbody tr th {\n",
       "        vertical-align: top;\n",
       "    }\n",
       "\n",
       "    .dataframe thead th {\n",
       "        text-align: right;\n",
       "    }\n",
       "</style>\n",
       "<table border=\"1\" class=\"dataframe\">\n",
       "  <thead>\n",
       "    <tr style=\"text-align: right;\">\n",
       "      <th></th>\n",
       "    </tr>\n",
       "  </thead>\n",
       "  <tbody>\n",
       "  </tbody>\n",
       "</table>\n",
       "</div>"
      ],
      "text/plain": [
       "Empty DataFrame\n",
       "Columns: []\n",
       "Index: []"
      ]
     },
     "execution_count": 33,
     "metadata": {},
     "output_type": "execute_result"
    },
    {
     "name": "stdout",
     "output_type": "stream",
     "text": [
      "\r",
      "♫♫♫ > DUET LIVE STATUS  -  Objects: 3  Requests: 0   Messages: 19  Request Handlers: 0                                \r"
     ]
    }
   ],
   "source": [
    "duet.requests.pandas"
   ]
  },
  {
   "cell_type": "markdown",
   "id": "4d923286",
   "metadata": {},
   "source": [
    "### Get the computation results from store and decrypt them locally"
   ]
  },
  {
   "cell_type": "code",
   "execution_count": 36,
   "id": "36d36598",
   "metadata": {},
   "outputs": [
    {
     "data": {
      "text/plain": [
       "<tenseal.tensors.ckksvector.CKKSVector at 0x7f0d024f0bb0>"
      ]
     },
     "execution_count": 36,
     "metadata": {},
     "output_type": "execute_result"
    },
    {
     "name": "stdout",
     "output_type": "stream",
     "text": [
      "\r",
      "♫♫♫ > DUET LIVE STATUS  -  Objects: 10  Requests: 0   Messages: 35  Request Handlers: 0                                \r"
     ]
    }
   ],
   "source": [
    "# Validate the encrypted add\n",
    "result_add = duet.store[\"result_add\"].get(delete_obj=False)\n",
    "result_add.link_context(context)\n",
    "\n",
    "result_add"
   ]
  },
  {
   "cell_type": "code",
   "execution_count": 37,
   "id": "27cc8f01",
   "metadata": {},
   "outputs": [
    {
     "name": "stdout",
     "output_type": "stream",
     "text": [
      "Regular addition: [4, 4, 4, 4, 4]\n",
      "Decrypted addition: [4.0, 4.000000001, 3.999999998, 3.999999999, 3.999999999]  \n",
      "♫♫♫ > DUET LIVE STATUS  *  Objects: 10  Requests: 0   Messages: 52  Request Handlers: 0                                \r"
     ]
    }
   ],
   "source": [
    "decrypted_result = result_add.decrypt()\n",
    "regular_add = [v1 + v2 for v1, v2 in zip(v1, v2)]\n",
    "assert pytest.approx(decrypted_result, abs=10**-3) == regular_add\n",
    "\n",
    "decrypted_result = [round(r, 9) for r in decrypted_result]\n",
    "print(f\"Regular addition: {regular_add}\\n\"\n",
    "      f\"Decrypted addition: {decrypted_result}  \")"
   ]
  },
  {
   "cell_type": "code",
   "execution_count": 39,
   "id": "b4e53590",
   "metadata": {},
   "outputs": [
    {
     "data": {
      "text/plain": [
       "[10.000000000211422,\n",
       " 10.99999999971608,\n",
       " 11.999999998863512,\n",
       " 13.000000000434593,\n",
       " 13.999999998977376]"
      ]
     },
     "execution_count": 39,
     "metadata": {},
     "output_type": "execute_result"
    },
    {
     "name": "stdout",
     "output_type": "stream",
     "text": [
      "\r",
      "♫♫♫ > DUET LIVE STATUS  -  Objects: 10  Requests: 0   Messages: 52  Request Handlers: 0                                \r"
     ]
    }
   ],
   "source": [
    "# Validate the encrypted - plain add\n",
    "result_iadd = duet.store[\"result_iadd\"].get(delete_obj=False)\n",
    "result_iadd.link_context(context)\n",
    "\n",
    "decrypted_result = result_iadd.decrypt()\n",
    "assert pytest.approx(decrypted_result, abs=10**-3) == [v1 + v2 for v1, v2 in zip(v1, [10, 10, 10, 10, 10])]\n",
    "\n",
    "decrypted_result"
   ]
  },
  {
   "cell_type": "code",
   "execution_count": 19,
   "id": "62b2095c",
   "metadata": {},
   "outputs": [
    {
     "data": {
      "text/plain": [
       "[-3.9999999988133346,\n",
       " -2.0000000008387535,\n",
       " -4.566482747492273e-10,\n",
       " 1.9999999997726194,\n",
       " 3.999999999601287]"
      ]
     },
     "execution_count": 19,
     "metadata": {},
     "output_type": "execute_result"
    }
   ],
   "source": [
    "# Validate the encrypted subtraction\n",
    "\n",
    "result_sub = duet.store[\"result_sub\"].get(delete_obj=False)\n",
    "result_sub.link_context(context)\n",
    "\n",
    "decrypted_result = result_sub.decrypt()\n",
    "assert pytest.approx(decrypted_result, abs=10**-3) == [v1 - v2 for v1, v2 in zip(v1, v2)]\n",
    "\n",
    "decrypted_result"
   ]
  },
  {
   "cell_type": "code",
   "execution_count": 40,
   "id": "a123783d",
   "metadata": {
    "scrolled": false
   },
   "outputs": [
    {
     "name": "stdout",
     "output_type": "stream",
     "text": [
      "Regular multiplication: [0, 3, 4, 3, 0]\n",
      "Decrypted multiplication: [0.0, 3.000000402, 4.000000533, 3.000000399, -0.0]\n",
      "♫♫♫ > DUET LIVE STATUS  -  Objects: 10  Requests: 0   Messages: 52  Request Handlers: 0                                \r"
     ]
    }
   ],
   "source": [
    "# Validate the encrypted multiplication\n",
    "\n",
    "result_mul = duet.store[\"result_mul\"].get(delete_obj=False)\n",
    "result_mul.link_context(context)\n",
    "\n",
    "decrypted_result = result_mul.decrypt()\n",
    "regular_mult = [v1 * v2 for v1, v2 in zip(v1, v2)]\n",
    "assert pytest.approx(decrypted_result, abs=10**-3) == regular_mult\n",
    "\n",
    "decrypted_result = [round(r, 9) for r in decrypted_result]\n",
    "\n",
    "print(f\"Regular multiplication: {regular_mult}\\n\"\n",
    "      f\"Decrypted multiplication: {decrypted_result}\")"
   ]
  },
  {
   "cell_type": "code",
   "execution_count": 21,
   "id": "7f5ad746",
   "metadata": {},
   "outputs": [
    {
     "data": {
      "text/plain": [
       "[2.6648017126262857e-10,\n",
       " 1.000000801047932,\n",
       " 8.000006433330313,\n",
       " 27.00002172229583,\n",
       " 64.00005148961425]"
      ]
     },
     "execution_count": 21,
     "metadata": {},
     "output_type": "execute_result"
    }
   ],
   "source": [
    "# Validate the encrypted power\n",
    "\n",
    "result_pow = duet.store[\"result_pow\"].get(delete_obj=False)\n",
    "result_pow.link_context(context)\n",
    "\n",
    "decrypted_result = result_pow.decrypt()\n",
    "assert pytest.approx(decrypted_result, abs=10**-3) == [v ** 3 for v in v1]\n",
    "\n",
    "decrypted_result"
   ]
  },
  {
   "cell_type": "code",
   "execution_count": 22,
   "id": "499b0387",
   "metadata": {},
   "outputs": [
    {
     "data": {
      "text/plain": [
       "[-8.498008963186976e-10,\n",
       " -0.9999999992972732,\n",
       " -1.999999999847142,\n",
       " -2.999999999827181,\n",
       " -3.999999999872858]"
      ]
     },
     "execution_count": 22,
     "metadata": {},
     "output_type": "execute_result"
    }
   ],
   "source": [
    "# Validate the encrypted negation\n",
    "\n",
    "result_neg = duet.store[\"result_neg\"].get(delete_obj=False)\n",
    "result_neg.link_context(context)\n",
    "\n",
    "decrypted_result = result_neg.decrypt()\n",
    "assert pytest.approx(decrypted_result, abs=10**-3) == [-v for v in v1]\n",
    "\n",
    "decrypted_result"
   ]
  },
  {
   "cell_type": "code",
   "execution_count": 23,
   "id": "1ee126b9",
   "metadata": {},
   "outputs": [
    {
     "name": "stdout",
     "output_type": "stream",
     "text": [
      "Regular polynom: [1, 3, 13, 37, 81]\n",
      "Decrypted polynom: [1.0, 3.000000933, 13.000006968, 37.000022929, 81.000053635]\n"
     ]
    }
   ],
   "source": [
    "# Validate the encrypted polynomial evaluation for 1 + X^2 + X^3\n",
    "\n",
    "result_poly = duet.store[\"result_poly\"].get(delete_obj=False)\n",
    "result_poly.link_context(context)\n",
    "\n",
    "decrypted_result = result_poly.decrypt()\n",
    "regular_poly = [1 + v**2 + v**3 for v in v1]\n",
    "assert pytest.approx(decrypted_result, abs=10**-3) == regular_poly\n",
    "\n",
    "decrypted_result = [round(r, 9) for r in decrypted_result]\n",
    "\n",
    "print(f\"Regular polynom: {regular_poly}\\n\"\n",
    "      f\"Decrypted polynom: {decrypted_result}\")"
   ]
  }
 ],
 "metadata": {
  "kernelspec": {
   "display_name": "Python 3 (ipykernel)",
   "language": "python",
   "name": "python3"
  },
  "language_info": {
   "codemirror_mode": {
    "name": "ipython",
    "version": 3
   },
   "file_extension": ".py",
   "mimetype": "text/x-python",
   "name": "python",
   "nbconvert_exporter": "python",
   "pygments_lexer": "ipython3",
   "version": "3.8.8"
  }
 },
 "nbformat": 4,
 "nbformat_minor": 5
}
